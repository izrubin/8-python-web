{
 "cells": [
  {
   "cell_type": "markdown",
   "metadata": {},
   "source": [
    "# Notebook 8.1 RESTful GBIF\n",
    "\n",
    "This notebook will introduce you to methods for parsing data from the web by accessing websites that have RESTful APIs. In the next notebook we will continue to other methods for parsing data from the web as well. \n",
    "\n",
    "These notebook will involve two core aspects: (1) Working with RESTful APIs, which we discussed briefly in lecture; and (2) Parsing HTML text. The first is much easier since the data that we query from the web is returned in a form that is easy to interpret and *meant* to be parsed and analyzed, whereas the second way requires us to learn a little about how the internet works, which is also useful stuff to know. So let's get started. You'll need to install the two libraries below. "
   ]
  },
  {
   "cell_type": "code",
   "execution_count": 1,
   "metadata": {},
   "outputs": [],
   "source": [
    "# conda install beautifulsoup4\n",
    "# conda install requests"
   ]
  },
  {
   "cell_type": "code",
   "execution_count": 1,
   "metadata": {},
   "outputs": [],
   "source": [
    "import toyplot\n",
    "import requests\n",
    "import pandas as pd\n"
   ]
  },
  {
   "cell_type": "markdown",
   "metadata": {},
   "source": [
    "### The design of REST APIs. \n",
    "The idea behind REST APIs is that data on a server (like a webpage) can be accessed with a consistent type of argument in the form of a URL, to query data which will then be returned in a form that is easy to analyze (usually json or xml), as opposed to being returned in messy HTML that needs to be parsed. Many websites have REST APIs, but some are much easier to use than others. "
   ]
  },
  {
   "cell_type": "markdown",
   "metadata": {},
   "source": [
    "### Limits\n",
    "Many REST APIs have limits on the way that you can use them. For example, the REST APIs for Twitter, GitHub, and Reddit require that you login in order to access data, and some sites will throttle how many requests you can make per hour. Although usually sites with a REST API are intended to be searched, the tools we will learn here can be used to search almost any website. It is important to know that some sites will intentionally block you if you try too aggressively to scrape data from them. For example, google scholar and genbank both have limits on the number of queries you can make per hour. "
   ]
  },
  {
   "cell_type": "markdown",
   "metadata": {},
   "source": [
    "### Good REST APIs\n",
    "A good REST API will have good directions for its usage. Two very good examples are the [USDA Bison API](https://bison.usgs.gov/#api) and the [Global Biodiversity Information Facility (GBIF) API](https://www.gbif.org/developer/summary). We'll focus on the latter in this notebook. The GBIF database is an international effort to collect all observation data on plants, animals, and fungi into a single place where it can be searched. It is actually a conglomeration of many separate databases, with data from museums and similar institutions all over the world. These APIs are free to use but request that you cite them if the data is used in a publication eventually. "
   ]
  },
  {
   "cell_type": "markdown",
   "metadata": {},
   "source": [
    "### What does GBIF do?\n",
    "GBIF can be used to find specimen collection records, or other types of observation data, stored in museum type databases. The website offers a convenient way to request taxa by name, and to select specific research criteria. For example, if we wanted to find all specimens of bumblebees (genus *Bombus*) that were collected between 1910 and 1920 we could request this through the website. It will draw a nice map with their locations and you can download a table with coordinates of where they were collected. This is actually one of the best databases around, since it organizes the data quite easily for you to download, but nevertheless, we'll use it as our example to learn REST APIs. \n",
    "\n",
    "Even though GBIF has a very nice web interface, it is obviously often more efficient to be able to query this database programmatically, instead of having to type each name we wish to search, and click on several buttons. This can provide a much more powerful way of applying filters over many different types of searches. That is the idea behind REST APIs and the reason why GBIF provides one. "
   ]
  },
  {
   "cell_type": "markdown",
   "metadata": {},
   "source": [
    "### The base-url\n",
    "The base URL is the web address of the API. This is simply a string that we wil add arguments to in order to request particular types of data be returned to use from the database. For GBIF this is the following, which we'll store as a string for now. This base-url address is given to us right at the top of the [GBIF API documentation](https://www.gbif.org/developer/occurrence). You can see that it looks much like any other web address. "
   ]
  },
  {
   "cell_type": "code",
   "execution_count": 2,
   "metadata": {},
   "outputs": [],
   "source": [
    "baseurl = \"http://api.gbif.org/v1/occurrence/search?\""
   ]
  },
  {
   "cell_type": "markdown",
   "metadata": {},
   "source": [
    "### How to query GBIF\n",
    "As you can see in the URL below, an API query just has additional arguments added to the baseurl. The string below searches for records with the name *Bombus*, which is the genus for bumblebees. We've added just the 'query' option 'q' and the name. We'll see next how to make more complex queries. But first, copy the URL below (without the quotation marks around it) and paste it into a web browser. This will show you what the returned data looks like. It might look a bit different depending on which browser you are using (I recommend using firefox or chrome) but the underlying data is the same, and is called JSON data."
   ]
  },
  {
   "cell_type": "code",
   "execution_count": 13,
   "metadata": {},
   "outputs": [],
   "source": [
    "search_url = \"http://api.gbif.org/v1/occurrence/search?q=Bombus\""
   ]
  },
  {
   "cell_type": "markdown",
   "metadata": {},
   "source": [
    "### JSON format\n",
    "We will be using the `requests` library to get data from online, but before we do, let's talk a bit about how the data will be structured so we know what to expect. The data that you should see in your browser now is called JSON formatted data.  You'll notice that this format is almost identical to what a Python dictionary looks like. It is composed of key:value pairs. This will make it particularly easy to work with. "
   ]
  },
  {
   "cell_type": "markdown",
   "metadata": {},
   "source": [
    "### Requests\n",
    "\n",
    "[Documentation](http://docs.python-requests.org/en/master/user/quickstart/)\n",
    "\n",
    "The `requests` package work a lot like an automated web browser. We've used `requests` briefly in the past but now we'll start to use it more effectively. The main function we will call is `.get()`, which will send a GET command to the web address and return a Response Class object. We will then access attributes and functions of the Response instance to see if our request worked, and to parse the resulting text from it. Let's try this on our `search_url` string defined above. "
   ]
  },
  {
   "cell_type": "code",
   "execution_count": 14,
   "metadata": {},
   "outputs": [],
   "source": [
    "# create a Response instance from a request\n",
    "response = requests.get(search_url)\n"
   ]
  },
  {
   "cell_type": "code",
   "execution_count": 15,
   "metadata": {},
   "outputs": [
    {
     "data": {
      "text/plain": [
       "200"
      ]
     },
     "execution_count": 15,
     "metadata": {},
     "output_type": "execute_result"
    }
   ],
   "source": [
    "# check that your request worked (200 = worked; other codes No))\n",
    "response.status_code "
   ]
  },
  {
   "cell_type": "code",
   "execution_count": 16,
   "metadata": {},
   "outputs": [],
   "source": [
    "# this would return the error message if it didn't work (else None)\n",
    "response.raise_for_status()"
   ]
  },
  {
   "cell_type": "markdown",
   "metadata": {},
   "source": [
    "### Parse a Response\n",
    "Before when we've used `requests` we've parsed the results as plain text, since it was usually in a format that was easiest to work with as a string. In this case, we are going to access the data a bit differently, by instead  accessing it in JSON format. This is easily available from the object just like text is. The first is not very easily readable or parseable, whereas the second can be accessed and searched more easily. "
   ]
  },
  {
   "cell_type": "code",
   "execution_count": 19,
   "metadata": {},
   "outputs": [
    {
     "data": {
      "text/plain": [
       "'{\"offset\":0,\"limit\":20,\"endOfRecords\":false,\"count\":1048303,\"results\":[{\"key\":131330107,\"datasetKey\":\"86aba78e-f762-11e1-a439-00145eb45e9a\",\"publishingOrgKey\":\"8595cd50-87c0-11dc-bb35-b8a03c50a862\",\"publishingCountry\":\"BR\",\"protocol\":\"DIGIR\",\"lastCrawled\":\"2013-09-07T07:05:27.000+0000\",\"crawlId\":1,\"extensions\":{},\"basisOfRecord\":\"PRESERVED_SPECIMEN\",\"taxonKey\":1340307,\"kingdomKey\":1,\"phylumKey\":54,\"classKey\":216,\"orderKey\":1457,\"familyKey\":4334,\"genusKey\":1340278,\"speciesKey\":1340307,\"scientific'"
      ]
     },
     "execution_count": 19,
     "metadata": {},
     "output_type": "execute_result"
    }
   ],
   "source": [
    "# first 500 characters of the .text string\n",
    "response.text[:500]"
   ]
  },
  {
   "cell_type": "code",
   "execution_count": 18,
   "metadata": {},
   "outputs": [
    {
     "data": {
      "text/plain": [
       "['facets', 'count', 'limit', 'offset', 'results', 'endOfRecords']"
      ]
     },
     "execution_count": 18,
     "metadata": {},
     "output_type": "execute_result"
    }
   ],
   "source": [
    "# or, get results as a dictionary (JSON converted)\n",
    "rdict = response.json()\n",
    "\n",
    "# get some quick info on the dictionary items\n",
    "list(rdict.keys())"
   ]
  },
  {
   "cell_type": "markdown",
   "metadata": {},
   "source": [
    "### Parsing the results\n",
    "In GBIF our response can be parsed into a dictionary object using the JSON format, and this as six keys shown above. These are explained in the API docs, and correspond to information about what records are available for our query. However, it did not return *all* of the data for those records to us yet. That would be too easy. Instead, databases usually have limits on the amount of data from each request as a way of limiting the bandwidth they will need for sending the data, and to make it faster. For GBIF the default number, shown under the \"limit\" key, is 20. And the default starting position, shown under \"offset\" is 0. The total number of records is in \"count\". So for *Bombus*, as we show below, there are 1,048,303 records, but on records 1-20 were returned to us so far."
   ]
  },
  {
   "cell_type": "code",
   "execution_count": 20,
   "metadata": {},
   "outputs": [
    {
     "data": {
      "text/plain": [
       "1048303"
      ]
     },
     "execution_count": 20,
     "metadata": {},
     "output_type": "execute_result"
    }
   ],
   "source": [
    "## how many records are there for this query\n",
    "rdict[\"count\"]"
   ]
  },
  {
   "cell_type": "code",
   "execution_count": 21,
   "metadata": {},
   "outputs": [
    {
     "data": {
      "text/plain": [
       "20"
      ]
     },
     "execution_count": 21,
     "metadata": {},
     "output_type": "execute_result"
    }
   ],
   "source": [
    "## how many records were returned\n",
    "rdict[\"limit\"]"
   ]
  },
  {
   "cell_type": "code",
   "execution_count": 24,
   "metadata": {},
   "outputs": [
    {
     "data": {
      "text/plain": [
       "0"
      ]
     },
     "execution_count": 24,
     "metadata": {},
     "output_type": "execute_result"
    }
   ],
   "source": [
    "## starting from which record\n",
    "rdict[\"offset\"]"
   ]
  },
  {
   "cell_type": "markdown",
   "metadata": {},
   "source": [
    "### So where's the data?\n",
    "It's stored under the `results` variable, and is returned as a list of dictionaries, where each dictionary is a record with lots of information. Below I show the first record from our search. "
   ]
  },
  {
   "cell_type": "code",
   "execution_count": 25,
   "metadata": {},
   "outputs": [
    {
     "data": {
      "text/plain": [
       "{'basisOfRecord': 'PRESERVED_SPECIMEN',\n",
       " 'catalogNumber': '6416',\n",
       " 'class': 'Insecta',\n",
       " 'classKey': 216,\n",
       " 'collectionCode': 'CEPANN',\n",
       " 'continent': 'SOUTH_AMERICA',\n",
       " 'country': 'Brazil',\n",
       " 'countryCode': 'BR',\n",
       " 'crawlId': 1,\n",
       " 'datasetKey': '86aba78e-f762-11e1-a439-00145eb45e9a',\n",
       " 'decimalLatitude': 0.0,\n",
       " 'decimalLongitude': 0.0,\n",
       " 'extensions': {},\n",
       " 'facts': [],\n",
       " 'family': 'Apidae',\n",
       " 'familyKey': 4334,\n",
       " 'gbifID': '131330107',\n",
       " 'genericName': 'Bombus',\n",
       " 'genus': 'Bombus',\n",
       " 'genusKey': 1340278,\n",
       " 'geodeticDatum': 'WGS84',\n",
       " 'identifiers': [],\n",
       " 'institutionCode': 'USP',\n",
       " 'issues': ['ZERO_COORDINATE',\n",
       "  'GEODETIC_DATUM_ASSUMED_WGS84',\n",
       "  'COUNTRY_COORDINATE_MISMATCH'],\n",
       " 'key': 131330107,\n",
       " 'kingdom': 'Animalia',\n",
       " 'kingdomKey': 1,\n",
       " 'lastCrawled': '2013-09-07T07:05:27.000+0000',\n",
       " 'lastInterpreted': '2018-02-04T02:00:19.037+0000',\n",
       " 'license': 'http://creativecommons.org/licenses/by/4.0/legalcode',\n",
       " 'order': 'Hymenoptera',\n",
       " 'orderKey': 1457,\n",
       " 'phylum': 'Arthropoda',\n",
       " 'phylumKey': 54,\n",
       " 'protocol': 'DIGIR',\n",
       " 'publishingCountry': 'BR',\n",
       " 'publishingOrgKey': '8595cd50-87c0-11dc-bb35-b8a03c50a862',\n",
       " 'recordedBy': '-',\n",
       " 'relations': [],\n",
       " 'scientificName': 'Bombus morio (Swederus, 1787)',\n",
       " 'species': 'Bombus morio',\n",
       " 'speciesKey': 1340307,\n",
       " 'specificEpithet': 'morio',\n",
       " 'taxonKey': 1340307,\n",
       " 'taxonRank': 'SPECIES'}"
      ]
     },
     "execution_count": 25,
     "metadata": {},
     "output_type": "execute_result"
    }
   ],
   "source": [
    "# here is the first record, it's also a dictionary\n",
    "rdict[\"results\"][0]"
   ]
  },
  {
   "cell_type": "code",
   "execution_count": 26,
   "metadata": {},
   "outputs": [
    {
     "data": {
      "text/html": [
       "<div>\n",
       "<style scoped>\n",
       "    .dataframe tbody tr th:only-of-type {\n",
       "        vertical-align: middle;\n",
       "    }\n",
       "\n",
       "    .dataframe tbody tr th {\n",
       "        vertical-align: top;\n",
       "    }\n",
       "\n",
       "    .dataframe thead th {\n",
       "        text-align: right;\n",
       "    }\n",
       "</style>\n",
       "<table border=\"1\" class=\"dataframe\">\n",
       "  <thead>\n",
       "    <tr style=\"text-align: right;\">\n",
       "      <th></th>\n",
       "      <th>basisOfRecord</th>\n",
       "      <th>catalogNumber</th>\n",
       "      <th>class</th>\n",
       "      <th>classKey</th>\n",
       "      <th>collectionCode</th>\n",
       "      <th>continent</th>\n",
       "      <th>country</th>\n",
       "      <th>countryCode</th>\n",
       "      <th>county</th>\n",
       "      <th>crawlId</th>\n",
       "      <th>...</th>\n",
       "      <th>publishingOrgKey</th>\n",
       "      <th>recordedBy</th>\n",
       "      <th>relations</th>\n",
       "      <th>scientificName</th>\n",
       "      <th>species</th>\n",
       "      <th>speciesKey</th>\n",
       "      <th>specificEpithet</th>\n",
       "      <th>stateProvince</th>\n",
       "      <th>taxonKey</th>\n",
       "      <th>taxonRank</th>\n",
       "    </tr>\n",
       "  </thead>\n",
       "  <tbody>\n",
       "    <tr>\n",
       "      <th>0</th>\n",
       "      <td>PRESERVED_SPECIMEN</td>\n",
       "      <td>6416</td>\n",
       "      <td>Insecta</td>\n",
       "      <td>216</td>\n",
       "      <td>CEPANN</td>\n",
       "      <td>SOUTH_AMERICA</td>\n",
       "      <td>Brazil</td>\n",
       "      <td>BR</td>\n",
       "      <td>NaN</td>\n",
       "      <td>1</td>\n",
       "      <td>...</td>\n",
       "      <td>8595cd50-87c0-11dc-bb35-b8a03c50a862</td>\n",
       "      <td>-</td>\n",
       "      <td>[]</td>\n",
       "      <td>Bombus morio (Swederus, 1787)</td>\n",
       "      <td>Bombus morio</td>\n",
       "      <td>1340307.0</td>\n",
       "      <td>morio</td>\n",
       "      <td>NaN</td>\n",
       "      <td>1340307</td>\n",
       "      <td>SPECIES</td>\n",
       "    </tr>\n",
       "    <tr>\n",
       "      <th>1</th>\n",
       "      <td>PRESERVED_SPECIMEN</td>\n",
       "      <td>9002</td>\n",
       "      <td>Insecta</td>\n",
       "      <td>216</td>\n",
       "      <td>CEMeC</td>\n",
       "      <td>NaN</td>\n",
       "      <td>Brazil</td>\n",
       "      <td>BR</td>\n",
       "      <td>Milagres</td>\n",
       "      <td>1</td>\n",
       "      <td>...</td>\n",
       "      <td>8595cd50-87c0-11dc-bb35-b8a03c50a862</td>\n",
       "      <td>NaN</td>\n",
       "      <td>[]</td>\n",
       "      <td>Bombus morio (Swederus, 1787)</td>\n",
       "      <td>Bombus morio</td>\n",
       "      <td>1340307.0</td>\n",
       "      <td>morio</td>\n",
       "      <td>Bahia</td>\n",
       "      <td>1340307</td>\n",
       "      <td>SPECIES</td>\n",
       "    </tr>\n",
       "    <tr>\n",
       "      <th>2</th>\n",
       "      <td>UNKNOWN</td>\n",
       "      <td>43781</td>\n",
       "      <td>Insecta</td>\n",
       "      <td>216</td>\n",
       "      <td>2007_Mongol</td>\n",
       "      <td>NaN</td>\n",
       "      <td>NaN</td>\n",
       "      <td>None</td>\n",
       "      <td>NaN</td>\n",
       "      <td>12</td>\n",
       "      <td>...</td>\n",
       "      <td>be11c6a0-7cf5-11dc-92cb-b8a03c50a862</td>\n",
       "      <td>NaN</td>\n",
       "      <td>[]</td>\n",
       "      <td>Bombus margreiteri Skorikov</td>\n",
       "      <td>Bombus margreiteri</td>\n",
       "      <td>9055570.0</td>\n",
       "      <td>margreiteri</td>\n",
       "      <td>NaN</td>\n",
       "      <td>9055570</td>\n",
       "      <td>SPECIES</td>\n",
       "    </tr>\n",
       "    <tr>\n",
       "      <th>3</th>\n",
       "      <td>PRESERVED_SPECIMEN</td>\n",
       "      <td>91583</td>\n",
       "      <td>Insecta</td>\n",
       "      <td>216</td>\n",
       "      <td>ZEN</td>\n",
       "      <td>NaN</td>\n",
       "      <td>NaN</td>\n",
       "      <td>None</td>\n",
       "      <td>NaN</td>\n",
       "      <td>17</td>\n",
       "      <td>...</td>\n",
       "      <td>4c415e40-1e21-11de-9e40-a0d6ecebb8bf</td>\n",
       "      <td>NaN</td>\n",
       "      <td>[]</td>\n",
       "      <td>Bombus Latreille, 1802</td>\n",
       "      <td>NaN</td>\n",
       "      <td>NaN</td>\n",
       "      <td>NaN</td>\n",
       "      <td>NaN</td>\n",
       "      <td>1340278</td>\n",
       "      <td>GENUS</td>\n",
       "    </tr>\n",
       "    <tr>\n",
       "      <th>4</th>\n",
       "      <td>PRESERVED_SPECIMEN</td>\n",
       "      <td>94807</td>\n",
       "      <td>Insecta</td>\n",
       "      <td>216</td>\n",
       "      <td>ZEN</td>\n",
       "      <td>NaN</td>\n",
       "      <td>NaN</td>\n",
       "      <td>None</td>\n",
       "      <td>NaN</td>\n",
       "      <td>17</td>\n",
       "      <td>...</td>\n",
       "      <td>4c415e40-1e21-11de-9e40-a0d6ecebb8bf</td>\n",
       "      <td>NaN</td>\n",
       "      <td>[]</td>\n",
       "      <td>Bombus Latreille, 1802</td>\n",
       "      <td>NaN</td>\n",
       "      <td>NaN</td>\n",
       "      <td>NaN</td>\n",
       "      <td>NaN</td>\n",
       "      <td>1340278</td>\n",
       "      <td>GENUS</td>\n",
       "    </tr>\n",
       "  </tbody>\n",
       "</table>\n",
       "<p>5 rows × 56 columns</p>\n",
       "</div>"
      ],
      "text/plain": [
       "        basisOfRecord catalogNumber    class  classKey collectionCode  \\\n",
       "0  PRESERVED_SPECIMEN          6416  Insecta       216         CEPANN   \n",
       "1  PRESERVED_SPECIMEN          9002  Insecta       216          CEMeC   \n",
       "2             UNKNOWN         43781  Insecta       216    2007_Mongol   \n",
       "3  PRESERVED_SPECIMEN         91583  Insecta       216            ZEN   \n",
       "4  PRESERVED_SPECIMEN         94807  Insecta       216            ZEN   \n",
       "\n",
       "       continent country countryCode    county  crawlId    ...     \\\n",
       "0  SOUTH_AMERICA  Brazil          BR       NaN        1    ...      \n",
       "1            NaN  Brazil          BR  Milagres        1    ...      \n",
       "2            NaN     NaN        None       NaN       12    ...      \n",
       "3            NaN     NaN        None       NaN       17    ...      \n",
       "4            NaN     NaN        None       NaN       17    ...      \n",
       "\n",
       "                       publishingOrgKey  recordedBy  relations  \\\n",
       "0  8595cd50-87c0-11dc-bb35-b8a03c50a862           -         []   \n",
       "1  8595cd50-87c0-11dc-bb35-b8a03c50a862         NaN         []   \n",
       "2  be11c6a0-7cf5-11dc-92cb-b8a03c50a862         NaN         []   \n",
       "3  4c415e40-1e21-11de-9e40-a0d6ecebb8bf         NaN         []   \n",
       "4  4c415e40-1e21-11de-9e40-a0d6ecebb8bf         NaN         []   \n",
       "\n",
       "                  scientificName             species speciesKey  \\\n",
       "0  Bombus morio (Swederus, 1787)        Bombus morio  1340307.0   \n",
       "1  Bombus morio (Swederus, 1787)        Bombus morio  1340307.0   \n",
       "2    Bombus margreiteri Skorikov  Bombus margreiteri  9055570.0   \n",
       "3         Bombus Latreille, 1802                 NaN        NaN   \n",
       "4         Bombus Latreille, 1802                 NaN        NaN   \n",
       "\n",
       "   specificEpithet stateProvince taxonKey taxonRank  \n",
       "0            morio           NaN  1340307   SPECIES  \n",
       "1            morio         Bahia  1340307   SPECIES  \n",
       "2      margreiteri           NaN  9055570   SPECIES  \n",
       "3              NaN           NaN  1340278     GENUS  \n",
       "4              NaN           NaN  1340278     GENUS  \n",
       "\n",
       "[5 rows x 56 columns]"
      ]
     },
     "execution_count": 26,
     "metadata": {},
     "output_type": "execute_result"
    }
   ],
   "source": [
    "# or to see it prettier, convert records to a DataFrame\n",
    "pd.DataFrame(rdict[\"results\"]).head()"
   ]
  },
  {
   "cell_type": "markdown",
   "metadata": {},
   "source": [
    "### Building a request\n",
    "Here we add more arguments to further filter the results. To see which options are available, you can either look at the results from our existing calls so far, or you can read further into the API docs. Sometimes API docs will be incomplete though, so it can be useful to learn to try to infer which options are possible from looking at the results. A more complex search is accomplished by building a URL that has more key:value pairs each appended to the end of the URL, and separated by a \"&\" symbol. For large searches it begins to get difficult to write out by hand, and that is where `requests` comes in handy. Here we enter the additional arguments we want using a simple python dictionary into the entry 'params'. Below I show the URL for when we add the requirement that a record have coordinate data, and for when we add additional arguments to raise the limit for the number of records returned. The max records at a time (limit - offset) is 300. Above that you need to increment the offset to search higher values."
   ]
  },
  {
   "cell_type": "code",
   "execution_count": 15,
   "metadata": {},
   "outputs": [
    {
     "data": {
      "text/plain": [
       "'http://api.gbif.org/v1/occurrence/search?hasCoordinate=true&q=Bombus'"
      ]
     },
     "execution_count": 15,
     "metadata": {},
     "output_type": "execute_result"
    }
   ],
   "source": [
    "# add requirement that the record have coordinate data\n",
    "res = requests.get(\n",
    "    url=baseurl, \n",
    "    params={\n",
    "        \"q\": \"Bombus\", \n",
    "        \"hasCoordinate\": \"true\",\n",
    "    }\n",
    ")\n",
    "res.url"
   ]
  },
  {
   "cell_type": "code",
   "execution_count": 27,
   "metadata": {},
   "outputs": [
    {
     "data": {
      "text/plain": [
       "'http://api.gbif.org/v1/occurrence/search?hasCoordinate=true&limit=100&q=Bombus&offset=0'"
      ]
     },
     "execution_count": 27,
     "metadata": {},
     "output_type": "execute_result"
    }
   ],
   "source": [
    "# request records 0-100\n",
    "res = requests.get(\n",
    "    url=baseurl, \n",
    "    params={\n",
    "        \"q\": \"Bombus\", \n",
    "        \"hasCoordinate\": \"true\",\n",
    "        \"offset\": \"0\", \n",
    "        \"limit\": \"100\"\n",
    "    }\n",
    ")\n",
    "res.url"
   ]
  },
  {
   "cell_type": "markdown",
   "metadata": {},
   "source": [
    "### A complex search\n",
    "Here I request all Bombus records from 1900-1910 that are associated with a preserved speciment (as opposed to HUMAN_OBSERVATION or FOSSIL_SPECIMEN), has spatial data, and is in the US. The 'count' shows us that there are 4,977 records meeting these requirements. We requested the max of 300 records. "
   ]
  },
  {
   "cell_type": "code",
   "execution_count": 33,
   "metadata": {},
   "outputs": [
    {
     "data": {
      "text/plain": [
       "4977"
      ]
     },
     "execution_count": 33,
     "metadata": {},
     "output_type": "execute_result"
    }
   ],
   "source": [
    "res = requests.get(\n",
    "    url=baseurl, \n",
    "    params={\n",
    "        \"q\": \"Bombus\", \n",
    "        \"year\": \"1900,1910\", \n",
    "        \"basisOfRecord\": \"PRESERVED_SPECIMEN\",\n",
    "        \"hasCoordinate\": \"true\",\n",
    "        \"hasGeospatialIssue\": \"false\",\n",
    "        \"country\": \"US\",\n",
    "        \"offset\": \"0\",\n",
    "        \"limit\": \"300\"\n",
    "    },\n",
    ")\n",
    "r2dict = res.json()\n",
    "r2dict[\"count\"]"
   ]
  },
  {
   "cell_type": "code",
   "execution_count": 34,
   "metadata": {},
   "outputs": [
    {
     "data": {
      "text/plain": [
       "4977"
      ]
     },
     "execution_count": 34,
     "metadata": {},
     "output_type": "execute_result"
    }
   ],
   "source": [
    "res = requests.get(\n",
    "    url=baseurl, \n",
    "    params={\n",
    "        \"q\": \"Bombus\", \n",
    "        \"year\": \"1900,1910\", \n",
    "        \"basisOfRecord\": \"PRESERVED_SPECIMEN\",\n",
    "        \"hasCoordinate\": \"true\",\n",
    "        \"hasGeospatialIssue\": \"false\",\n",
    "        \"country\": \"US\",\n",
    "        \"offset\": \"300\",\n",
    "        \"limit\": \"300\"\n",
    "    },\n",
    ")\n",
    "r1dict = res.json()\n",
    "r1dict[\"count\"]"
   ]
  },
  {
   "cell_type": "markdown",
   "metadata": {},
   "source": [
    "### Combining many searches\n",
    "If we wanted to collect all records for a given search then we need to increment the \"offset\" argument until we reach the end of the records. Each is returned as a list of dictionaries, so we can just join all of those lists together and return them. "
   ]
  },
  {
   "cell_type": "code",
   "execution_count": 35,
   "metadata": {},
   "outputs": [],
   "source": [
    "def get_all_records(searchparams):\n",
    "    \"iterate until end of records\"\n",
    "    start = 0\n",
    "    data = []\n",
    "    \n",
    "    while 1:\n",
    "        # make request and store results\n",
    "        res = requests.get(\n",
    "            url=baseurl, \n",
    "            params=searchparams,\n",
    "        )\n",
    "        # increment counter\n",
    "        searchparams[\"offset\"] = str(int(searchparams[\"offset\"]) + 300)\n",
    "        \n",
    "        # concatenate data \n",
    "        idata = res.json()\n",
    "        data += idata[\"results\"]\n",
    "        \n",
    "        # stop when end of record is reached\n",
    "        if idata[\"endOfRecords\"]:\n",
    "            break\n",
    "        \n",
    "    return data"
   ]
  },
  {
   "cell_type": "code",
   "execution_count": 36,
   "metadata": {},
   "outputs": [],
   "source": [
    "# make params dictionary\n",
    "searchparams = {\n",
    "    \"q\": \"Bombus\", \n",
    "    \"year\": \"1900,1910\", \n",
    "    \"basisOfRecord\": \"PRESERVED_SPECIMEN\",\n",
    "    \"hasCoordinate\": \"true\",\n",
    "    \"hasGeospatialIssue\": \"false\",\n",
    "    \"country\": \"US\",\n",
    "    \"offset\": \"0\",\n",
    "    \"limit\": \"300\"\n",
    "}\n",
    "\n",
    "# call function to search over all offset values until end\n",
    "data = get_all_records(searchparams)"
   ]
  },
  {
   "cell_type": "markdown",
   "metadata": {},
   "source": [
    "### The full data"
   ]
  },
  {
   "cell_type": "code",
   "execution_count": 37,
   "metadata": {},
   "outputs": [],
   "source": [
    "# convert to a data frame\n",
    "df = pd.DataFrame(data)"
   ]
  },
  {
   "cell_type": "code",
   "execution_count": 38,
   "metadata": {
    "scrolled": false
   },
   "outputs": [
    {
     "data": {
      "text/plain": [
       "['accessRights',\n",
       " 'associatedReferences',\n",
       " 'associatedTaxa',\n",
       " 'basisOfRecord',\n",
       " 'bibliographicCitation',\n",
       " 'catalogNumber',\n",
       " 'class',\n",
       " 'classKey',\n",
       " 'collectionCode',\n",
       " 'collectionID',\n",
       " 'continent',\n",
       " 'coordinatePrecision',\n",
       " 'coordinateUncertaintyInMeters',\n",
       " 'country',\n",
       " 'countryCode',\n",
       " 'county',\n",
       " 'crawlId',\n",
       " 'datasetID',\n",
       " 'datasetKey',\n",
       " 'datasetName',\n",
       " 'dateIdentified',\n",
       " 'day',\n",
       " 'decimalLatitude',\n",
       " 'decimalLongitude',\n",
       " 'disposition',\n",
       " 'dynamicProperties',\n",
       " 'elevation',\n",
       " 'elevationAccuracy',\n",
       " 'endDayOfYear',\n",
       " 'eventDate',\n",
       " 'eventRemarks',\n",
       " 'extensions',\n",
       " 'facts',\n",
       " 'family',\n",
       " 'familyKey',\n",
       " 'fieldNotes',\n",
       " 'gbifID',\n",
       " 'genericName',\n",
       " 'genus',\n",
       " 'genusKey',\n",
       " 'geodeticDatum',\n",
       " 'georeferenceProtocol',\n",
       " 'georeferenceRemarks',\n",
       " 'georeferenceSources',\n",
       " 'georeferencedBy',\n",
       " 'higherClassification',\n",
       " 'higherGeography',\n",
       " 'http://unknown.org/recordEnteredBy',\n",
       " 'http://unknown.org/recordId',\n",
       " 'identifiedBy',\n",
       " 'identifier',\n",
       " 'identifiers',\n",
       " 'individualCount',\n",
       " 'infraspecificEpithet',\n",
       " 'institutionCode',\n",
       " 'institutionID',\n",
       " 'issues',\n",
       " 'key',\n",
       " 'kingdom',\n",
       " 'kingdomKey',\n",
       " 'language',\n",
       " 'lastCrawled',\n",
       " 'lastInterpreted',\n",
       " 'lastParsed',\n",
       " 'license',\n",
       " 'lifeStage',\n",
       " 'locality',\n",
       " 'media',\n",
       " 'modified',\n",
       " 'month',\n",
       " 'nomenclaturalCode',\n",
       " 'occurrenceID',\n",
       " 'occurrenceRemarks',\n",
       " 'order',\n",
       " 'orderKey',\n",
       " 'organismID',\n",
       " 'ownerInstitutionCode',\n",
       " 'phylum',\n",
       " 'phylumKey',\n",
       " 'preparations',\n",
       " 'previousIdentifications',\n",
       " 'protocol',\n",
       " 'publishingCountry',\n",
       " 'publishingOrgKey',\n",
       " 'recordedBy',\n",
       " 'references',\n",
       " 'relations',\n",
       " 'rights',\n",
       " 'rightsHolder',\n",
       " 'samplingProtocol',\n",
       " 'scientificName',\n",
       " 'scientificNameID',\n",
       " 'sex',\n",
       " 'source',\n",
       " 'species',\n",
       " 'speciesKey',\n",
       " 'specificEpithet',\n",
       " 'startDayOfYear',\n",
       " 'stateProvince',\n",
       " 'taxonKey',\n",
       " 'taxonRank',\n",
       " 'taxonRemarks',\n",
       " 'type',\n",
       " 'typeStatus',\n",
       " 'verbatimEventDate',\n",
       " 'vernacularName',\n",
       " 'year']"
      ]
     },
     "execution_count": 38,
     "metadata": {},
     "output_type": "execute_result"
    }
   ],
   "source": [
    "# keys (columns) in the dataframe (there are many!)\n",
    "list(df.columns)"
   ]
  },
  {
   "cell_type": "code",
   "execution_count": 40,
   "metadata": {},
   "outputs": [
    {
     "data": {
      "text/html": [
       "<div>\n",
       "<style scoped>\n",
       "    .dataframe tbody tr th:only-of-type {\n",
       "        vertical-align: middle;\n",
       "    }\n",
       "\n",
       "    .dataframe tbody tr th {\n",
       "        vertical-align: top;\n",
       "    }\n",
       "\n",
       "    .dataframe thead th {\n",
       "        text-align: right;\n",
       "    }\n",
       "</style>\n",
       "<table border=\"1\" class=\"dataframe\">\n",
       "  <thead>\n",
       "    <tr style=\"text-align: right;\">\n",
       "      <th></th>\n",
       "      <th>species</th>\n",
       "      <th>year</th>\n",
       "      <th>decimalLatitude</th>\n",
       "      <th>decimalLongitude</th>\n",
       "    </tr>\n",
       "  </thead>\n",
       "  <tbody>\n",
       "    <tr>\n",
       "      <th>0</th>\n",
       "      <td>Bombus ternarius</td>\n",
       "      <td>1908</td>\n",
       "      <td>45.06167</td>\n",
       "      <td>-83.43278</td>\n",
       "    </tr>\n",
       "    <tr>\n",
       "      <th>1</th>\n",
       "      <td>Bombus ternarius</td>\n",
       "      <td>1909</td>\n",
       "      <td>39.75556</td>\n",
       "      <td>-105.22056</td>\n",
       "    </tr>\n",
       "    <tr>\n",
       "      <th>2</th>\n",
       "      <td>Bombus sylvicola</td>\n",
       "      <td>1907</td>\n",
       "      <td>53.86500</td>\n",
       "      <td>-166.52700</td>\n",
       "    </tr>\n",
       "    <tr>\n",
       "      <th>3</th>\n",
       "      <td>Bombus pensylvanicus</td>\n",
       "      <td>1909</td>\n",
       "      <td>37.72722</td>\n",
       "      <td>-89.21667</td>\n",
       "    </tr>\n",
       "    <tr>\n",
       "      <th>4</th>\n",
       "      <td>Bombus vagans</td>\n",
       "      <td>1907</td>\n",
       "      <td>42.17000</td>\n",
       "      <td>-88.29000</td>\n",
       "    </tr>\n",
       "  </tbody>\n",
       "</table>\n",
       "</div>"
      ],
      "text/plain": [
       "                species  year  decimalLatitude  decimalLongitude\n",
       "0      Bombus ternarius  1908         45.06167         -83.43278\n",
       "1      Bombus ternarius  1909         39.75556        -105.22056\n",
       "2      Bombus sylvicola  1907         53.86500        -166.52700\n",
       "3  Bombus pensylvanicus  1909         37.72722         -89.21667\n",
       "4         Bombus vagans  1907         42.17000         -88.29000"
      ]
     },
     "execution_count": 40,
     "metadata": {},
     "output_type": "execute_result"
    }
   ],
   "source": [
    "# view just the columns we're interested in for now.\n",
    "sdf = df[[\"species\", \"year\", \"decimalLatitude\", \"decimalLongitude\"]]\n",
    "sdf.head()"
   ]
  },
  {
   "cell_type": "code",
   "execution_count": 41,
   "metadata": {},
   "outputs": [
    {
     "data": {
      "text/plain": [
       "(4977, 4)"
      ]
     },
     "execution_count": 41,
     "metadata": {},
     "output_type": "execute_result"
    }
   ],
   "source": [
    "# how many records?\n",
    "sdf.shape"
   ]
  },
  {
   "cell_type": "code",
   "execution_count": 50,
   "metadata": {},
   "outputs": [
    {
     "data": {
      "text/plain": [
       "array(['Bombus ternarius', 'Bombus sylvicola', 'Bombus pensylvanicus',\n",
       "       'Bombus vagans', 'Bombus terricola', 'Bombus fervidus',\n",
       "       'Bombus balteatus', 'Bombus variabilis', 'Bombus centralis',\n",
       "       'Bombus huntii', 'Bombus auricomus', 'Bombus nevadensis',\n",
       "       'Bombus impatiens', 'Bombus rufocinctus', 'Bombus appositus',\n",
       "       'Bombus fraternus', 'Bombus griseocollis', 'Bombus ashtoni',\n",
       "       'Bombus insularis', 'Bombus vosnesenskii', 'Bombus vandykei',\n",
       "       'Bombus bifarius', 'Bombus affinis', 'Bombus borealis',\n",
       "       'Bombus morrisoni', 'Bombus citrinus', 'Bombus perplexus',\n",
       "       'Bombus fernaldae', 'Bombus melanopygus', 'Bombus weisi',\n",
       "       'Bombus hyperboreus', 'Bombus mixtus', 'Bombus flavifrons',\n",
       "       'Bombus sandersoni', 'Bombus crotchii', 'Bombus bimaculatus',\n",
       "       'Bombus caliginosus', 'Bombus occidentalis', nan,\n",
       "       'Bombus cockerelli', 'Bombus lapponicus', 'Bombus californicus',\n",
       "       'Bombus suckleyi', 'Bombus patagiatus', 'Bombus sitkensis',\n",
       "       'Bombus sonorus', 'Bombus neoboreus', 'Bombus rufosuffusus',\n",
       "       'Bombus separatus'], dtype=object)"
      ]
     },
     "execution_count": 50,
     "metadata": {},
     "output_type": "execute_result"
    }
   ],
   "source": [
    "# which unique species?\n",
    "sdf.species.unique()"
   ]
  },
  {
   "cell_type": "code",
   "execution_count": 48,
   "metadata": {},
   "outputs": [
    {
     "data": {
      "text/plain": [
       "48"
      ]
     },
     "execution_count": 48,
     "metadata": {},
     "output_type": "execute_result"
    }
   ],
   "source": [
    "# exclude nan/null and count species\n",
    "mask = sdf.species.notnull()\n",
    "df.species[mask].unique().size"
   ]
  },
  {
   "cell_type": "code",
   "execution_count": 53,
   "metadata": {},
   "outputs": [
    {
     "data": {
      "text/html": [
       "<div class=\"toyplot\" id=\"t4df9175c2aa146159123301f2438c5fb\" style=\"text-align:center\"><svg class=\"toyplot-canvas-Canvas\" height=\"350.0px\" id=\"t0713ca0879c44577a342c0ee78f59d0b\" preserveAspectRatio=\"xMidYMid meet\" style=\"background-color:transparent;fill:rgb(16.1%,15.3%,14.1%);fill-opacity:1.0;font-family:Helvetica;font-size:12px;opacity:1.0;stroke:rgb(16.1%,15.3%,14.1%);stroke-opacity:1.0;stroke-width:1.0\" viewBox=\"0 0 600 350.0\" width=\"600px\" xmlns=\"http://www.w3.org/2000/svg\" xmlns:toyplot=\"http://www.sandia.gov/toyplot\" xmlns:xlink=\"http://www.w3.org/1999/xlink\"><g class=\"toyplot-coordinates-Cartesian\" id=\"t3b9a239e88b347d1b36eba4078950563\"><clipPath id=\"tf078a7f748f84bd5881dc7f4d7fa38ed\"><rect height=\"270.0\" width=\"520.0\" x=\"40.0\" y=\"40.0\"></rect></clipPath><g clip-path=\"url(#tf078a7f748f84bd5881dc7f4d7fa38ed)\"><g class=\"toyplot-mark-BarMagnitudes\" id=\"t60ce1161b35d4527b4ad1e1bbd076863\" style=\"stroke:rgb(100%,100%,100%);stroke-opacity:1.0;stroke-width:1.0\"><g class=\"toyplot-Series\"><rect class=\"toyplot-Datum\" height=\"237.08333333333334\" style=\"fill:rgb(40%,76.1%,64.7%);fill-opacity:1.0;opacity:1.0;stroke:rgb(100%,100%,100%);stroke-opacity:1.0;stroke-width:1.0\" width=\"9.9009900990099027\" x=\"50.0\" y=\"62.916666666666664\"><title>Bombus occidentalis</title></rect><rect class=\"toyplot-Datum\" height=\"182.08333333333334\" style=\"fill:rgb(40%,76.1%,64.7%);fill-opacity:1.0;opacity:1.0;stroke:rgb(100%,100%,100%);stroke-opacity:1.0;stroke-width:1.0\" width=\"9.9009900990099027\" x=\"59.900990099009903\" y=\"117.91666666666666\"><title>Bombus fervidus</title></rect><rect class=\"toyplot-Datum\" height=\"170.41666666666669\" style=\"fill:rgb(40%,76.1%,64.7%);fill-opacity:1.0;opacity:1.0;stroke:rgb(100%,100%,100%);stroke-opacity:1.0;stroke-width:1.0\" width=\"9.9009900990098885\" x=\"69.801980198019805\" y=\"129.58333333333331\"><title>Bombus pensylvanicus</title></rect><rect class=\"toyplot-Datum\" height=\"149.16666666666666\" style=\"fill:rgb(40%,76.1%,64.7%);fill-opacity:1.0;opacity:1.0;stroke:rgb(100%,100%,100%);stroke-opacity:1.0;stroke-width:1.0\" width=\"9.9009900990099169\" x=\"79.702970297029694\" y=\"150.83333333333334\"><title>Bombus impatiens</title></rect><rect class=\"toyplot-Datum\" height=\"145.0\" style=\"fill:rgb(40%,76.1%,64.7%);fill-opacity:1.0;opacity:1.0;stroke:rgb(100%,100%,100%);stroke-opacity:1.0;stroke-width:1.0\" width=\"9.9009900990099027\" x=\"89.603960396039611\" y=\"155.0\"><title>Bombus bifarius</title></rect><rect class=\"toyplot-Datum\" height=\"132.5\" style=\"fill:rgb(40%,76.1%,64.7%);fill-opacity:1.0;opacity:1.0;stroke:rgb(100%,100%,100%);stroke-opacity:1.0;stroke-width:1.0\" width=\"9.9009900990098885\" x=\"99.504950495049513\" y=\"167.5\"><title>Bombus vagans</title></rect><rect class=\"toyplot-Datum\" height=\"107.08333333333334\" style=\"fill:rgb(40%,76.1%,64.7%);fill-opacity:1.0;opacity:1.0;stroke:rgb(100%,100%,100%);stroke-opacity:1.0;stroke-width:1.0\" width=\"9.9009900990099169\" x=\"109.4059405940594\" y=\"192.91666666666666\"><title>Bombus griseocollis</title></rect><rect class=\"toyplot-Datum\" height=\"88.75\" style=\"fill:rgb(40%,76.1%,64.7%);fill-opacity:1.0;opacity:1.0;stroke:rgb(100%,100%,100%);stroke-opacity:1.0;stroke-width:1.0\" width=\"9.9009900990099027\" x=\"119.30693069306932\" y=\"211.25\"><title>Bombus vosnesenskii</title></rect><rect class=\"toyplot-Datum\" height=\"75.416666666666686\" style=\"fill:rgb(40%,76.1%,64.7%);fill-opacity:1.0;opacity:1.0;stroke:rgb(100%,100%,100%);stroke-opacity:1.0;stroke-width:1.0\" width=\"9.9009900990098743\" x=\"129.20792079207922\" y=\"224.58333333333331\"><title>Bombus terricola</title></rect><rect class=\"toyplot-Datum\" height=\"68.75\" style=\"fill:rgb(40%,76.1%,64.7%);fill-opacity:1.0;opacity:1.0;stroke:rgb(100%,100%,100%);stroke-opacity:1.0;stroke-width:1.0\" width=\"9.9009900990099311\" x=\"139.1089108910891\" y=\"231.25\"><title>Bombus appositus</title></rect><rect class=\"toyplot-Datum\" height=\"65.0\" style=\"fill:rgb(40%,76.1%,64.7%);fill-opacity:1.0;opacity:1.0;stroke:rgb(100%,100%,100%);stroke-opacity:1.0;stroke-width:1.0\" width=\"9.9009900990099027\" x=\"149.00990099009903\" y=\"235.0\"><title>Bombus flavifrons</title></rect><rect class=\"toyplot-Datum\" height=\"58.333333333333371\" style=\"fill:rgb(40%,76.1%,64.7%);fill-opacity:1.0;opacity:1.0;stroke:rgb(100%,100%,100%);stroke-opacity:1.0;stroke-width:1.0\" width=\"9.9009900990098743\" x=\"158.91089108910893\" y=\"241.66666666666663\"><title>Bombus centralis</title></rect><rect class=\"toyplot-Datum\" height=\"55.0\" style=\"fill:rgb(40%,76.1%,64.7%);fill-opacity:1.0;opacity:1.0;stroke:rgb(100%,100%,100%);stroke-opacity:1.0;stroke-width:1.0\" width=\"9.9009900990099027\" x=\"168.8118811881188\" y=\"245.0\"><title>Bombus affinis</title></rect><rect class=\"toyplot-Datum\" height=\"43.75\" style=\"fill:rgb(40%,76.1%,64.7%);fill-opacity:1.0;opacity:1.0;stroke:rgb(100%,100%,100%);stroke-opacity:1.0;stroke-width:1.0\" width=\"9.9009900990099311\" x=\"178.71287128712871\" y=\"256.25\"><title>Bombus californicus</title></rect><rect class=\"toyplot-Datum\" height=\"42.5\" style=\"fill:rgb(40%,76.1%,64.7%);fill-opacity:1.0;opacity:1.0;stroke:rgb(100%,100%,100%);stroke-opacity:1.0;stroke-width:1.0\" width=\"9.9009900990098743\" x=\"188.61386138613864\" y=\"257.5\"><title>Bombus insularis</title></rect><rect class=\"toyplot-Datum\" height=\"42.5\" style=\"fill:rgb(40%,76.1%,64.7%);fill-opacity:1.0;opacity:1.0;stroke:rgb(100%,100%,100%);stroke-opacity:1.0;stroke-width:1.0\" width=\"9.9009900990099311\" x=\"198.51485148514851\" y=\"257.5\"><title>Bombus variabilis</title></rect><rect class=\"toyplot-Datum\" height=\"41.25\" style=\"fill:rgb(40%,76.1%,64.7%);fill-opacity:1.0;opacity:1.0;stroke:rgb(100%,100%,100%);stroke-opacity:1.0;stroke-width:1.0\" width=\"9.9009900990099027\" x=\"208.41584158415844\" y=\"258.75\"><title>Bombus huntii</title></rect><rect class=\"toyplot-Datum\" height=\"40.0\" style=\"fill:rgb(40%,76.1%,64.7%);fill-opacity:1.0;opacity:1.0;stroke:rgb(100%,100%,100%);stroke-opacity:1.0;stroke-width:1.0\" width=\"9.9009900990098458\" x=\"218.31683168316835\" y=\"260.0\"><title>Bombus rufocinctus</title></rect><rect class=\"toyplot-Datum\" height=\"35.833333333333314\" style=\"fill:rgb(40%,76.1%,64.7%);fill-opacity:1.0;opacity:1.0;stroke:rgb(100%,100%,100%);stroke-opacity:1.0;stroke-width:1.0\" width=\"9.9009900990099311\" x=\"228.21782178217819\" y=\"264.16666666666669\"><title>Bombus ternarius</title></rect><rect class=\"toyplot-Datum\" height=\"34.583333333333314\" style=\"fill:rgb(40%,76.1%,64.7%);fill-opacity:1.0;opacity:1.0;stroke:rgb(100%,100%,100%);stroke-opacity:1.0;stroke-width:1.0\" width=\"9.9009900990099027\" x=\"238.11881188118812\" y=\"265.41666666666669\"><title>Bombus morrisoni</title></rect><rect class=\"toyplot-Datum\" height=\"25.416666666666686\" style=\"fill:rgb(40%,76.1%,64.7%);fill-opacity:1.0;opacity:1.0;stroke:rgb(100%,100%,100%);stroke-opacity:1.0;stroke-width:1.0\" width=\"9.9009900990098743\" x=\"248.01980198019803\" y=\"274.58333333333331\"><title>Bombus auricomus</title></rect><rect class=\"toyplot-Datum\" height=\"24.583333333333314\" style=\"fill:rgb(40%,76.1%,64.7%);fill-opacity:1.0;opacity:1.0;stroke:rgb(100%,100%,100%);stroke-opacity:1.0;stroke-width:1.0\" width=\"9.9009900990099595\" x=\"257.9207920792079\" y=\"275.41666666666669\"><title>Bombus fraternus</title></rect><rect class=\"toyplot-Datum\" height=\"21.666666666666686\" style=\"fill:rgb(40%,76.1%,64.7%);fill-opacity:1.0;opacity:1.0;stroke:rgb(100%,100%,100%);stroke-opacity:1.0;stroke-width:1.0\" width=\"9.9009900990099027\" x=\"267.82178217821786\" y=\"278.33333333333331\"><title>Bombus bimaculatus</title></rect><rect class=\"toyplot-Datum\" height=\"18.333333333333314\" style=\"fill:rgb(40%,76.1%,64.7%);fill-opacity:1.0;opacity:1.0;stroke:rgb(100%,100%,100%);stroke-opacity:1.0;stroke-width:1.0\" width=\"9.9009900990098458\" x=\"277.72277227722776\" y=\"281.66666666666669\"><title>Bombus melanopygus</title></rect><rect class=\"toyplot-Datum\" height=\"13.75\" style=\"fill:rgb(40%,76.1%,64.7%);fill-opacity:1.0;opacity:1.0;stroke:rgb(100%,100%,100%);stroke-opacity:1.0;stroke-width:1.0\" width=\"9.9009900990099595\" x=\"287.62376237623761\" y=\"286.25\"><title>Bombus perplexus</title></rect><rect class=\"toyplot-Datum\" height=\"12.916666666666686\" style=\"fill:rgb(40%,76.1%,64.7%);fill-opacity:1.0;opacity:1.0;stroke:rgb(100%,100%,100%);stroke-opacity:1.0;stroke-width:1.0\" width=\"9.9009900990098458\" x=\"297.52475247524757\" y=\"287.08333333333331\"><title>Bombus mixtus</title></rect><rect class=\"toyplot-Datum\" height=\"12.083333333333314\" style=\"fill:rgb(40%,76.1%,64.7%);fill-opacity:1.0;opacity:1.0;stroke:rgb(100%,100%,100%);stroke-opacity:1.0;stroke-width:1.0\" width=\"9.9009900990099595\" x=\"307.42574257425741\" y=\"287.91666666666669\"><title>Bombus nevadensis</title></rect><rect class=\"toyplot-Datum\" height=\"12.083333333333314\" style=\"fill:rgb(40%,76.1%,64.7%);fill-opacity:1.0;opacity:1.0;stroke:rgb(100%,100%,100%);stroke-opacity:1.0;stroke-width:1.0\" width=\"9.9009900990099027\" x=\"317.32673267326737\" y=\"287.91666666666669\"><title>Bombus fernaldae</title></rect><rect class=\"toyplot-Datum\" height=\"10.833333333333314\" style=\"fill:rgb(40%,76.1%,64.7%);fill-opacity:1.0;opacity:1.0;stroke:rgb(100%,100%,100%);stroke-opacity:1.0;stroke-width:1.0\" width=\"9.900990099009789\" x=\"327.22772277227727\" y=\"289.16666666666669\"><title>Bombus citrinus</title></rect><rect class=\"toyplot-Datum\" height=\"7.0833333333333144\" style=\"fill:rgb(40%,76.1%,64.7%);fill-opacity:1.0;opacity:1.0;stroke:rgb(100%,100%,100%);stroke-opacity:1.0;stroke-width:1.0\" width=\"9.9009900990099595\" x=\"337.12871287128706\" y=\"292.91666666666669\"><title>Bombus caliginosus</title></rect><rect class=\"toyplot-Datum\" height=\"4.5833333333333144\" style=\"fill:rgb(40%,76.1%,64.7%);fill-opacity:1.0;opacity:1.0;stroke:rgb(100%,100%,100%);stroke-opacity:1.0;stroke-width:1.0\" width=\"9.9009900990099027\" x=\"347.02970297029702\" y=\"295.41666666666669\"><title>Bombus sylvicola</title></rect><rect class=\"toyplot-Datum\" height=\"4.1666666666666856\" style=\"fill:rgb(40%,76.1%,64.7%);fill-opacity:1.0;opacity:1.0;stroke:rgb(100%,100%,100%);stroke-opacity:1.0;stroke-width:1.0\" width=\"9.9009900990099595\" x=\"356.93069306930693\" y=\"295.83333333333331\"><title>Bombus ashtoni</title></rect><rect class=\"toyplot-Datum\" height=\"3.75\" style=\"fill:rgb(40%,76.1%,64.7%);fill-opacity:1.0;opacity:1.0;stroke:rgb(100%,100%,100%);stroke-opacity:1.0;stroke-width:1.0\" width=\"9.9009900990098458\" x=\"366.83168316831689\" y=\"296.25\"><title>Bombus vandykei</title></rect><rect class=\"toyplot-Datum\" height=\"3.3333333333333144\" style=\"fill:rgb(40%,76.1%,64.7%);fill-opacity:1.0;opacity:1.0;stroke:rgb(100%,100%,100%);stroke-opacity:1.0;stroke-width:1.0\" width=\"9.9009900990099595\" x=\"376.73267326732673\" y=\"296.66666666666669\"><title>Bombus crotchii</title></rect><rect class=\"toyplot-Datum\" height=\"3.3333333333333144\" style=\"fill:rgb(40%,76.1%,64.7%);fill-opacity:1.0;opacity:1.0;stroke:rgb(100%,100%,100%);stroke-opacity:1.0;stroke-width:1.0\" width=\"9.9009900990098458\" x=\"386.63366336633669\" y=\"296.66666666666669\"><title>Bombus suckleyi</title></rect><rect class=\"toyplot-Datum\" height=\"2.9166666666666856\" style=\"fill:rgb(40%,76.1%,64.7%);fill-opacity:1.0;opacity:1.0;stroke:rgb(100%,100%,100%);stroke-opacity:1.0;stroke-width:1.0\" width=\"9.9009900990098458\" x=\"396.53465346534654\" y=\"297.08333333333331\"><title>Bombus borealis</title></rect><rect class=\"toyplot-Datum\" height=\"2.9166666666666856\" style=\"fill:rgb(40%,76.1%,64.7%);fill-opacity:1.0;opacity:1.0;stroke:rgb(100%,100%,100%);stroke-opacity:1.0;stroke-width:1.0\" width=\"9.9009900990099595\" x=\"406.43564356435638\" y=\"297.08333333333331\"><title>Bombus balteatus</title></rect><rect class=\"toyplot-Datum\" height=\"2.9166666666666856\" style=\"fill:rgb(40%,76.1%,64.7%);fill-opacity:1.0;opacity:1.0;stroke:rgb(100%,100%,100%);stroke-opacity:1.0;stroke-width:1.0\" width=\"9.9009900990099027\" x=\"416.33663366336634\" y=\"297.08333333333331\"><title>Bombus lapponicus</title></rect><rect class=\"toyplot-Datum\" height=\"2.5\" style=\"fill:rgb(40%,76.1%,64.7%);fill-opacity:1.0;opacity:1.0;stroke:rgb(100%,100%,100%);stroke-opacity:1.0;stroke-width:1.0\" width=\"9.9009900990099027\" x=\"426.23762376237624\" y=\"297.5\"><title>Bombus sandersoni</title></rect><rect class=\"toyplot-Datum\" height=\"2.0833333333333144\" style=\"fill:rgb(40%,76.1%,64.7%);fill-opacity:1.0;opacity:1.0;stroke:rgb(100%,100%,100%);stroke-opacity:1.0;stroke-width:1.0\" width=\"9.9009900990099027\" x=\"436.13861386138615\" y=\"297.91666666666669\"><title>Bombus sitkensis</title></rect><rect class=\"toyplot-Datum\" height=\"1.25\" style=\"fill:rgb(40%,76.1%,64.7%);fill-opacity:1.0;opacity:1.0;stroke:rgb(100%,100%,100%);stroke-opacity:1.0;stroke-width:1.0\" width=\"9.9009900990099027\" x=\"446.03960396039605\" y=\"298.75\"><title>Bombus cockerelli</title></rect><rect class=\"toyplot-Datum\" height=\"0.83333333333331439\" style=\"fill:rgb(40%,76.1%,64.7%);fill-opacity:1.0;opacity:1.0;stroke:rgb(100%,100%,100%);stroke-opacity:1.0;stroke-width:1.0\" width=\"9.9009900990099027\" x=\"455.94059405940595\" y=\"299.16666666666669\"><title>Bombus weisi</title></rect><rect class=\"toyplot-Datum\" height=\"0.83333333333331439\" style=\"fill:rgb(40%,76.1%,64.7%);fill-opacity:1.0;opacity:1.0;stroke:rgb(100%,100%,100%);stroke-opacity:1.0;stroke-width:1.0\" width=\"9.9009900990098458\" x=\"465.84158415841586\" y=\"299.16666666666669\"><title>Bombus hyperboreus</title></rect><rect class=\"toyplot-Datum\" height=\"0.83333333333331439\" style=\"fill:rgb(40%,76.1%,64.7%);fill-opacity:1.0;opacity:1.0;stroke:rgb(100%,100%,100%);stroke-opacity:1.0;stroke-width:1.0\" width=\"9.9009900990099595\" x=\"475.7425742574257\" y=\"299.16666666666669\"><title>Bombus patagiatus</title></rect><rect class=\"toyplot-Datum\" height=\"0.41666666666668561\" style=\"fill:rgb(40%,76.1%,64.7%);fill-opacity:1.0;opacity:1.0;stroke:rgb(100%,100%,100%);stroke-opacity:1.0;stroke-width:1.0\" width=\"9.9009900990099027\" x=\"485.64356435643566\" y=\"299.58333333333331\"><title>Bombus neoboreus</title></rect><rect class=\"toyplot-Datum\" height=\"0.41666666666668561\" style=\"fill:rgb(40%,76.1%,64.7%);fill-opacity:1.0;opacity:1.0;stroke:rgb(100%,100%,100%);stroke-opacity:1.0;stroke-width:1.0\" width=\"9.9009900990099027\" x=\"495.54455445544556\" y=\"299.58333333333331\"><title>Bombus separatus</title></rect><rect class=\"toyplot-Datum\" height=\"0.41666666666668561\" style=\"fill:rgb(40%,76.1%,64.7%);fill-opacity:1.0;opacity:1.0;stroke:rgb(100%,100%,100%);stroke-opacity:1.0;stroke-width:1.0\" width=\"9.9009900990099027\" x=\"505.44554455445547\" y=\"299.58333333333331\"><title>Bombus rufosuffusus</title></rect><rect class=\"toyplot-Datum\" height=\"0.41666666666668561\" style=\"fill:rgb(40%,76.1%,64.7%);fill-opacity:1.0;opacity:1.0;stroke:rgb(100%,100%,100%);stroke-opacity:1.0;stroke-width:1.0\" width=\"9.9009900990098458\" x=\"515.34653465346537\" y=\"299.58333333333331\"><title>Bombus sonorus</title></rect></g></g></g><g class=\"toyplot-coordinates-Axis\" id=\"t55008e9491d246e6b752030f2a83c623\" transform=\"translate(50.0,300.0)translate(0,10.0)\"><line style=\"\" x1=\"0\" x2=\"475.2475247524752\" y1=\"0\" y2=\"0\"></line><g><g transform=\"translate(4.9504950495049505,6)\"><text style=\"fill:rgb(16.1%,15.3%,14.1%);fill-opacity:1.0;font-family:helvetica;font-size:10.0px;font-weight:normal;stroke:none;vertical-align:baseline;white-space:pre\" x=\"-2.78\" y=\"8.555\">0</text></g><g transform=\"translate(103.96039603960395,6)\"><text style=\"fill:rgb(16.1%,15.3%,14.1%);fill-opacity:1.0;font-family:helvetica;font-size:10.0px;font-weight:normal;stroke:none;vertical-align:baseline;white-space:pre\" x=\"-5.56\" y=\"8.555\">10</text></g><g transform=\"translate(202.97029702970298,6)\"><text style=\"fill:rgb(16.1%,15.3%,14.1%);fill-opacity:1.0;font-family:helvetica;font-size:10.0px;font-weight:normal;stroke:none;vertical-align:baseline;white-space:pre\" x=\"-5.56\" y=\"8.555\">20</text></g><g transform=\"translate(301.98019801980195,6)\"><text style=\"fill:rgb(16.1%,15.3%,14.1%);fill-opacity:1.0;font-family:helvetica;font-size:10.0px;font-weight:normal;stroke:none;vertical-align:baseline;white-space:pre\" x=\"-5.56\" y=\"8.555\">30</text></g><g transform=\"translate(400.99009900990103,6)\"><text style=\"fill:rgb(16.1%,15.3%,14.1%);fill-opacity:1.0;font-family:helvetica;font-size:10.0px;font-weight:normal;stroke:none;vertical-align:baseline;white-space:pre\" x=\"-5.56\" y=\"8.555\">40</text></g><g transform=\"translate(500.0,6)\"><text style=\"fill:rgb(16.1%,15.3%,14.1%);fill-opacity:1.0;font-family:helvetica;font-size:10.0px;font-weight:normal;stroke:none;vertical-align:baseline;white-space:pre\" x=\"-5.56\" y=\"8.555\">50</text></g></g><g class=\"toyplot-coordinates-Axis-coordinates\" style=\"visibility:hidden\" transform=\"\"><line style=\"stroke:rgb(43.9%,50.2%,56.5%);stroke-opacity:1.0;stroke-width:1.0\" x1=\"0\" x2=\"0\" y1=\"-3.0\" y2=\"4.5\"></line><text style=\"alignment-baseline:alphabetic;fill:rgb(43.9%,50.2%,56.5%);fill-opacity:1.0;font-size:10px;font-weight:normal;stroke:none;text-anchor:middle\" x=\"0\" y=\"-6\"></text></g></g><g class=\"toyplot-coordinates-Axis\" id=\"tdfb71f97f73445d29d4d293bea17613d\" transform=\"translate(50.0,300.0)rotate(-90.0)translate(0,-10.0)\"><line style=\"\" x1=\"0\" x2=\"237.08333333333334\" y1=\"0\" y2=\"0\"></line><g><g transform=\"translate(0.0,-6)\"><text style=\"fill:rgb(16.1%,15.3%,14.1%);fill-opacity:1.0;font-family:helvetica;font-size:10.0px;font-weight:normal;stroke:none;vertical-align:baseline;white-space:pre\" x=\"-2.78\" y=\"-4.4408920985e-16\">0</text></g><g transform=\"translate(83.33333333333333,-6)\"><text style=\"fill:rgb(16.1%,15.3%,14.1%);fill-opacity:1.0;font-family:helvetica;font-size:10.0px;font-weight:normal;stroke:none;vertical-align:baseline;white-space:pre\" x=\"-8.34\" y=\"-4.4408920985e-16\">200</text></g><g transform=\"translate(166.66666666666666,-6)\"><text style=\"fill:rgb(16.1%,15.3%,14.1%);fill-opacity:1.0;font-family:helvetica;font-size:10.0px;font-weight:normal;stroke:none;vertical-align:baseline;white-space:pre\" x=\"-8.34\" y=\"-4.4408920985e-16\">400</text></g><g transform=\"translate(250.0,-6)\"><text style=\"fill:rgb(16.1%,15.3%,14.1%);fill-opacity:1.0;font-family:helvetica;font-size:10.0px;font-weight:normal;stroke:none;vertical-align:baseline;white-space:pre\" x=\"-8.34\" y=\"-4.4408920985e-16\">600</text></g></g><g class=\"toyplot-coordinates-Axis-coordinates\" style=\"visibility:hidden\" transform=\"\"><line style=\"stroke:rgb(43.9%,50.2%,56.5%);stroke-opacity:1.0;stroke-width:1.0\" x1=\"0\" x2=\"0\" y1=\"3.0\" y2=\"-4.5\"></line><text style=\"alignment-baseline:hanging;fill:rgb(43.9%,50.2%,56.5%);fill-opacity:1.0;font-size:10px;font-weight:normal;stroke:none;text-anchor:middle\" x=\"0\" y=\"6\"></text></g></g></g></svg><div class=\"toyplot-behavior\"><script>(function()\n",
       "{\n",
       "var modules={};\n",
       "modules[\"toyplot/tables\"] = (function()\n",
       "    {\n",
       "        var tables = [];\n",
       "\n",
       "        var module = {};\n",
       "\n",
       "        module.set = function(owner, key, names, columns)\n",
       "        {\n",
       "            tables.push({owner: owner, key: key, names: names, columns: columns});\n",
       "        }\n",
       "\n",
       "        module.get = function(owner, key)\n",
       "        {\n",
       "            for(var i = 0; i != tables.length; ++i)\n",
       "            {\n",
       "                var table = tables[i];\n",
       "                if(table.owner != owner)\n",
       "                    continue;\n",
       "                if(table.key != key)\n",
       "                    continue;\n",
       "                return {names: table.names, columns: table.columns};\n",
       "            }\n",
       "        }\n",
       "\n",
       "        module.get_csv = function(owner, key)\n",
       "        {\n",
       "            var table = module.get(owner, key);\n",
       "            if(table != undefined)\n",
       "            {\n",
       "                var csv = \"\";\n",
       "                csv += table.names.join(\",\") + \"\\n\";\n",
       "                for(var i = 0; i != table.columns[0].length; ++i)\n",
       "                {\n",
       "                  for(var j = 0; j != table.columns.length; ++j)\n",
       "                  {\n",
       "                    if(j)\n",
       "                      csv += \",\";\n",
       "                    csv += table.columns[j][i];\n",
       "                  }\n",
       "                  csv += \"\\n\";\n",
       "                }\n",
       "                return csv;\n",
       "            }\n",
       "        }\n",
       "\n",
       "        return module;\n",
       "    })();\n",
       "modules[\"toyplot/root/id\"] = \"t4df9175c2aa146159123301f2438c5fb\";\n",
       "modules[\"toyplot/root\"] = (function(root_id)\n",
       "    {\n",
       "        return document.querySelector(\"#\" + root_id);\n",
       "    })(modules[\"toyplot/root/id\"]);\n",
       "modules[\"toyplot/canvas/id\"] = \"t0713ca0879c44577a342c0ee78f59d0b\";\n",
       "modules[\"toyplot/canvas\"] = (function(canvas_id)\n",
       "    {\n",
       "        return document.querySelector(\"#\" + canvas_id);\n",
       "    })(modules[\"toyplot/canvas/id\"]);\n",
       "modules[\"toyplot/menus/context\"] = (function(root, canvas)\n",
       "    {\n",
       "        var wrapper = document.createElement(\"div\");\n",
       "        wrapper.innerHTML = \"<ul class='toyplot-context-menu' style='background:#eee; border:1px solid #b8b8b8; border-radius:5px; box-shadow: 0px 0px 8px rgba(0%,0%,0%,0.25); margin:0; padding:3px 0; position:fixed; visibility:hidden;'></ul>\"\n",
       "        var menu = wrapper.firstChild;\n",
       "\n",
       "        root.appendChild(menu);\n",
       "\n",
       "        var items = [];\n",
       "\n",
       "        var ignore_mouseup = null;\n",
       "        function open_menu(e)\n",
       "        {\n",
       "            var show_menu = false;\n",
       "            for(var index=0; index != items.length; ++index)\n",
       "            {\n",
       "                var item = items[index];\n",
       "                if(item.show(e))\n",
       "                {\n",
       "                    item.item.style.display = \"block\";\n",
       "                    show_menu = true;\n",
       "                }\n",
       "                else\n",
       "                {\n",
       "                    item.item.style.display = \"none\";\n",
       "                }\n",
       "            }\n",
       "\n",
       "            if(show_menu)\n",
       "            {\n",
       "                ignore_mouseup = true;\n",
       "                menu.style.left = (e.clientX + 1) + \"px\";\n",
       "                menu.style.top = (e.clientY - 5) + \"px\";\n",
       "                menu.style.visibility = \"visible\";\n",
       "                e.stopPropagation();\n",
       "                e.preventDefault();\n",
       "            }\n",
       "        }\n",
       "\n",
       "        function close_menu()\n",
       "        {\n",
       "            menu.style.visibility = \"hidden\";\n",
       "        }\n",
       "\n",
       "        function contextmenu(e)\n",
       "        {\n",
       "            open_menu(e);\n",
       "        }\n",
       "\n",
       "        function mousemove(e)\n",
       "        {\n",
       "            ignore_mouseup = false;\n",
       "        }\n",
       "\n",
       "        function mouseup(e)\n",
       "        {\n",
       "            if(ignore_mouseup)\n",
       "            {\n",
       "                ignore_mouseup = false;\n",
       "                return;\n",
       "            }\n",
       "            close_menu();\n",
       "        }\n",
       "\n",
       "        function keydown(e)\n",
       "        {\n",
       "            if(e.key == \"Escape\" || e.key == \"Esc\" || e.keyCode == 27)\n",
       "            {\n",
       "                close_menu();\n",
       "            }\n",
       "        }\n",
       "\n",
       "        canvas.addEventListener(\"contextmenu\", contextmenu);\n",
       "        canvas.addEventListener(\"mousemove\", mousemove);\n",
       "        document.addEventListener(\"mouseup\", mouseup);\n",
       "        document.addEventListener(\"keydown\", keydown);\n",
       "\n",
       "        var module = {};\n",
       "        module.add_item = function(label, show, activate)\n",
       "        {\n",
       "            var wrapper = document.createElement(\"div\");\n",
       "            wrapper.innerHTML = \"<li class='toyplot-context-menu-item' style='background:#eee; color:#333; padding:2px 20px; list-style:none; margin:0; text-align:left;'>\" + label + \"</li>\"\n",
       "            var item = wrapper.firstChild;\n",
       "\n",
       "            items.push({item: item, show: show});\n",
       "\n",
       "            function mouseover()\n",
       "            {\n",
       "                this.style.background = \"steelblue\";\n",
       "                this.style.color = \"white\";\n",
       "            }\n",
       "\n",
       "            function mouseout()\n",
       "            {\n",
       "                this.style.background = \"#eee\";\n",
       "                this.style.color = \"#333\";\n",
       "            }\n",
       "\n",
       "            function choose_item(e)\n",
       "            {\n",
       "                close_menu();\n",
       "                activate();\n",
       "\n",
       "                e.stopPropagation();\n",
       "                e.preventDefault();\n",
       "            }\n",
       "\n",
       "            item.addEventListener(\"mouseover\", mouseover);\n",
       "            item.addEventListener(\"mouseout\", mouseout);\n",
       "            item.addEventListener(\"mouseup\", choose_item);\n",
       "            item.addEventListener(\"contextmenu\", choose_item);\n",
       "\n",
       "            menu.appendChild(item);\n",
       "        };\n",
       "        return module;\n",
       "    })(modules[\"toyplot/root\"],modules[\"toyplot/canvas\"]);\n",
       "modules[\"toyplot/io\"] = (function()\n",
       "    {\n",
       "        var module = {};\n",
       "        module.save_file = function(mime_type, charset, data, filename)\n",
       "        {\n",
       "            var uri = \"data:\" + mime_type + \";charset=\" + charset + \",\" + data;\n",
       "            uri = encodeURI(uri);\n",
       "\n",
       "            var link = document.createElement(\"a\");\n",
       "            if(typeof link.download != \"undefined\")\n",
       "            {\n",
       "              link.href = uri;\n",
       "              link.style = \"visibility:hidden\";\n",
       "              link.download = filename;\n",
       "\n",
       "              document.body.appendChild(link);\n",
       "              link.click();\n",
       "              document.body.removeChild(link);\n",
       "            }\n",
       "            else\n",
       "            {\n",
       "              window.open(uri);\n",
       "            }\n",
       "        };\n",
       "        return module;\n",
       "    })();\n",
       "modules[\"toyplot.coordinates.Axis\"] = (\n",
       "        function(canvas)\n",
       "        {\n",
       "            function sign(x)\n",
       "            {\n",
       "                return x < 0 ? -1 : x > 0 ? 1 : 0;\n",
       "            }\n",
       "\n",
       "            function mix(a, b, amount)\n",
       "            {\n",
       "                return ((1.0 - amount) * a) + (amount * b);\n",
       "            }\n",
       "\n",
       "            function log(x, base)\n",
       "            {\n",
       "                return Math.log(Math.abs(x)) / Math.log(base);\n",
       "            }\n",
       "\n",
       "            function in_range(a, x, b)\n",
       "            {\n",
       "                var left = Math.min(a, b);\n",
       "                var right = Math.max(a, b);\n",
       "                return left <= x && x <= right;\n",
       "            }\n",
       "\n",
       "            function inside(range, projection)\n",
       "            {\n",
       "                for(var i = 0; i != projection.length; ++i)\n",
       "                {\n",
       "                    var segment = projection[i];\n",
       "                    if(in_range(segment.range.min, range, segment.range.max))\n",
       "                        return true;\n",
       "                }\n",
       "                return false;\n",
       "            }\n",
       "\n",
       "            function to_domain(range, projection)\n",
       "            {\n",
       "                for(var i = 0; i != projection.length; ++i)\n",
       "                {\n",
       "                    var segment = projection[i];\n",
       "                    if(in_range(segment.range.bounds.min, range, segment.range.bounds.max))\n",
       "                    {\n",
       "                        if(segment.scale == \"linear\")\n",
       "                        {\n",
       "                            var amount = (range - segment.range.min) / (segment.range.max - segment.range.min);\n",
       "                            return mix(segment.domain.min, segment.domain.max, amount)\n",
       "                        }\n",
       "                        else if(segment.scale[0] == \"log\")\n",
       "                        {\n",
       "                            var amount = (range - segment.range.min) / (segment.range.max - segment.range.min);\n",
       "                            var base = segment.scale[1];\n",
       "                            return sign(segment.domain.min) * Math.pow(base, mix(log(segment.domain.min, base), log(segment.domain.max, base), amount));\n",
       "                        }\n",
       "                    }\n",
       "                }\n",
       "            }\n",
       "\n",
       "            var axes = {};\n",
       "\n",
       "            function display_coordinates(e)\n",
       "            {\n",
       "                var current = canvas.createSVGPoint();\n",
       "                current.x = e.clientX;\n",
       "                current.y = e.clientY;\n",
       "\n",
       "                for(var axis_id in axes)\n",
       "                {\n",
       "                    var axis = document.querySelector(\"#\" + axis_id);\n",
       "                    var coordinates = axis.querySelector(\".toyplot-coordinates-Axis-coordinates\");\n",
       "                    if(coordinates)\n",
       "                    {\n",
       "                        var projection = axes[axis_id];\n",
       "                        var local = current.matrixTransform(axis.getScreenCTM().inverse());\n",
       "                        if(inside(local.x, projection))\n",
       "                        {\n",
       "                            var domain = to_domain(local.x, projection);\n",
       "                            coordinates.style.visibility = \"visible\";\n",
       "                            coordinates.setAttribute(\"transform\", \"translate(\" + local.x + \")\");\n",
       "                            var text = coordinates.querySelector(\"text\");\n",
       "                            text.textContent = domain.toFixed(2);\n",
       "                        }\n",
       "                        else\n",
       "                        {\n",
       "                            coordinates.style.visibility= \"hidden\";\n",
       "                        }\n",
       "                    }\n",
       "                }\n",
       "            }\n",
       "\n",
       "            canvas.addEventListener(\"click\", display_coordinates);\n",
       "\n",
       "            var module = {};\n",
       "            module.show_coordinates = function(axis_id, projection)\n",
       "            {\n",
       "                axes[axis_id] = projection;\n",
       "            }\n",
       "\n",
       "            return module;\n",
       "        })(modules[\"toyplot/canvas\"]);\n",
       "(function(tables, context_menu, io, owner_id, key, label, names, columns, filename)\n",
       "        {\n",
       "            tables.set(owner_id, key, names, columns);\n",
       "\n",
       "            var owner = document.querySelector(\"#\" + owner_id);\n",
       "            function show_item(e)\n",
       "            {\n",
       "                return owner.contains(e.target);\n",
       "            }\n",
       "\n",
       "            function choose_item()\n",
       "            {\n",
       "                io.save_file(\"text/csv\", \"utf-8\", tables.get_csv(owner_id, key), filename + \".csv\");\n",
       "            }\n",
       "\n",
       "            context_menu.add_item(\"Save \" + label + \" as CSV\", show_item, choose_item);\n",
       "        })(modules[\"toyplot/tables\"],modules[\"toyplot/menus/context\"],modules[\"toyplot/io\"],\"t60ce1161b35d4527b4ad1e1bbd076863\",\"data\",\"bar data\",[\"left\", \"right\", \"baseline\", \"magnitude0\"],[[-0.5, 0.5, 1.5, 2.5, 3.5, 4.5, 5.5, 6.5, 7.5, 8.5, 9.5, 10.5, 11.5, 12.5, 13.5, 14.5, 15.5, 16.5, 17.5, 18.5, 19.5, 20.5, 21.5, 22.5, 23.5, 24.5, 25.5, 26.5, 27.5, 28.5, 29.5, 30.5, 31.5, 32.5, 33.5, 34.5, 35.5, 36.5, 37.5, 38.5, 39.5, 40.5, 41.5, 42.5, 43.5, 44.5, 45.5, 46.5], [0.5, 1.5, 2.5, 3.5, 4.5, 5.5, 6.5, 7.5, 8.5, 9.5, 10.5, 11.5, 12.5, 13.5, 14.5, 15.5, 16.5, 17.5, 18.5, 19.5, 20.5, 21.5, 22.5, 23.5, 24.5, 25.5, 26.5, 27.5, 28.5, 29.5, 30.5, 31.5, 32.5, 33.5, 34.5, 35.5, 36.5, 37.5, 38.5, 39.5, 40.5, 41.5, 42.5, 43.5, 44.5, 45.5, 46.5, 47.5], [0.0, 0.0, 0.0, 0.0, 0.0, 0.0, 0.0, 0.0, 0.0, 0.0, 0.0, 0.0, 0.0, 0.0, 0.0, 0.0, 0.0, 0.0, 0.0, 0.0, 0.0, 0.0, 0.0, 0.0, 0.0, 0.0, 0.0, 0.0, 0.0, 0.0, 0.0, 0.0, 0.0, 0.0, 0.0, 0.0, 0.0, 0.0, 0.0, 0.0, 0.0, 0.0, 0.0, 0.0, 0.0, 0.0, 0.0, 0.0], [569.0, 437.0, 409.0, 358.0, 348.0, 318.0, 257.0, 213.0, 181.0, 165.0, 156.0, 140.0, 132.0, 105.0, 102.0, 102.0, 99.0, 96.0, 86.0, 83.0, 61.0, 59.0, 52.0, 44.0, 33.0, 31.0, 29.0, 29.0, 26.0, 17.0, 11.0, 10.0, 9.0, 8.0, 8.0, 7.0, 7.0, 7.0, 6.0, 5.0, 3.0, 2.0, 2.0, 2.0, 1.0, 1.0, 1.0, 1.0]],\"toyplot\");\n",
       "(function(axis, axis_id, projection)\n",
       "        {\n",
       "            axis.show_coordinates(axis_id, projection);\n",
       "        })(modules[\"toyplot.coordinates.Axis\"],\"t55008e9491d246e6b752030f2a83c623\",[{\"domain\": {\"bounds\": {\"max\": Infinity, \"min\": -Infinity}, \"max\": 50.0, \"min\": -0.5}, \"range\": {\"bounds\": {\"max\": Infinity, \"min\": -Infinity}, \"max\": 500.0, \"min\": 0.0}, \"scale\": \"linear\"}]);\n",
       "(function(axis, axis_id, projection)\n",
       "        {\n",
       "            axis.show_coordinates(axis_id, projection);\n",
       "        })(modules[\"toyplot.coordinates.Axis\"],\"tdfb71f97f73445d29d4d293bea17613d\",[{\"domain\": {\"bounds\": {\"max\": Infinity, \"min\": -Infinity}, \"max\": 600.0, \"min\": 0.0}, \"range\": {\"bounds\": {\"max\": Infinity, \"min\": -Infinity}, \"max\": 250.0, \"min\": 0.0}, \"scale\": \"linear\"}]);\n",
       "})();</script></div></div>"
      ]
     },
     "metadata": {},
     "output_type": "display_data"
    }
   ],
   "source": [
    "# plot the number of each species in order (hover over bars for names)\n",
    "sp_counts = df.species[mask].value_counts()\n",
    "toyplot.bars(sp_counts, height=350, title=sp_counts.index);"
   ]
  },
  {
   "cell_type": "markdown",
   "metadata": {},
   "source": [
    "## Assignment: "
   ]
  },
  {
   "cell_type": "markdown",
   "metadata": {},
   "source": [
    "### Task 1: \n",
    "Write a Class object called `Records` that can be given a taxon name query and a range of years and will return a class instance with all results from GBIF for the queried range using the same params from our example above, except allowing the 'q' and 'year' arguments to vary. You can reuse the code above to create the core functions for your object. When finished, you should be able to use the object in the following way. This means that after writing your Class object, test it using the code below and make sure it gives proper results. "
   ]
  },
  {
   "cell_type": "code",
   "execution_count": 28,
   "metadata": {},
   "outputs": [],
   "source": [
    "# fill in the params dictionary, write functions to update it\n",
    "# with the entered arguments to __init__, write functions\n",
    "# to get_all_records and store results as a dataframe.\n",
    "# have all functions run during init so that the initialized\n",
    "# object calls the request and returns a full dataframe. \n",
    "\n",
    "class Records:\n",
    "    def __init__(self, q=None, interval=None):\n",
    "        \n",
    "        self.q = q\n",
    "        self.interval = interval\n",
    "        self.params = {}\n",
    "    \n",
    "    def _get_all_records(self):\n",
    "        \"...\"\n",
    "        pass\n",
    "    "
   ]
  },
  {
   "cell_type": "code",
   "execution_count": null,
   "metadata": {},
   "outputs": [],
   "source": [
    "## create instance by entering query and a range of years as integers\n",
    "rec = Records(q=\"Bombus\", interval=(1950, 1955))\n",
    "\n",
    "## access all of the returned records as a dataframe \n",
    "## (here asking for the shape to see how many records there are)\n",
    "rec.df.shape\n"
   ]
  },
  {
   "cell_type": "markdown",
   "metadata": {},
   "source": [
    "### Task 2: \n",
    "Once you have tested your Record class object in this notebook and it is working, copy it to a new `.py` file in a text editor and name it records.py, and put this in a new folder called `records/`. Then add an `__init__.py` file and a `setup.py` file and structure this directory so that it can be imported as a Python package. If you need a review on how to do this look back at lecture 5, and the assignment from that lecture (https://github.com/programming-for-bio/5-Packaging/blob/master/Notebooks/nb-5.2-packaging.ipynb). This will be very similar to the 'helloworld' package that we wrote. When you are finished, install the package with pip and try importing it like below. Then push the `records` folder as a new repo to your GitHub account named records.  "
   ]
  },
  {
   "cell_type": "code",
   "execution_count": null,
   "metadata": {},
   "outputs": [],
   "source": [
    "# import your library and access the Records class object from it\n",
    "import records\n",
    "rec = records.Records(\"Bombus\", interval=(1990, 2000))\n"
   ]
  },
  {
   "cell_type": "markdown",
   "metadata": {},
   "source": [
    "### Task 3: \n",
    "I will post a working example on Friday so that you can *update or fix your code before the next class to ensure your code is working*. Then push your updated/fixed code to GitHub before the next class. You should hopefully be able to get it working, since you've done all of these tasks before. We are going to continue adding new functions to this library over the next two weeks, so if you get stuck on this assignment ask for help and try to keep up, because it will be very difficult if you get behind. "
   ]
  }
 ],
 "metadata": {
  "kernelspec": {
   "display_name": "Python 3",
   "language": "python",
   "name": "python3"
  },
  "language_info": {
   "codemirror_mode": {
    "name": "ipython",
    "version": 3
   },
   "file_extension": ".py",
   "mimetype": "text/x-python",
   "name": "python",
   "nbconvert_exporter": "python",
   "pygments_lexer": "ipython3",
   "version": "3.5.4"
  }
 },
 "nbformat": 4,
 "nbformat_minor": 2
}
