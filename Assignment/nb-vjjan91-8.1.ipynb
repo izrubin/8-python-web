{
 "cells": [
  {
   "cell_type": "markdown",
   "metadata": {},
   "source": [
    "# Notebook 8.1 RESTful GBIF\n",
    "\n",
    "This notebook will introduce you to methods for parsing data from the web by accessing websites that have RESTful APIs. In the next notebook we will continue to other methods for parsing data from the web as well. \n",
    "\n",
    "These notebook will involve two core aspects: (1) Working with RESTful APIs, which we discussed briefly in lecture; and (2) Parsing HTML text. The first is much easier since the data that we query from the web is returned in a form that is easy to interpret and *meant* to be parsed and analyzed, whereas the second way requires us to learn a little about how the internet works, which is also useful stuff to know. So let's get started. You'll need to install the two libraries below. "
   ]
  },
  {
   "cell_type": "code",
   "execution_count": null,
   "metadata": {},
   "outputs": [],
   "source": [
    "# conda install beautifulsoup4\n",
    "# conda install requests"
   ]
  },
  {
   "cell_type": "code",
   "execution_count": 1,
   "metadata": {},
   "outputs": [],
   "source": [
    "import toyplot\n",
    "import requests\n",
    "import pandas as pd\n"
   ]
  },
  {
   "cell_type": "markdown",
   "metadata": {},
   "source": [
    "### The design of REST APIs. \n",
    "The idea behind REST APIs is that data on a server (like a webpage) can be accessed with a consistent type of argument in the form of a URL, to query data which will then be returned in a form that is easy to analyze (usually json or xml), as opposed to being returned in messy HTML that needs to be parsed. Many websites have REST APIs, but some are much easier to use than others. "
   ]
  },
  {
   "cell_type": "markdown",
   "metadata": {},
   "source": [
    "### Limits\n",
    "Many REST APIs have limits on the way that you can use them. For example, the REST APIs for Twitter, GitHub, and Reddit require that you login in order to access data, and some sites will throttle how many requests you can make per hour. Although usually sites with a REST API are intended to be searched, the tools we will learn here can be used to search almost any website. It is important to know that some sites will intentionally block you if you try too aggressively to scrape data from them. For example, google scholar and genbank both have limits on the number of queries you can make per hour. "
   ]
  },
  {
   "cell_type": "markdown",
   "metadata": {},
   "source": [
    "### Good REST APIs\n",
    "A good REST API will have good directions for its usage. Two very good examples are the [USDA Bison API](https://bison.usgs.gov/#api) and the [Global Biodiversity Information Facility (GBIF) API](https://www.gbif.org/developer/summary). We'll focus on the latter in this notebook. The GBIF database is an international effort to collect all observation data on plants, animals, and fungi into a single place where it can be searched. It is actually a conglomeration of many separate databases, with data from museums and similar institutions all over the world. These APIs are free to use but request that you cite them if the data is used in a publication eventually. "
   ]
  },
  {
   "cell_type": "markdown",
   "metadata": {},
   "source": [
    "### What does GBIF do?\n",
    "GBIF can be used to find specimen collection records, or other types of observation data, stored in museum type databases. The website offers a convenient way to request taxa by name, and to select specific research criteria. For example, if we wanted to find all specimens of bumblebees (genus *Bombus*) that were collected between 1910 and 1920 we could request this through the website. It will draw a nice map with their locations and you can download a table with coordinates of where they were collected. This is actually one of the best databases around, since it organizes the data quite easily for you to download, but nevertheless, we'll use it as our example to learn REST APIs. \n",
    "\n",
    "Even though GBIF has a very nice web interface, it is obviously often more efficient to be able to query this database programmatically, instead of having to type each name we wish to search, and click on several buttons. This can provide a much more powerful way of applying filters over many different types of searches. That is the idea behind REST APIs and the reason why GBIF provides one. "
   ]
  },
  {
   "cell_type": "markdown",
   "metadata": {},
   "source": [
    "### The base-url\n",
    "The base URL is the web address of the API. This is simply a string that we wil add arguments to in order to request particular types of data be returned to use from the database. For GBIF this is the following, which we'll store as a string for now. This base-url address is given to us right at the top of the [GBIF API documentation](https://www.gbif.org/developer/occurrence). You can see that it looks much like any other web address. "
   ]
  },
  {
   "cell_type": "code",
   "execution_count": 2,
   "metadata": {},
   "outputs": [],
   "source": [
    "baseurl = \"http://api.gbif.org/v1/occurrence/search?\""
   ]
  },
  {
   "cell_type": "markdown",
   "metadata": {},
   "source": [
    "### How to query GBIF\n",
    "As you can see in the URL below, an API query just has additional arguments added to the baseurl. The string below searches for records with the name *Bombus*, which is the genus for bumblebees. We've added just the 'query' option 'q' and the name. We'll see next how to make more complex queries. But first, copy the URL below (without the quotation marks around it) and paste it into a web browser. This will show you what the returned data looks like. It might look a bit different depending on which browser you are using (I recommend using firefox or chrome) but the underlying data is the same, and is called JSON data."
   ]
  },
  {
   "cell_type": "code",
   "execution_count": 3,
   "metadata": {},
   "outputs": [],
   "source": [
    "search_url = \"http://api.gbif.org/v1/occurrence/search?q=Bombus\""
   ]
  },
  {
   "cell_type": "markdown",
   "metadata": {},
   "source": [
    "### JSON format\n",
    "We will be using the `requests` library to get data from online, but before we do, let's talk a bit about how the data will be structured so we know what to expect. The data that you should see in your browser now is called JSON formatted data.  You'll notice that this format is almost identical to what a Python dictionary looks like. It is composed of key:value pairs. This will make it particularly easy to work with. "
   ]
  },
  {
   "cell_type": "markdown",
   "metadata": {},
   "source": [
    "### Requests\n",
    "\n",
    "[Documentation](http://docs.python-requests.org/en/master/user/quickstart/)\n",
    "\n",
    "The `requests` package work a lot like an automated web browser. We've used `requests` briefly in the past but now we'll start to use it more effectively. The main function we will call is `.get()`, which will send a GET command to the web address and return a Response Class object. We will then access attributes and functions of the Response instance to see if our request worked, and to parse the resulting text from it. Let's try this on our `search_url` string defined above. "
   ]
  },
  {
   "cell_type": "code",
   "execution_count": 4,
   "metadata": {},
   "outputs": [],
   "source": [
    "# create a Response instance from a request\n",
    "response = requests.get(search_url)\n"
   ]
  },
  {
   "cell_type": "code",
   "execution_count": 5,
   "metadata": {},
   "outputs": [
    {
     "data": {
      "text/plain": [
       "200"
      ]
     },
     "execution_count": 5,
     "metadata": {},
     "output_type": "execute_result"
    }
   ],
   "source": [
    "# check that your request worked (200 = worked; other codes No))\n",
    "response.status_code"
   ]
  },
  {
   "cell_type": "code",
   "execution_count": 6,
   "metadata": {},
   "outputs": [],
   "source": [
    "# this would return the error message if it didn't work (else None)\n",
    "response.raise_for_status()"
   ]
  },
  {
   "cell_type": "markdown",
   "metadata": {},
   "source": [
    "### Parse a Response\n",
    "Before when we've used `requests` we've parsed the results as plain text, since it was usually in a format that was easiest to work with as a string. In this case, we are going to access the data a bit differently, by instead  accessing it in JSON format. This is easily available from the object just like text is. The first is not very easily readable or parseable, whereas the second can be accessed and searched more easily. "
   ]
  },
  {
   "cell_type": "code",
   "execution_count": 7,
   "metadata": {},
   "outputs": [
    {
     "data": {
      "text/plain": [
       "'{\"offset\":0,\"limit\":20,\"endOfRecords\":false,\"count\":1048304,\"results\":[{\"key\":131330107,\"datasetKey\":\"86aba78e-f762-11e1-a439-00145eb45e9a\",\"publishingOrgKey\":\"8595cd50-87c0-11dc-bb35-b8a03c50a862\",\"publishingCountry\":\"BR\",\"protocol\":\"DIGIR\",\"lastCrawled\":\"2013-09-07T07:05:27.000+0000\",\"crawlId\":1,\"extensions\":{},\"basisOfRecord\":\"PRESERVED_SPECIMEN\",\"taxonKey\":1340307,\"kingdomKey\":1,\"phylumKey\":54,\"classKey\":216,\"orderKey\":1457,\"familyKey\":4334,\"genusKey\":1340278,\"speciesKey\":1340307,\"scientific'"
      ]
     },
     "execution_count": 7,
     "metadata": {},
     "output_type": "execute_result"
    }
   ],
   "source": [
    "# first 500 characters of the .text string\n",
    "response.text[:500]"
   ]
  },
  {
   "cell_type": "code",
   "execution_count": 8,
   "metadata": {},
   "outputs": [
    {
     "data": {
      "text/plain": [
       "['offset', 'limit', 'endOfRecords', 'count', 'results', 'facets']"
      ]
     },
     "execution_count": 8,
     "metadata": {},
     "output_type": "execute_result"
    }
   ],
   "source": [
    "# or, get results as a dictionary (JSON converted)\n",
    "rdict = response.json()\n",
    "\n",
    "# get some quick info on the dictionary items\n",
    "list(rdict.keys())"
   ]
  },
  {
   "cell_type": "markdown",
   "metadata": {},
   "source": [
    "### Parsing the results\n",
    "In GBIF our response can be parsed into a dictionary object using the JSON format, and this as six keys shown above. These are explained in the API docs, and correspond to information about what records are available for our query. However, it did not return *all* of the data for those records to us yet. That would be too easy. Instead, databases usually have limits on the amount of data from each request as a way of limiting the bandwidth they will need for sending the data, and to make it faster. For GBIF the default number, shown under the \"limit\" key, is 20. And the default starting position, shown under \"offset\" is 0. The total number of records is in \"count\". So for *Bombus*, as we show below, there are 1,048,303 records, but on records 1-20 were returned to us so far."
   ]
  },
  {
   "cell_type": "code",
   "execution_count": 9,
   "metadata": {},
   "outputs": [
    {
     "data": {
      "text/plain": [
       "1048304"
      ]
     },
     "execution_count": 9,
     "metadata": {},
     "output_type": "execute_result"
    }
   ],
   "source": [
    "## how many records are there for this query\n",
    "rdict[\"count\"]"
   ]
  },
  {
   "cell_type": "code",
   "execution_count": 10,
   "metadata": {},
   "outputs": [
    {
     "data": {
      "text/plain": [
       "20"
      ]
     },
     "execution_count": 10,
     "metadata": {},
     "output_type": "execute_result"
    }
   ],
   "source": [
    "## how many records were returned\n",
    "rdict[\"limit\"]"
   ]
  },
  {
   "cell_type": "code",
   "execution_count": 11,
   "metadata": {},
   "outputs": [
    {
     "data": {
      "text/plain": [
       "0"
      ]
     },
     "execution_count": 11,
     "metadata": {},
     "output_type": "execute_result"
    }
   ],
   "source": [
    "## starting from which record\n",
    "rdict[\"offset\"]"
   ]
  },
  {
   "cell_type": "markdown",
   "metadata": {},
   "source": [
    "### So where's the data?\n",
    "It's stored under the `results` variable, and is returned as a list of dictionaries, where each dictionary is a record with lots of information. Below I show the first record from our search. "
   ]
  },
  {
   "cell_type": "code",
   "execution_count": 12,
   "metadata": {},
   "outputs": [
    {
     "data": {
      "text/plain": [
       "{'basisOfRecord': 'PRESERVED_SPECIMEN',\n",
       " 'catalogNumber': '6416',\n",
       " 'class': 'Insecta',\n",
       " 'classKey': 216,\n",
       " 'collectionCode': 'CEPANN',\n",
       " 'continent': 'SOUTH_AMERICA',\n",
       " 'country': 'Brazil',\n",
       " 'countryCode': 'BR',\n",
       " 'crawlId': 1,\n",
       " 'datasetKey': '86aba78e-f762-11e1-a439-00145eb45e9a',\n",
       " 'decimalLatitude': 0.0,\n",
       " 'decimalLongitude': 0.0,\n",
       " 'extensions': {},\n",
       " 'facts': [],\n",
       " 'family': 'Apidae',\n",
       " 'familyKey': 4334,\n",
       " 'gbifID': '131330107',\n",
       " 'genericName': 'Bombus',\n",
       " 'genus': 'Bombus',\n",
       " 'genusKey': 1340278,\n",
       " 'geodeticDatum': 'WGS84',\n",
       " 'identifiers': [],\n",
       " 'institutionCode': 'USP',\n",
       " 'issues': ['ZERO_COORDINATE',\n",
       "  'GEODETIC_DATUM_ASSUMED_WGS84',\n",
       "  'COUNTRY_COORDINATE_MISMATCH'],\n",
       " 'key': 131330107,\n",
       " 'kingdom': 'Animalia',\n",
       " 'kingdomKey': 1,\n",
       " 'lastCrawled': '2013-09-07T07:05:27.000+0000',\n",
       " 'lastInterpreted': '2018-02-04T02:00:19.037+0000',\n",
       " 'license': 'http://creativecommons.org/licenses/by/4.0/legalcode',\n",
       " 'order': 'Hymenoptera',\n",
       " 'orderKey': 1457,\n",
       " 'phylum': 'Arthropoda',\n",
       " 'phylumKey': 54,\n",
       " 'protocol': 'DIGIR',\n",
       " 'publishingCountry': 'BR',\n",
       " 'publishingOrgKey': '8595cd50-87c0-11dc-bb35-b8a03c50a862',\n",
       " 'recordedBy': '-',\n",
       " 'relations': [],\n",
       " 'scientificName': 'Bombus morio (Swederus, 1787)',\n",
       " 'species': 'Bombus morio',\n",
       " 'speciesKey': 1340307,\n",
       " 'specificEpithet': 'morio',\n",
       " 'taxonKey': 1340307,\n",
       " 'taxonRank': 'SPECIES'}"
      ]
     },
     "execution_count": 12,
     "metadata": {},
     "output_type": "execute_result"
    }
   ],
   "source": [
    "# here is the first record, it's also a dictionary\n",
    "rdict[\"results\"][0]"
   ]
  },
  {
   "cell_type": "code",
   "execution_count": 13,
   "metadata": {},
   "outputs": [
    {
     "data": {
      "text/html": [
       "<div>\n",
       "<style scoped>\n",
       "    .dataframe tbody tr th:only-of-type {\n",
       "        vertical-align: middle;\n",
       "    }\n",
       "\n",
       "    .dataframe tbody tr th {\n",
       "        vertical-align: top;\n",
       "    }\n",
       "\n",
       "    .dataframe thead th {\n",
       "        text-align: right;\n",
       "    }\n",
       "</style>\n",
       "<table border=\"1\" class=\"dataframe\">\n",
       "  <thead>\n",
       "    <tr style=\"text-align: right;\">\n",
       "      <th></th>\n",
       "      <th>basisOfRecord</th>\n",
       "      <th>catalogNumber</th>\n",
       "      <th>class</th>\n",
       "      <th>classKey</th>\n",
       "      <th>collectionCode</th>\n",
       "      <th>continent</th>\n",
       "      <th>country</th>\n",
       "      <th>countryCode</th>\n",
       "      <th>county</th>\n",
       "      <th>crawlId</th>\n",
       "      <th>...</th>\n",
       "      <th>publishingOrgKey</th>\n",
       "      <th>recordedBy</th>\n",
       "      <th>relations</th>\n",
       "      <th>scientificName</th>\n",
       "      <th>species</th>\n",
       "      <th>speciesKey</th>\n",
       "      <th>specificEpithet</th>\n",
       "      <th>stateProvince</th>\n",
       "      <th>taxonKey</th>\n",
       "      <th>taxonRank</th>\n",
       "    </tr>\n",
       "  </thead>\n",
       "  <tbody>\n",
       "    <tr>\n",
       "      <th>0</th>\n",
       "      <td>PRESERVED_SPECIMEN</td>\n",
       "      <td>6416</td>\n",
       "      <td>Insecta</td>\n",
       "      <td>216</td>\n",
       "      <td>CEPANN</td>\n",
       "      <td>SOUTH_AMERICA</td>\n",
       "      <td>Brazil</td>\n",
       "      <td>BR</td>\n",
       "      <td>NaN</td>\n",
       "      <td>1</td>\n",
       "      <td>...</td>\n",
       "      <td>8595cd50-87c0-11dc-bb35-b8a03c50a862</td>\n",
       "      <td>-</td>\n",
       "      <td>[]</td>\n",
       "      <td>Bombus morio (Swederus, 1787)</td>\n",
       "      <td>Bombus morio</td>\n",
       "      <td>1340307.0</td>\n",
       "      <td>morio</td>\n",
       "      <td>NaN</td>\n",
       "      <td>1340307</td>\n",
       "      <td>SPECIES</td>\n",
       "    </tr>\n",
       "    <tr>\n",
       "      <th>1</th>\n",
       "      <td>PRESERVED_SPECIMEN</td>\n",
       "      <td>9002</td>\n",
       "      <td>Insecta</td>\n",
       "      <td>216</td>\n",
       "      <td>CEMeC</td>\n",
       "      <td>NaN</td>\n",
       "      <td>Brazil</td>\n",
       "      <td>BR</td>\n",
       "      <td>Milagres</td>\n",
       "      <td>1</td>\n",
       "      <td>...</td>\n",
       "      <td>8595cd50-87c0-11dc-bb35-b8a03c50a862</td>\n",
       "      <td>NaN</td>\n",
       "      <td>[]</td>\n",
       "      <td>Bombus morio (Swederus, 1787)</td>\n",
       "      <td>Bombus morio</td>\n",
       "      <td>1340307.0</td>\n",
       "      <td>morio</td>\n",
       "      <td>Bahia</td>\n",
       "      <td>1340307</td>\n",
       "      <td>SPECIES</td>\n",
       "    </tr>\n",
       "    <tr>\n",
       "      <th>2</th>\n",
       "      <td>UNKNOWN</td>\n",
       "      <td>43781</td>\n",
       "      <td>Insecta</td>\n",
       "      <td>216</td>\n",
       "      <td>2007_Mongol</td>\n",
       "      <td>NaN</td>\n",
       "      <td>NaN</td>\n",
       "      <td>None</td>\n",
       "      <td>NaN</td>\n",
       "      <td>12</td>\n",
       "      <td>...</td>\n",
       "      <td>be11c6a0-7cf5-11dc-92cb-b8a03c50a862</td>\n",
       "      <td>NaN</td>\n",
       "      <td>[]</td>\n",
       "      <td>Bombus margreiteri Skorikov</td>\n",
       "      <td>Bombus margreiteri</td>\n",
       "      <td>9055570.0</td>\n",
       "      <td>margreiteri</td>\n",
       "      <td>NaN</td>\n",
       "      <td>9055570</td>\n",
       "      <td>SPECIES</td>\n",
       "    </tr>\n",
       "    <tr>\n",
       "      <th>3</th>\n",
       "      <td>PRESERVED_SPECIMEN</td>\n",
       "      <td>91583</td>\n",
       "      <td>Insecta</td>\n",
       "      <td>216</td>\n",
       "      <td>ZEN</td>\n",
       "      <td>NaN</td>\n",
       "      <td>NaN</td>\n",
       "      <td>None</td>\n",
       "      <td>NaN</td>\n",
       "      <td>17</td>\n",
       "      <td>...</td>\n",
       "      <td>4c415e40-1e21-11de-9e40-a0d6ecebb8bf</td>\n",
       "      <td>NaN</td>\n",
       "      <td>[]</td>\n",
       "      <td>Bombus Latreille, 1802</td>\n",
       "      <td>NaN</td>\n",
       "      <td>NaN</td>\n",
       "      <td>NaN</td>\n",
       "      <td>NaN</td>\n",
       "      <td>1340278</td>\n",
       "      <td>GENUS</td>\n",
       "    </tr>\n",
       "    <tr>\n",
       "      <th>4</th>\n",
       "      <td>PRESERVED_SPECIMEN</td>\n",
       "      <td>94807</td>\n",
       "      <td>Insecta</td>\n",
       "      <td>216</td>\n",
       "      <td>ZEN</td>\n",
       "      <td>NaN</td>\n",
       "      <td>NaN</td>\n",
       "      <td>None</td>\n",
       "      <td>NaN</td>\n",
       "      <td>17</td>\n",
       "      <td>...</td>\n",
       "      <td>4c415e40-1e21-11de-9e40-a0d6ecebb8bf</td>\n",
       "      <td>NaN</td>\n",
       "      <td>[]</td>\n",
       "      <td>Bombus Latreille, 1802</td>\n",
       "      <td>NaN</td>\n",
       "      <td>NaN</td>\n",
       "      <td>NaN</td>\n",
       "      <td>NaN</td>\n",
       "      <td>1340278</td>\n",
       "      <td>GENUS</td>\n",
       "    </tr>\n",
       "  </tbody>\n",
       "</table>\n",
       "<p>5 rows × 56 columns</p>\n",
       "</div>"
      ],
      "text/plain": [
       "        basisOfRecord catalogNumber    class  classKey collectionCode  \\\n",
       "0  PRESERVED_SPECIMEN          6416  Insecta       216         CEPANN   \n",
       "1  PRESERVED_SPECIMEN          9002  Insecta       216          CEMeC   \n",
       "2             UNKNOWN         43781  Insecta       216    2007_Mongol   \n",
       "3  PRESERVED_SPECIMEN         91583  Insecta       216            ZEN   \n",
       "4  PRESERVED_SPECIMEN         94807  Insecta       216            ZEN   \n",
       "\n",
       "       continent country countryCode    county  crawlId    ...     \\\n",
       "0  SOUTH_AMERICA  Brazil          BR       NaN        1    ...      \n",
       "1            NaN  Brazil          BR  Milagres        1    ...      \n",
       "2            NaN     NaN        None       NaN       12    ...      \n",
       "3            NaN     NaN        None       NaN       17    ...      \n",
       "4            NaN     NaN        None       NaN       17    ...      \n",
       "\n",
       "                       publishingOrgKey  recordedBy  relations  \\\n",
       "0  8595cd50-87c0-11dc-bb35-b8a03c50a862           -         []   \n",
       "1  8595cd50-87c0-11dc-bb35-b8a03c50a862         NaN         []   \n",
       "2  be11c6a0-7cf5-11dc-92cb-b8a03c50a862         NaN         []   \n",
       "3  4c415e40-1e21-11de-9e40-a0d6ecebb8bf         NaN         []   \n",
       "4  4c415e40-1e21-11de-9e40-a0d6ecebb8bf         NaN         []   \n",
       "\n",
       "                  scientificName             species speciesKey  \\\n",
       "0  Bombus morio (Swederus, 1787)        Bombus morio  1340307.0   \n",
       "1  Bombus morio (Swederus, 1787)        Bombus morio  1340307.0   \n",
       "2    Bombus margreiteri Skorikov  Bombus margreiteri  9055570.0   \n",
       "3         Bombus Latreille, 1802                 NaN        NaN   \n",
       "4         Bombus Latreille, 1802                 NaN        NaN   \n",
       "\n",
       "   specificEpithet stateProvince taxonKey taxonRank  \n",
       "0            morio           NaN  1340307   SPECIES  \n",
       "1            morio         Bahia  1340307   SPECIES  \n",
       "2      margreiteri           NaN  9055570   SPECIES  \n",
       "3              NaN           NaN  1340278     GENUS  \n",
       "4              NaN           NaN  1340278     GENUS  \n",
       "\n",
       "[5 rows x 56 columns]"
      ]
     },
     "execution_count": 13,
     "metadata": {},
     "output_type": "execute_result"
    }
   ],
   "source": [
    "# or to see it prettier, convert records to a DataFrame\n",
    "pd.DataFrame(rdict[\"results\"]).head()"
   ]
  },
  {
   "cell_type": "markdown",
   "metadata": {},
   "source": [
    "### Building a request\n",
    "Here we add more arguments to further filter the results. To see which options are available, you can either look at the results from our existing calls so far, or you can read further into the API docs. Sometimes API docs will be incomplete though, so it can be useful to learn to try to infer which options are possible from looking at the results. A more complex search is accomplished by building a URL that has more key:value pairs each appended to the end of the URL, and separated by a \"&\" symbol. For large searches it begins to get difficult to write out by hand, and that is where `requests` comes in handy. Here we enter the additional arguments we want using a simple python dictionary into the entry 'params'. Below I show the URL for when we add the requirement that a record have coordinate data, and for when we add additional arguments to raise the limit for the number of records returned. The max records at a time (limit - offset) is 300. Above that you need to increment the offset to search higher values."
   ]
  },
  {
   "cell_type": "code",
   "execution_count": 14,
   "metadata": {},
   "outputs": [
    {
     "data": {
      "text/plain": [
       "'http://api.gbif.org/v1/occurrence/search?q=Bombus&hasCoordinate=true'"
      ]
     },
     "execution_count": 14,
     "metadata": {},
     "output_type": "execute_result"
    }
   ],
   "source": [
    "# add requirement that the record have coordinate data with a python dictionary using the entry - params\n",
    "res = requests.get(\n",
    "    url=baseurl, \n",
    "    params={\n",
    "        \"q\": \"Bombus\", \n",
    "        \"hasCoordinate\": \"true\", # note this convention is javascript 'true' is lowercase t and hasCoordinate\n",
    "    }\n",
    ")\n",
    "res.url"
   ]
  },
  {
   "cell_type": "code",
   "execution_count": 15,
   "metadata": {},
   "outputs": [
    {
     "data": {
      "text/plain": [
       "'http://api.gbif.org/v1/occurrence/search?q=Bombus&hasCoordinate=true&offset=0&limit=100'"
      ]
     },
     "execution_count": 15,
     "metadata": {},
     "output_type": "execute_result"
    }
   ],
   "source": [
    "# request records 0-100\n",
    "res = requests.get(\n",
    "    url=baseurl, \n",
    "    params={\n",
    "        \"q\": \"Bombus\", \n",
    "        \"hasCoordinate\": \"true\",\n",
    "        \"offset\": \"0\", \n",
    "        \"limit\": \"100\"\n",
    "    }\n",
    ")\n",
    "res.url"
   ]
  },
  {
   "cell_type": "markdown",
   "metadata": {},
   "source": [
    "### A complex search\n",
    "Here I request all Bombus records from 1900-1910 that are associated with a preserved speciment (as opposed to HUMAN_OBSERVATION or FOSSIL_SPECIMEN), has spatial data, and is in the US. The 'count' shows us that there are 4,977 records meeting these requirements. We requested the max of 300 records. "
   ]
  },
  {
   "cell_type": "code",
   "execution_count": 16,
   "metadata": {},
   "outputs": [
    {
     "data": {
      "text/plain": [
       "4977"
      ]
     },
     "execution_count": 16,
     "metadata": {},
     "output_type": "execute_result"
    }
   ],
   "source": [
    "res = requests.get(\n",
    "    url=baseurl, \n",
    "    params={\n",
    "        \"q\": \"Bombus\", \n",
    "        \"year\": \"1900,1910\", \n",
    "        \"basisOfRecord\": \"PRESERVED_SPECIMEN\",\n",
    "        \"hasCoordinate\": \"true\",\n",
    "        \"hasGeospatialIssue\": \"false\",\n",
    "        \"country\": \"US\",\n",
    "        \"offset\": \"0\", # starting point\n",
    "        \"limit\": \"300\" # what is added to the starting point\n",
    "    },\n",
    ")\n",
    "r2dict = res.json() # This will parse it to make it a dictionary \n",
    "r2dict[\"count\"]"
   ]
  },
  {
   "cell_type": "code",
   "execution_count": 17,
   "metadata": {},
   "outputs": [
    {
     "data": {
      "text/plain": [
       "4977"
      ]
     },
     "execution_count": 17,
     "metadata": {},
     "output_type": "execute_result"
    }
   ],
   "source": [
    "res = requests.get(\n",
    "    url=baseurl, \n",
    "    params={\n",
    "        \"q\": \"Bombus\", \n",
    "        \"year\": \"1900,1910\", \n",
    "        \"basisOfRecord\": \"PRESERVED_SPECIMEN\",\n",
    "        \"hasCoordinate\": \"true\",\n",
    "        \"hasGeospatialIssue\": \"false\",\n",
    "        \"country\": \"US\",\n",
    "        \"offset\": \"300\",\n",
    "        \"limit\": \"300\"\n",
    "    },\n",
    ")\n",
    "r1dict = res.json()\n",
    "r1dict[\"count\"]"
   ]
  },
  {
   "cell_type": "markdown",
   "metadata": {},
   "source": [
    "### Combining many searches\n",
    "If we wanted to collect all records for a given search then we need to increment the \"offset\" argument until we reach the end of the records. Each is returned as a list of dictionaries, so we can just join all of those lists together and return them. "
   ]
  },
  {
   "cell_type": "code",
   "execution_count": 18,
   "metadata": {},
   "outputs": [],
   "source": [
    "def get_all_records(searchparams):\n",
    "    \"iterate until end of records\"\n",
    "    start = 0\n",
    "    data = []\n",
    "    \n",
    "    while 1: # 1 is another way to refer to True (alternately you can mention True, and when using While, do use Break at the end)\n",
    "        # make request and store results\n",
    "        res = requests.get(\n",
    "            url=baseurl, \n",
    "            params=searchparams,\n",
    "        )\n",
    "        # increment counter\n",
    "        searchparams[\"offset\"] = str(int(searchparams[\"offset\"]) + 300)\n",
    "        \n",
    "        # concatenate data \n",
    "        idata = res.json()\n",
    "        data += idata[\"results\"]\n",
    "        \n",
    "        # stop when end of record is reached\n",
    "        if idata[\"endOfRecords\"]:\n",
    "            break\n",
    "        \n",
    "    return data"
   ]
  },
  {
   "cell_type": "code",
   "execution_count": 19,
   "metadata": {},
   "outputs": [],
   "source": [
    "# make params dictionary\n",
    "searchparams = {\n",
    "    \"q\": \"Bombus\", \n",
    "    \"year\": \"1900,1905\", \n",
    "    \"basisOfRecord\": \"PRESERVED_SPECIMEN\",\n",
    "    \"hasCoordinate\": \"true\",\n",
    "    \"hasGeospatialIssue\": \"false\",\n",
    "    \"country\": \"US\",\n",
    "    \"offset\": \"0\",\n",
    "    \"limit\": \"300\"\n",
    "}\n",
    "\n",
    "# call function to search over all offset values until end\n",
    "data = get_all_records(searchparams)"
   ]
  },
  {
   "cell_type": "markdown",
   "metadata": {},
   "source": [
    "### The full data"
   ]
  },
  {
   "cell_type": "code",
   "execution_count": 20,
   "metadata": {},
   "outputs": [],
   "source": [
    "# convert to a data frame\n",
    "df = pd.DataFrame(data)"
   ]
  },
  {
   "cell_type": "code",
   "execution_count": 21,
   "metadata": {},
   "outputs": [
    {
     "data": {
      "text/plain": [
       "['accessRights',\n",
       " 'associatedReferences',\n",
       " 'associatedTaxa',\n",
       " 'basisOfRecord',\n",
       " 'bibliographicCitation',\n",
       " 'catalogNumber',\n",
       " 'class',\n",
       " 'classKey',\n",
       " 'collectionCode',\n",
       " 'collectionID',\n",
       " 'continent',\n",
       " 'coordinatePrecision',\n",
       " 'coordinateUncertaintyInMeters',\n",
       " 'country',\n",
       " 'countryCode',\n",
       " 'county',\n",
       " 'crawlId',\n",
       " 'datasetID',\n",
       " 'datasetKey',\n",
       " 'datasetName',\n",
       " 'dateIdentified',\n",
       " 'day',\n",
       " 'decimalLatitude',\n",
       " 'decimalLongitude',\n",
       " 'dynamicProperties',\n",
       " 'elevation',\n",
       " 'elevationAccuracy',\n",
       " 'endDayOfYear',\n",
       " 'eventDate',\n",
       " 'eventRemarks',\n",
       " 'extensions',\n",
       " 'facts',\n",
       " 'family',\n",
       " 'familyKey',\n",
       " 'fieldNotes',\n",
       " 'gbifID',\n",
       " 'genericName',\n",
       " 'genus',\n",
       " 'genusKey',\n",
       " 'geodeticDatum',\n",
       " 'georeferenceProtocol',\n",
       " 'georeferenceRemarks',\n",
       " 'georeferenceSources',\n",
       " 'georeferencedBy',\n",
       " 'higherClassification',\n",
       " 'higherGeography',\n",
       " 'identifiedBy',\n",
       " 'identifier',\n",
       " 'identifiers',\n",
       " 'individualCount',\n",
       " 'infraspecificEpithet',\n",
       " 'institutionCode',\n",
       " 'institutionID',\n",
       " 'issues',\n",
       " 'key',\n",
       " 'kingdom',\n",
       " 'kingdomKey',\n",
       " 'language',\n",
       " 'lastCrawled',\n",
       " 'lastInterpreted',\n",
       " 'lastParsed',\n",
       " 'license',\n",
       " 'lifeStage',\n",
       " 'locality',\n",
       " 'media',\n",
       " 'modified',\n",
       " 'month',\n",
       " 'nomenclaturalCode',\n",
       " 'occurrenceID',\n",
       " 'occurrenceRemarks',\n",
       " 'order',\n",
       " 'orderKey',\n",
       " 'organismID',\n",
       " 'ownerInstitutionCode',\n",
       " 'phylum',\n",
       " 'phylumKey',\n",
       " 'preparations',\n",
       " 'previousIdentifications',\n",
       " 'protocol',\n",
       " 'publishingCountry',\n",
       " 'publishingOrgKey',\n",
       " 'recordedBy',\n",
       " 'references',\n",
       " 'relations',\n",
       " 'rightsHolder',\n",
       " 'samplingProtocol',\n",
       " 'scientificName',\n",
       " 'scientificNameID',\n",
       " 'sex',\n",
       " 'source',\n",
       " 'species',\n",
       " 'speciesKey',\n",
       " 'specificEpithet',\n",
       " 'startDayOfYear',\n",
       " 'stateProvince',\n",
       " 'taxonKey',\n",
       " 'taxonRank',\n",
       " 'taxonRemarks',\n",
       " 'type',\n",
       " 'typeStatus',\n",
       " 'verbatimEventDate',\n",
       " 'vernacularName',\n",
       " 'year']"
      ]
     },
     "execution_count": 21,
     "metadata": {},
     "output_type": "execute_result"
    }
   ],
   "source": [
    "# keys (columns) in the dataframe (there are many!)\n",
    "list(df.columns)"
   ]
  },
  {
   "cell_type": "code",
   "execution_count": 22,
   "metadata": {},
   "outputs": [
    {
     "data": {
      "text/html": [
       "<div>\n",
       "<style scoped>\n",
       "    .dataframe tbody tr th:only-of-type {\n",
       "        vertical-align: middle;\n",
       "    }\n",
       "\n",
       "    .dataframe tbody tr th {\n",
       "        vertical-align: top;\n",
       "    }\n",
       "\n",
       "    .dataframe thead th {\n",
       "        text-align: right;\n",
       "    }\n",
       "</style>\n",
       "<table border=\"1\" class=\"dataframe\">\n",
       "  <thead>\n",
       "    <tr style=\"text-align: right;\">\n",
       "      <th></th>\n",
       "      <th>species</th>\n",
       "      <th>year</th>\n",
       "      <th>decimalLatitude</th>\n",
       "      <th>decimalLongitude</th>\n",
       "    </tr>\n",
       "  </thead>\n",
       "  <tbody>\n",
       "    <tr>\n",
       "      <th>0</th>\n",
       "      <td>Bombus vagans</td>\n",
       "      <td>1905</td>\n",
       "      <td>42.09606</td>\n",
       "      <td>-90.16255</td>\n",
       "    </tr>\n",
       "    <tr>\n",
       "      <th>1</th>\n",
       "      <td>Bombus centralis</td>\n",
       "      <td>1902</td>\n",
       "      <td>47.94167</td>\n",
       "      <td>-119.00222</td>\n",
       "    </tr>\n",
       "    <tr>\n",
       "      <th>2</th>\n",
       "      <td>Bombus vagans</td>\n",
       "      <td>1905</td>\n",
       "      <td>42.09606</td>\n",
       "      <td>-90.16255</td>\n",
       "    </tr>\n",
       "    <tr>\n",
       "      <th>3</th>\n",
       "      <td>Bombus nevadensis</td>\n",
       "      <td>1905</td>\n",
       "      <td>46.73139</td>\n",
       "      <td>-117.17861</td>\n",
       "    </tr>\n",
       "    <tr>\n",
       "      <th>4</th>\n",
       "      <td>Bombus impatiens</td>\n",
       "      <td>1905</td>\n",
       "      <td>41.86750</td>\n",
       "      <td>-90.15940</td>\n",
       "    </tr>\n",
       "  </tbody>\n",
       "</table>\n",
       "</div>"
      ],
      "text/plain": [
       "             species  year  decimalLatitude  decimalLongitude\n",
       "0      Bombus vagans  1905         42.09606         -90.16255\n",
       "1   Bombus centralis  1902         47.94167        -119.00222\n",
       "2      Bombus vagans  1905         42.09606         -90.16255\n",
       "3  Bombus nevadensis  1905         46.73139        -117.17861\n",
       "4   Bombus impatiens  1905         41.86750         -90.15940"
      ]
     },
     "execution_count": 22,
     "metadata": {},
     "output_type": "execute_result"
    }
   ],
   "source": [
    "# view just the columns we're interested in for now.\n",
    "sdf = df[[\"species\", \"year\", \"decimalLatitude\", \"decimalLongitude\"]]\n",
    "sdf.head()"
   ]
  },
  {
   "cell_type": "code",
   "execution_count": 23,
   "metadata": {},
   "outputs": [
    {
     "data": {
      "text/plain": [
       "(2009, 4)"
      ]
     },
     "execution_count": 23,
     "metadata": {},
     "output_type": "execute_result"
    }
   ],
   "source": [
    "# how many records?\n",
    "sdf.shape"
   ]
  },
  {
   "cell_type": "code",
   "execution_count": 24,
   "metadata": {},
   "outputs": [
    {
     "data": {
      "text/plain": [
       "array(['Bombus vagans', 'Bombus centralis', 'Bombus nevadensis',\n",
       "       'Bombus impatiens', 'Bombus appositus', 'Bombus huntii',\n",
       "       'Bombus variabilis', 'Bombus griseocollis', 'Bombus ashtoni',\n",
       "       'Bombus fraternus', 'Bombus pensylvanicus', 'Bombus rufocinctus',\n",
       "       'Bombus ternarius', 'Bombus bifarius', 'Bombus affinis',\n",
       "       'Bombus borealis', 'Bombus morrisoni', 'Bombus citrinus',\n",
       "       'Bombus terricola', 'Bombus perplexus', 'Bombus fernaldae',\n",
       "       'Bombus melanopygus', 'Bombus sylvicola', 'Bombus fervidus',\n",
       "       'Bombus sandersoni', 'Bombus mixtus', 'Bombus auricomus',\n",
       "       'Bombus vosnesenskii', 'Bombus crotchii', 'Bombus insularis',\n",
       "       'Bombus bimaculatus', 'Bombus occidentalis', 'Bombus cockerelli',\n",
       "       nan, 'Bombus balteatus', 'Bombus lapponicus',\n",
       "       'Bombus californicus', 'Bombus suckleyi', 'Bombus patagiatus',\n",
       "       'Bombus flavifrons', 'Bombus sitkensis', 'Bombus neoboreus',\n",
       "       'Bombus rufosuffusus', 'Bombus separatus'], dtype=object)"
      ]
     },
     "execution_count": 24,
     "metadata": {},
     "output_type": "execute_result"
    }
   ],
   "source": [
    "# which unique species?\n",
    "sdf.species.unique() #underying data structure in pandas is a numpy array (remember)"
   ]
  },
  {
   "cell_type": "code",
   "execution_count": 25,
   "metadata": {},
   "outputs": [
    {
     "data": {
      "text/plain": [
       "43"
      ]
     },
     "execution_count": 25,
     "metadata": {},
     "output_type": "execute_result"
    }
   ],
   "source": [
    "# exclude nan and count species\n",
    "mask = sdf.species.notna()\n",
    "df.species[mask].unique().size"
   ]
  },
  {
   "cell_type": "code",
   "execution_count": 26,
   "metadata": {},
   "outputs": [
    {
     "data": {
      "text/html": [
       "<div class=\"toyplot\" id=\"t7468c55c3eeb4011824f3ebc38ad0e68\" style=\"text-align:center\"><svg class=\"toyplot-canvas-Canvas\" height=\"350.0px\" id=\"t5693c1182fc64282a515fc29f262f3ed\" preserveAspectRatio=\"xMidYMid meet\" style=\"background-color:transparent;fill:rgb(16.1%,15.3%,14.1%);fill-opacity:1.0;font-family:Helvetica;font-size:12px;opacity:1.0;stroke:rgb(16.1%,15.3%,14.1%);stroke-opacity:1.0;stroke-width:1.0\" viewBox=\"0 0 600 350.0\" width=\"600px\" xmlns=\"http://www.w3.org/2000/svg\" xmlns:toyplot=\"http://www.sandia.gov/toyplot\" xmlns:xlink=\"http://www.w3.org/1999/xlink\"><g class=\"toyplot-coordinates-Cartesian\" id=\"t7e7e0fadbae04085858de26438e89162\"><clipPath id=\"t9e651b810a9f4dc7b52ab3bcfd379a8b\"><rect height=\"270.0\" width=\"520.0\" x=\"40.0\" y=\"40.0\"></rect></clipPath><g clip-path=\"url(#t9e651b810a9f4dc7b52ab3bcfd379a8b)\"><g class=\"toyplot-mark-BarMagnitudes\" id=\"t63bbfb89585b4c6f959e29f8c2e9c366\" style=\"stroke:rgb(100%,100%,100%);stroke-opacity:1.0;stroke-width:1.0\"><g class=\"toyplot-Series\"><rect class=\"toyplot-Datum\" height=\"250.0\" style=\"fill:rgb(40%,76.1%,64.7%);fill-opacity:1.0;opacity:1.0;stroke:rgb(100%,100%,100%);stroke-opacity:1.0;stroke-width:1.0\" width=\"11.627906976744178\" x=\"50.0\" y=\"50.0\"><title>Bombus impatiens</title></rect><rect class=\"toyplot-Datum\" height=\"217.34234234234236\" style=\"fill:rgb(40%,76.1%,64.7%);fill-opacity:1.0;opacity:1.0;stroke:rgb(100%,100%,100%);stroke-opacity:1.0;stroke-width:1.0\" width=\"11.627906976744192\" x=\"61.62790697674418\" y=\"82.65765765765765\"><title>Bombus vagans</title></rect><rect class=\"toyplot-Datum\" height=\"181.3063063063063\" style=\"fill:rgb(40%,76.1%,64.7%);fill-opacity:1.0;opacity:1.0;stroke:rgb(100%,100%,100%);stroke-opacity:1.0;stroke-width:1.0\" width=\"11.627906976744185\" x=\"73.25581395348837\" y=\"118.69369369369369\"><title>Bombus occidentalis</title></rect><rect class=\"toyplot-Datum\" height=\"171.17117117117118\" style=\"fill:rgb(40%,76.1%,64.7%);fill-opacity:1.0;opacity:1.0;stroke:rgb(100%,100%,100%);stroke-opacity:1.0;stroke-width:1.0\" width=\"11.627906976744185\" x=\"84.88372093023256\" y=\"128.82882882882882\"><title>Bombus pensylvanicus</title></rect><rect class=\"toyplot-Datum\" height=\"163.28828828828827\" style=\"fill:rgb(40%,76.1%,64.7%);fill-opacity:1.0;opacity:1.0;stroke:rgb(100%,100%,100%);stroke-opacity:1.0;stroke-width:1.0\" width=\"11.627906976744185\" x=\"96.51162790697674\" y=\"136.71171171171173\"><title>Bombus fervidus</title></rect><rect class=\"toyplot-Datum\" height=\"110.36036036036035\" style=\"fill:rgb(40%,76.1%,64.7%);fill-opacity:1.0;opacity:1.0;stroke:rgb(100%,100%,100%);stroke-opacity:1.0;stroke-width:1.0\" width=\"11.627906976744185\" x=\"108.13953488372093\" y=\"189.63963963963965\"><title>Bombus affinis</title></rect><rect class=\"toyplot-Datum\" height=\"108.10810810810813\" style=\"fill:rgb(40%,76.1%,64.7%);fill-opacity:1.0;opacity:1.0;stroke:rgb(100%,100%,100%);stroke-opacity:1.0;stroke-width:1.0\" width=\"11.627906976744185\" x=\"119.76744186046511\" y=\"191.89189189189187\"><title>Bombus griseocollis</title></rect><rect class=\"toyplot-Datum\" height=\"104.72972972972971\" style=\"fill:rgb(40%,76.1%,64.7%);fill-opacity:1.0;opacity:1.0;stroke:rgb(100%,100%,100%);stroke-opacity:1.0;stroke-width:1.0\" width=\"11.627906976744185\" x=\"131.3953488372093\" y=\"195.2702702702703\"><title>Bombus terricola</title></rect><rect class=\"toyplot-Datum\" height=\"94.59459459459458\" style=\"fill:rgb(40%,76.1%,64.7%);fill-opacity:1.0;opacity:1.0;stroke:rgb(100%,100%,100%);stroke-opacity:1.0;stroke-width:1.0\" width=\"11.627906976744185\" x=\"143.02325581395348\" y=\"205.40540540540542\"><title>Bombus centralis</title></rect><rect class=\"toyplot-Datum\" height=\"82.2072072072072\" style=\"fill:rgb(40%,76.1%,64.7%);fill-opacity:1.0;opacity:1.0;stroke:rgb(100%,100%,100%);stroke-opacity:1.0;stroke-width:1.0\" width=\"11.627906976744185\" x=\"154.65116279069767\" y=\"217.7927927927928\"><title>Bombus morrisoni</title></rect><rect class=\"toyplot-Datum\" height=\"76.57657657657657\" style=\"fill:rgb(40%,76.1%,64.7%);fill-opacity:1.0;opacity:1.0;stroke:rgb(100%,100%,100%);stroke-opacity:1.0;stroke-width:1.0\" width=\"11.627906976744214\" x=\"166.27906976744185\" y=\"223.42342342342343\"><title>Bombus rufocinctus</title></rect><rect class=\"toyplot-Datum\" height=\"57.43243243243242\" style=\"fill:rgb(40%,76.1%,64.7%);fill-opacity:1.0;opacity:1.0;stroke:rgb(100%,100%,100%);stroke-opacity:1.0;stroke-width:1.0\" width=\"11.627906976744157\" x=\"177.90697674418607\" y=\"242.56756756756758\"><title>Bombus bifarius</title></rect><rect class=\"toyplot-Datum\" height=\"54.05405405405406\" style=\"fill:rgb(40%,76.1%,64.7%);fill-opacity:1.0;opacity:1.0;stroke:rgb(100%,100%,100%);stroke-opacity:1.0;stroke-width:1.0\" width=\"11.627906976744185\" x=\"189.53488372093022\" y=\"245.94594594594594\"><title>Bombus variabilis</title></rect><rect class=\"toyplot-Datum\" height=\"52.92792792792795\" style=\"fill:rgb(40%,76.1%,64.7%);fill-opacity:1.0;opacity:1.0;stroke:rgb(100%,100%,100%);stroke-opacity:1.0;stroke-width:1.0\" width=\"11.627906976744214\" x=\"201.1627906976744\" y=\"247.07207207207205\"><title>Bombus huntii</title></rect><rect class=\"toyplot-Datum\" height=\"50.675675675675706\" style=\"fill:rgb(40%,76.1%,64.7%);fill-opacity:1.0;opacity:1.0;stroke:rgb(100%,100%,100%);stroke-opacity:1.0;stroke-width:1.0\" width=\"11.627906976744185\" x=\"212.79069767441862\" y=\"249.3243243243243\"><title>Bombus insularis</title></rect><rect class=\"toyplot-Datum\" height=\"48.42342342342343\" style=\"fill:rgb(40%,76.1%,64.7%);fill-opacity:1.0;opacity:1.0;stroke:rgb(100%,100%,100%);stroke-opacity:1.0;stroke-width:1.0\" width=\"11.627906976744157\" x=\"224.4186046511628\" y=\"251.57657657657657\"><title>Bombus bimaculatus</title></rect><rect class=\"toyplot-Datum\" height=\"36.03603603603602\" style=\"fill:rgb(40%,76.1%,64.7%);fill-opacity:1.0;opacity:1.0;stroke:rgb(100%,100%,100%);stroke-opacity:1.0;stroke-width:1.0\" width=\"11.627906976744185\" x=\"236.04651162790697\" y=\"263.963963963964\"><title>Bombus vosnesenskii</title></rect><rect class=\"toyplot-Datum\" height=\"33.78378378378375\" style=\"fill:rgb(40%,76.1%,64.7%);fill-opacity:1.0;opacity:1.0;stroke:rgb(100%,100%,100%);stroke-opacity:1.0;stroke-width:1.0\" width=\"11.627906976744185\" x=\"247.67441860465115\" y=\"266.21621621621625\"><title>Bombus appositus</title></rect><rect class=\"toyplot-Datum\" height=\"33.78378378378375\" style=\"fill:rgb(40%,76.1%,64.7%);fill-opacity:1.0;opacity:1.0;stroke:rgb(100%,100%,100%);stroke-opacity:1.0;stroke-width:1.0\" width=\"11.627906976744214\" x=\"259.30232558139534\" y=\"266.21621621621625\"><title>Bombus fraternus</title></rect><rect class=\"toyplot-Datum\" height=\"24.774774774774812\" style=\"fill:rgb(40%,76.1%,64.7%);fill-opacity:1.0;opacity:1.0;stroke:rgb(100%,100%,100%);stroke-opacity:1.0;stroke-width:1.0\" width=\"11.627906976744157\" x=\"270.93023255813955\" y=\"275.2252252252252\"><title>Bombus auricomus</title></rect><rect class=\"toyplot-Datum\" height=\"24.774774774774812\" style=\"fill:rgb(40%,76.1%,64.7%);fill-opacity:1.0;opacity:1.0;stroke:rgb(100%,100%,100%);stroke-opacity:1.0;stroke-width:1.0\" width=\"11.627906976744157\" x=\"282.5581395348837\" y=\"275.2252252252252\"><title>Bombus perplexus</title></rect><rect class=\"toyplot-Datum\" height=\"22.522522522522536\" style=\"fill:rgb(40%,76.1%,64.7%);fill-opacity:1.0;opacity:1.0;stroke:rgb(100%,100%,100%);stroke-opacity:1.0;stroke-width:1.0\" width=\"11.62790697674427\" x=\"294.18604651162786\" y=\"277.47747747747746\"><title>Bombus melanopygus</title></rect><rect class=\"toyplot-Datum\" height=\"21.396396396396426\" style=\"fill:rgb(40%,76.1%,64.7%);fill-opacity:1.0;opacity:1.0;stroke:rgb(100%,100%,100%);stroke-opacity:1.0;stroke-width:1.0\" width=\"11.6279069767441\" x=\"305.81395348837214\" y=\"278.6036036036036\"><title>Bombus nevadensis</title></rect><rect class=\"toyplot-Datum\" height=\"18.018018018017983\" style=\"fill:rgb(40%,76.1%,64.7%);fill-opacity:1.0;opacity:1.0;stroke:rgb(100%,100%,100%);stroke-opacity:1.0;stroke-width:1.0\" width=\"11.627906976744214\" x=\"317.44186046511624\" y=\"281.981981981982\"><title>Bombus ternarius</title></rect><rect class=\"toyplot-Datum\" height=\"15.765765765765764\" style=\"fill:rgb(40%,76.1%,64.7%);fill-opacity:1.0;opacity:1.0;stroke:rgb(100%,100%,100%);stroke-opacity:1.0;stroke-width:1.0\" width=\"11.627906976744214\" x=\"329.06976744186045\" y=\"284.23423423423424\"><title>Bombus fernaldae</title></rect><rect class=\"toyplot-Datum\" height=\"14.639639639639597\" style=\"fill:rgb(40%,76.1%,64.7%);fill-opacity:1.0;opacity:1.0;stroke:rgb(100%,100%,100%);stroke-opacity:1.0;stroke-width:1.0\" width=\"11.627906976744157\" x=\"340.69767441860466\" y=\"285.3603603603604\"><title>Bombus mixtus</title></rect><rect class=\"toyplot-Datum\" height=\"13.513513513513487\" style=\"fill:rgb(40%,76.1%,64.7%);fill-opacity:1.0;opacity:1.0;stroke:rgb(100%,100%,100%);stroke-opacity:1.0;stroke-width:1.0\" width=\"11.627906976744157\" x=\"352.3255813953488\" y=\"286.4864864864865\"><title>Bombus californicus</title></rect><rect class=\"toyplot-Datum\" height=\"13.513513513513487\" style=\"fill:rgb(40%,76.1%,64.7%);fill-opacity:1.0;opacity:1.0;stroke:rgb(100%,100%,100%);stroke-opacity:1.0;stroke-width:1.0\" width=\"11.62790697674427\" x=\"363.953488372093\" y=\"286.4864864864865\"><title>Bombus flavifrons</title></rect><rect class=\"toyplot-Datum\" height=\"12.387387387387435\" style=\"fill:rgb(40%,76.1%,64.7%);fill-opacity:1.0;opacity:1.0;stroke:rgb(100%,100%,100%);stroke-opacity:1.0;stroke-width:1.0\" width=\"11.6279069767441\" x=\"375.58139534883725\" y=\"287.61261261261257\"><title>Bombus citrinus</title></rect><rect class=\"toyplot-Datum\" height=\"7.882882882882882\" style=\"fill:rgb(40%,76.1%,64.7%);fill-opacity:1.0;opacity:1.0;stroke:rgb(100%,100%,100%);stroke-opacity:1.0;stroke-width:1.0\" width=\"11.627906976744214\" x=\"387.20930232558135\" y=\"292.1171171171171\"><title>Bombus borealis</title></rect><rect class=\"toyplot-Datum\" height=\"6.756756756756715\" style=\"fill:rgb(40%,76.1%,64.7%);fill-opacity:1.0;opacity:1.0;stroke:rgb(100%,100%,100%);stroke-opacity:1.0;stroke-width:1.0\" width=\"11.627906976744214\" x=\"398.83720930232556\" y=\"293.2432432432433\"><title>Bombus sandersoni</title></rect><rect class=\"toyplot-Datum\" height=\"6.756756756756715\" style=\"fill:rgb(40%,76.1%,64.7%);fill-opacity:1.0;opacity:1.0;stroke:rgb(100%,100%,100%);stroke-opacity:1.0;stroke-width:1.0\" width=\"11.627906976744157\" x=\"410.4651162790698\" y=\"293.2432432432433\"><title>Bombus sylvicola</title></rect><rect class=\"toyplot-Datum\" height=\"5.630630630630662\" style=\"fill:rgb(40%,76.1%,64.7%);fill-opacity:1.0;opacity:1.0;stroke:rgb(100%,100%,100%);stroke-opacity:1.0;stroke-width:1.0\" width=\"11.62790697674427\" x=\"422.09302325581393\" y=\"294.36936936936934\"><title>Bombus suckleyi</title></rect><rect class=\"toyplot-Datum\" height=\"5.630630630630662\" style=\"fill:rgb(40%,76.1%,64.7%);fill-opacity:1.0;opacity:1.0;stroke:rgb(100%,100%,100%);stroke-opacity:1.0;stroke-width:1.0\" width=\"11.6279069767441\" x=\"433.7209302325582\" y=\"294.36936936936934\"><title>Bombus balteatus</title></rect><rect class=\"toyplot-Datum\" height=\"4.504504504504496\" style=\"fill:rgb(40%,76.1%,64.7%);fill-opacity:1.0;opacity:1.0;stroke:rgb(100%,100%,100%);stroke-opacity:1.0;stroke-width:1.0\" width=\"11.627906976744214\" x=\"445.3488372093023\" y=\"295.4954954954955\"><title>Bombus sitkensis</title></rect><rect class=\"toyplot-Datum\" height=\"4.504504504504496\" style=\"fill:rgb(40%,76.1%,64.7%);fill-opacity:1.0;opacity:1.0;stroke:rgb(100%,100%,100%);stroke-opacity:1.0;stroke-width:1.0\" width=\"11.627906976744214\" x=\"456.9767441860465\" y=\"295.4954954954955\"><title>Bombus crotchii</title></rect><rect class=\"toyplot-Datum\" height=\"4.504504504504496\" style=\"fill:rgb(40%,76.1%,64.7%);fill-opacity:1.0;opacity:1.0;stroke:rgb(100%,100%,100%);stroke-opacity:1.0;stroke-width:1.0\" width=\"11.627906976744157\" x=\"468.60465116279073\" y=\"295.4954954954955\"><title>Bombus ashtoni</title></rect><rect class=\"toyplot-Datum\" height=\"3.378378378378386\" style=\"fill:rgb(40%,76.1%,64.7%);fill-opacity:1.0;opacity:1.0;stroke:rgb(100%,100%,100%);stroke-opacity:1.0;stroke-width:1.0\" width=\"11.627906976744157\" x=\"480.2325581395349\" y=\"296.6216216216216\"><title>Bombus cockerelli</title></rect><rect class=\"toyplot-Datum\" height=\"2.2522522522522763\" style=\"fill:rgb(40%,76.1%,64.7%);fill-opacity:1.0;opacity:1.0;stroke:rgb(100%,100%,100%);stroke-opacity:1.0;stroke-width:1.0\" width=\"11.627906976744214\" x=\"491.86046511627904\" y=\"297.7477477477477\"><title>Bombus lapponicus</title></rect><rect class=\"toyplot-Datum\" height=\"1.1261261261261097\" style=\"fill:rgb(40%,76.1%,64.7%);fill-opacity:1.0;opacity:1.0;stroke:rgb(100%,100%,100%);stroke-opacity:1.0;stroke-width:1.0\" width=\"11.627906976744157\" x=\"503.48837209302326\" y=\"298.8738738738739\"><title>Bombus patagiatus</title></rect><rect class=\"toyplot-Datum\" height=\"1.1261261261261097\" style=\"fill:rgb(40%,76.1%,64.7%);fill-opacity:1.0;opacity:1.0;stroke:rgb(100%,100%,100%);stroke-opacity:1.0;stroke-width:1.0\" width=\"11.62790697674427\" x=\"515.1162790697674\" y=\"298.8738738738739\"><title>Bombus neoboreus</title></rect><rect class=\"toyplot-Datum\" height=\"1.1261261261261097\" style=\"fill:rgb(40%,76.1%,64.7%);fill-opacity:1.0;opacity:1.0;stroke:rgb(100%,100%,100%);stroke-opacity:1.0;stroke-width:1.0\" width=\"11.627906976744043\" x=\"526.7441860465117\" y=\"298.8738738738739\"><title>Bombus separatus</title></rect><rect class=\"toyplot-Datum\" height=\"1.1261261261261097\" style=\"fill:rgb(40%,76.1%,64.7%);fill-opacity:1.0;opacity:1.0;stroke:rgb(100%,100%,100%);stroke-opacity:1.0;stroke-width:1.0\" width=\"11.62790697674427\" x=\"538.3720930232557\" y=\"298.8738738738739\"><title>Bombus rufosuffusus</title></rect></g></g></g><g class=\"toyplot-coordinates-Axis\" id=\"tcc68a3d1fd6142bf83255996413208d7\" transform=\"translate(50.0,300.0)translate(0,10.0)\"><line style=\"\" x1=\"0\" x2=\"500.0\" y1=\"0\" y2=\"0\"></line><g><g transform=\"translate(5.813953488372093,6)\"><text style=\"fill:rgb(16.1%,15.3%,14.1%);fill-opacity:1.0;font-family:helvetica;font-size:10.0px;font-weight:normal;stroke:none;vertical-align:baseline;white-space:pre\" x=\"-2.78\" y=\"8.555\">0</text></g><g transform=\"translate(122.09302325581395,6)\"><text style=\"fill:rgb(16.1%,15.3%,14.1%);fill-opacity:1.0;font-family:helvetica;font-size:10.0px;font-weight:normal;stroke:none;vertical-align:baseline;white-space:pre\" x=\"-5.56\" y=\"8.555\">10</text></g><g transform=\"translate(238.37209302325581,6)\"><text style=\"fill:rgb(16.1%,15.3%,14.1%);fill-opacity:1.0;font-family:helvetica;font-size:10.0px;font-weight:normal;stroke:none;vertical-align:baseline;white-space:pre\" x=\"-5.56\" y=\"8.555\">20</text></g><g transform=\"translate(354.6511627906977,6)\"><text style=\"fill:rgb(16.1%,15.3%,14.1%);fill-opacity:1.0;font-family:helvetica;font-size:10.0px;font-weight:normal;stroke:none;vertical-align:baseline;white-space:pre\" x=\"-5.56\" y=\"8.555\">30</text></g><g transform=\"translate(470.93023255813955,6)\"><text style=\"fill:rgb(16.1%,15.3%,14.1%);fill-opacity:1.0;font-family:helvetica;font-size:10.0px;font-weight:normal;stroke:none;vertical-align:baseline;white-space:pre\" x=\"-5.56\" y=\"8.555\">40</text></g></g><g class=\"toyplot-coordinates-Axis-coordinates\" style=\"visibility:hidden\" transform=\"\"><line style=\"stroke:rgb(43.9%,50.2%,56.5%);stroke-opacity:1.0;stroke-width:1.0\" x1=\"0\" x2=\"0\" y1=\"-3.0\" y2=\"4.5\"></line><text style=\"alignment-baseline:alphabetic;fill:rgb(43.9%,50.2%,56.5%);fill-opacity:1.0;font-size:10px;font-weight:normal;stroke:none;text-anchor:middle\" x=\"0\" y=\"-6\"></text></g></g><g class=\"toyplot-coordinates-Axis\" id=\"t85c02fd8810f4ce19f74a2d70f28f4dd\" transform=\"translate(50.0,300.0)rotate(-90.0)translate(0,-10.0)\"><line style=\"\" x1=\"0\" x2=\"250.0\" y1=\"0\" y2=\"0\"></line><g><g transform=\"translate(0.0,-6)\"><text style=\"fill:rgb(16.1%,15.3%,14.1%);fill-opacity:1.0;font-family:helvetica;font-size:10.0px;font-weight:normal;stroke:none;vertical-align:baseline;white-space:pre\" x=\"-2.78\" y=\"-4.440892098500626e-16\">0</text></g><g transform=\"translate(112.61261261261261,-6)\"><text style=\"fill:rgb(16.1%,15.3%,14.1%);fill-opacity:1.0;font-family:helvetica;font-size:10.0px;font-weight:normal;stroke:none;vertical-align:baseline;white-space:pre\" x=\"-8.34\" y=\"-4.440892098500626e-16\">100</text></g><g transform=\"translate(225.22522522522522,-6)\"><text style=\"fill:rgb(16.1%,15.3%,14.1%);fill-opacity:1.0;font-family:helvetica;font-size:10.0px;font-weight:normal;stroke:none;vertical-align:baseline;white-space:pre\" x=\"-8.34\" y=\"-4.440892098500626e-16\">200</text></g></g><g class=\"toyplot-coordinates-Axis-coordinates\" style=\"visibility:hidden\" transform=\"\"><line style=\"stroke:rgb(43.9%,50.2%,56.5%);stroke-opacity:1.0;stroke-width:1.0\" x1=\"0\" x2=\"0\" y1=\"3.0\" y2=\"-4.5\"></line><text style=\"alignment-baseline:hanging;fill:rgb(43.9%,50.2%,56.5%);fill-opacity:1.0;font-size:10px;font-weight:normal;stroke:none;text-anchor:middle\" x=\"0\" y=\"6\"></text></g></g></g></svg><div class=\"toyplot-behavior\"><script>(function()\n",
       "{\n",
       "var modules={};\n",
       "modules[\"toyplot/tables\"] = (function()\n",
       "    {\n",
       "        var tables = [];\n",
       "\n",
       "        var module = {};\n",
       "\n",
       "        module.set = function(owner, key, names, columns)\n",
       "        {\n",
       "            tables.push({owner: owner, key: key, names: names, columns: columns});\n",
       "        }\n",
       "\n",
       "        module.get = function(owner, key)\n",
       "        {\n",
       "            for(var i = 0; i != tables.length; ++i)\n",
       "            {\n",
       "                var table = tables[i];\n",
       "                if(table.owner != owner)\n",
       "                    continue;\n",
       "                if(table.key != key)\n",
       "                    continue;\n",
       "                return {names: table.names, columns: table.columns};\n",
       "            }\n",
       "        }\n",
       "\n",
       "        module.get_csv = function(owner, key)\n",
       "        {\n",
       "            var table = module.get(owner, key);\n",
       "            if(table != undefined)\n",
       "            {\n",
       "                var csv = \"\";\n",
       "                csv += table.names.join(\",\") + \"\\n\";\n",
       "                for(var i = 0; i != table.columns[0].length; ++i)\n",
       "                {\n",
       "                  for(var j = 0; j != table.columns.length; ++j)\n",
       "                  {\n",
       "                    if(j)\n",
       "                      csv += \",\";\n",
       "                    csv += table.columns[j][i];\n",
       "                  }\n",
       "                  csv += \"\\n\";\n",
       "                }\n",
       "                return csv;\n",
       "            }\n",
       "        }\n",
       "\n",
       "        return module;\n",
       "    })();\n",
       "modules[\"toyplot/root/id\"] = \"t7468c55c3eeb4011824f3ebc38ad0e68\";\n",
       "modules[\"toyplot/root\"] = (function(root_id)\n",
       "    {\n",
       "        return document.querySelector(\"#\" + root_id);\n",
       "    })(modules[\"toyplot/root/id\"]);\n",
       "modules[\"toyplot/canvas/id\"] = \"t5693c1182fc64282a515fc29f262f3ed\";\n",
       "modules[\"toyplot/canvas\"] = (function(canvas_id)\n",
       "    {\n",
       "        return document.querySelector(\"#\" + canvas_id);\n",
       "    })(modules[\"toyplot/canvas/id\"]);\n",
       "modules[\"toyplot/menus/context\"] = (function(root, canvas)\n",
       "    {\n",
       "        var wrapper = document.createElement(\"div\");\n",
       "        wrapper.innerHTML = \"<ul class='toyplot-context-menu' style='background:#eee; border:1px solid #b8b8b8; border-radius:5px; box-shadow: 0px 0px 8px rgba(0%,0%,0%,0.25); margin:0; padding:3px 0; position:fixed; visibility:hidden;'></ul>\"\n",
       "        var menu = wrapper.firstChild;\n",
       "\n",
       "        root.appendChild(menu);\n",
       "\n",
       "        var items = [];\n",
       "\n",
       "        var ignore_mouseup = null;\n",
       "        function open_menu(e)\n",
       "        {\n",
       "            var show_menu = false;\n",
       "            for(var index=0; index != items.length; ++index)\n",
       "            {\n",
       "                var item = items[index];\n",
       "                if(item.show(e))\n",
       "                {\n",
       "                    item.item.style.display = \"block\";\n",
       "                    show_menu = true;\n",
       "                }\n",
       "                else\n",
       "                {\n",
       "                    item.item.style.display = \"none\";\n",
       "                }\n",
       "            }\n",
       "\n",
       "            if(show_menu)\n",
       "            {\n",
       "                ignore_mouseup = true;\n",
       "                menu.style.left = (e.clientX + 1) + \"px\";\n",
       "                menu.style.top = (e.clientY - 5) + \"px\";\n",
       "                menu.style.visibility = \"visible\";\n",
       "                e.stopPropagation();\n",
       "                e.preventDefault();\n",
       "            }\n",
       "        }\n",
       "\n",
       "        function close_menu()\n",
       "        {\n",
       "            menu.style.visibility = \"hidden\";\n",
       "        }\n",
       "\n",
       "        function contextmenu(e)\n",
       "        {\n",
       "            open_menu(e);\n",
       "        }\n",
       "\n",
       "        function mousemove(e)\n",
       "        {\n",
       "            ignore_mouseup = false;\n",
       "        }\n",
       "\n",
       "        function mouseup(e)\n",
       "        {\n",
       "            if(ignore_mouseup)\n",
       "            {\n",
       "                ignore_mouseup = false;\n",
       "                return;\n",
       "            }\n",
       "            close_menu();\n",
       "        }\n",
       "\n",
       "        function keydown(e)\n",
       "        {\n",
       "            if(e.key == \"Escape\" || e.key == \"Esc\" || e.keyCode == 27)\n",
       "            {\n",
       "                close_menu();\n",
       "            }\n",
       "        }\n",
       "\n",
       "        canvas.addEventListener(\"contextmenu\", contextmenu);\n",
       "        canvas.addEventListener(\"mousemove\", mousemove);\n",
       "        document.addEventListener(\"mouseup\", mouseup);\n",
       "        document.addEventListener(\"keydown\", keydown);\n",
       "\n",
       "        var module = {};\n",
       "        module.add_item = function(label, show, activate)\n",
       "        {\n",
       "            var wrapper = document.createElement(\"div\");\n",
       "            wrapper.innerHTML = \"<li class='toyplot-context-menu-item' style='background:#eee; color:#333; padding:2px 20px; list-style:none; margin:0; text-align:left;'>\" + label + \"</li>\"\n",
       "            var item = wrapper.firstChild;\n",
       "\n",
       "            items.push({item: item, show: show});\n",
       "\n",
       "            function mouseover()\n",
       "            {\n",
       "                this.style.background = \"steelblue\";\n",
       "                this.style.color = \"white\";\n",
       "            }\n",
       "\n",
       "            function mouseout()\n",
       "            {\n",
       "                this.style.background = \"#eee\";\n",
       "                this.style.color = \"#333\";\n",
       "            }\n",
       "\n",
       "            function choose_item(e)\n",
       "            {\n",
       "                close_menu();\n",
       "                activate();\n",
       "\n",
       "                e.stopPropagation();\n",
       "                e.preventDefault();\n",
       "            }\n",
       "\n",
       "            item.addEventListener(\"mouseover\", mouseover);\n",
       "            item.addEventListener(\"mouseout\", mouseout);\n",
       "            item.addEventListener(\"mouseup\", choose_item);\n",
       "            item.addEventListener(\"contextmenu\", choose_item);\n",
       "\n",
       "            menu.appendChild(item);\n",
       "        };\n",
       "        return module;\n",
       "    })(modules[\"toyplot/root\"],modules[\"toyplot/canvas\"]);\n",
       "modules[\"toyplot/io\"] = (function()\n",
       "    {\n",
       "        var module = {};\n",
       "        module.save_file = function(mime_type, charset, data, filename)\n",
       "        {\n",
       "            var uri = \"data:\" + mime_type + \";charset=\" + charset + \",\" + data;\n",
       "            uri = encodeURI(uri);\n",
       "\n",
       "            var link = document.createElement(\"a\");\n",
       "            if(typeof link.download != \"undefined\")\n",
       "            {\n",
       "              link.href = uri;\n",
       "              link.style = \"visibility:hidden\";\n",
       "              link.download = filename;\n",
       "\n",
       "              document.body.appendChild(link);\n",
       "              link.click();\n",
       "              document.body.removeChild(link);\n",
       "            }\n",
       "            else\n",
       "            {\n",
       "              window.open(uri);\n",
       "            }\n",
       "        };\n",
       "        return module;\n",
       "    })();\n",
       "modules[\"toyplot.coordinates.Axis\"] = (\n",
       "        function(canvas)\n",
       "        {\n",
       "            function sign(x)\n",
       "            {\n",
       "                return x < 0 ? -1 : x > 0 ? 1 : 0;\n",
       "            }\n",
       "\n",
       "            function mix(a, b, amount)\n",
       "            {\n",
       "                return ((1.0 - amount) * a) + (amount * b);\n",
       "            }\n",
       "\n",
       "            function log(x, base)\n",
       "            {\n",
       "                return Math.log(Math.abs(x)) / Math.log(base);\n",
       "            }\n",
       "\n",
       "            function in_range(a, x, b)\n",
       "            {\n",
       "                var left = Math.min(a, b);\n",
       "                var right = Math.max(a, b);\n",
       "                return left <= x && x <= right;\n",
       "            }\n",
       "\n",
       "            function inside(range, projection)\n",
       "            {\n",
       "                for(var i = 0; i != projection.length; ++i)\n",
       "                {\n",
       "                    var segment = projection[i];\n",
       "                    if(in_range(segment.range.min, range, segment.range.max))\n",
       "                        return true;\n",
       "                }\n",
       "                return false;\n",
       "            }\n",
       "\n",
       "            function to_domain(range, projection)\n",
       "            {\n",
       "                for(var i = 0; i != projection.length; ++i)\n",
       "                {\n",
       "                    var segment = projection[i];\n",
       "                    if(in_range(segment.range.bounds.min, range, segment.range.bounds.max))\n",
       "                    {\n",
       "                        if(segment.scale == \"linear\")\n",
       "                        {\n",
       "                            var amount = (range - segment.range.min) / (segment.range.max - segment.range.min);\n",
       "                            return mix(segment.domain.min, segment.domain.max, amount)\n",
       "                        }\n",
       "                        else if(segment.scale[0] == \"log\")\n",
       "                        {\n",
       "                            var amount = (range - segment.range.min) / (segment.range.max - segment.range.min);\n",
       "                            var base = segment.scale[1];\n",
       "                            return sign(segment.domain.min) * Math.pow(base, mix(log(segment.domain.min, base), log(segment.domain.max, base), amount));\n",
       "                        }\n",
       "                    }\n",
       "                }\n",
       "            }\n",
       "\n",
       "            var axes = {};\n",
       "\n",
       "            function display_coordinates(e)\n",
       "            {\n",
       "                var current = canvas.createSVGPoint();\n",
       "                current.x = e.clientX;\n",
       "                current.y = e.clientY;\n",
       "\n",
       "                for(var axis_id in axes)\n",
       "                {\n",
       "                    var axis = document.querySelector(\"#\" + axis_id);\n",
       "                    var coordinates = axis.querySelector(\".toyplot-coordinates-Axis-coordinates\");\n",
       "                    if(coordinates)\n",
       "                    {\n",
       "                        var projection = axes[axis_id];\n",
       "                        var local = current.matrixTransform(axis.getScreenCTM().inverse());\n",
       "                        if(inside(local.x, projection))\n",
       "                        {\n",
       "                            var domain = to_domain(local.x, projection);\n",
       "                            coordinates.style.visibility = \"visible\";\n",
       "                            coordinates.setAttribute(\"transform\", \"translate(\" + local.x + \")\");\n",
       "                            var text = coordinates.querySelector(\"text\");\n",
       "                            text.textContent = domain.toFixed(2);\n",
       "                        }\n",
       "                        else\n",
       "                        {\n",
       "                            coordinates.style.visibility= \"hidden\";\n",
       "                        }\n",
       "                    }\n",
       "                }\n",
       "            }\n",
       "\n",
       "            canvas.addEventListener(\"click\", display_coordinates);\n",
       "\n",
       "            var module = {};\n",
       "            module.show_coordinates = function(axis_id, projection)\n",
       "            {\n",
       "                axes[axis_id] = projection;\n",
       "            }\n",
       "\n",
       "            return module;\n",
       "        })(modules[\"toyplot/canvas\"]);\n",
       "(function(tables, context_menu, io, owner_id, key, label, names, columns, filename)\n",
       "        {\n",
       "            tables.set(owner_id, key, names, columns);\n",
       "\n",
       "            var owner = document.querySelector(\"#\" + owner_id);\n",
       "            function show_item(e)\n",
       "            {\n",
       "                return owner.contains(e.target);\n",
       "            }\n",
       "\n",
       "            function choose_item()\n",
       "            {\n",
       "                io.save_file(\"text/csv\", \"utf-8\", tables.get_csv(owner_id, key), filename + \".csv\");\n",
       "            }\n",
       "\n",
       "            context_menu.add_item(\"Save \" + label + \" as CSV\", show_item, choose_item);\n",
       "        })(modules[\"toyplot/tables\"],modules[\"toyplot/menus/context\"],modules[\"toyplot/io\"],\"t63bbfb89585b4c6f959e29f8c2e9c366\",\"data\",\"bar data\",[\"left\", \"right\", \"baseline\", \"magnitude0\"],[[-0.5, 0.5, 1.5, 2.5, 3.5, 4.5, 5.5, 6.5, 7.5, 8.5, 9.5, 10.5, 11.5, 12.5, 13.5, 14.5, 15.5, 16.5, 17.5, 18.5, 19.5, 20.5, 21.5, 22.5, 23.5, 24.5, 25.5, 26.5, 27.5, 28.5, 29.5, 30.5, 31.5, 32.5, 33.5, 34.5, 35.5, 36.5, 37.5, 38.5, 39.5, 40.5, 41.5], [0.5, 1.5, 2.5, 3.5, 4.5, 5.5, 6.5, 7.5, 8.5, 9.5, 10.5, 11.5, 12.5, 13.5, 14.5, 15.5, 16.5, 17.5, 18.5, 19.5, 20.5, 21.5, 22.5, 23.5, 24.5, 25.5, 26.5, 27.5, 28.5, 29.5, 30.5, 31.5, 32.5, 33.5, 34.5, 35.5, 36.5, 37.5, 38.5, 39.5, 40.5, 41.5, 42.5], [0.0, 0.0, 0.0, 0.0, 0.0, 0.0, 0.0, 0.0, 0.0, 0.0, 0.0, 0.0, 0.0, 0.0, 0.0, 0.0, 0.0, 0.0, 0.0, 0.0, 0.0, 0.0, 0.0, 0.0, 0.0, 0.0, 0.0, 0.0, 0.0, 0.0, 0.0, 0.0, 0.0, 0.0, 0.0, 0.0, 0.0, 0.0, 0.0, 0.0, 0.0, 0.0, 0.0], [222.0, 193.0, 161.0, 152.0, 145.0, 98.0, 96.0, 93.0, 84.0, 73.0, 68.0, 51.0, 48.0, 47.0, 45.0, 43.0, 32.0, 30.0, 30.0, 22.0, 22.0, 20.0, 19.0, 16.0, 14.0, 13.0, 12.0, 12.0, 11.0, 7.0, 6.0, 6.0, 5.0, 5.0, 4.0, 4.0, 4.0, 3.0, 2.0, 1.0, 1.0, 1.0, 1.0]],\"toyplot\");\n",
       "(function(axis, axis_id, projection)\n",
       "        {\n",
       "            axis.show_coordinates(axis_id, projection);\n",
       "        })(modules[\"toyplot.coordinates.Axis\"],\"tcc68a3d1fd6142bf83255996413208d7\",[{\"domain\": {\"bounds\": {\"max\": Infinity, \"min\": -Infinity}, \"max\": 42.5, \"min\": -0.5}, \"range\": {\"bounds\": {\"max\": Infinity, \"min\": -Infinity}, \"max\": 500.0, \"min\": 0.0}, \"scale\": \"linear\"}]);\n",
       "(function(axis, axis_id, projection)\n",
       "        {\n",
       "            axis.show_coordinates(axis_id, projection);\n",
       "        })(modules[\"toyplot.coordinates.Axis\"],\"t85c02fd8810f4ce19f74a2d70f28f4dd\",[{\"domain\": {\"bounds\": {\"max\": Infinity, \"min\": -Infinity}, \"max\": 222.0, \"min\": 0.0}, \"range\": {\"bounds\": {\"max\": Infinity, \"min\": -Infinity}, \"max\": 250.0, \"min\": 0.0}, \"scale\": \"linear\"}]);\n",
       "})();</script></div></div>"
      ]
     },
     "metadata": {},
     "output_type": "display_data"
    }
   ],
   "source": [
    "# plot the number of each species in order\n",
    "sp_counts = df.species[mask].value_counts()\n",
    "toyplot.bars(sp_counts, height=350, title=sp_counts.index);\n"
   ]
  },
  {
   "cell_type": "markdown",
   "metadata": {},
   "source": [
    "## Assignment: "
   ]
  },
  {
   "cell_type": "markdown",
   "metadata": {},
   "source": [
    "### Task 1: \n",
    "Write a Class object called `Records` that can be given a taxon name query and a range of years and will return a class instance with all results from GBIF for the queried range using the same params from our example above, except allowing the 'q' and 'year' arguments to vary. You can reuse the code above to create the core functions for your object. When finished, you should be able to use the object in the following way. This means that after writing your Class object, test it using the code below and make sure it gives proper results. "
   ]
  },
  {
   "cell_type": "code",
   "execution_count": 27,
   "metadata": {},
   "outputs": [],
   "source": [
    "# fill in the params dictionary, write functions to update it\n",
    "# with the entered arguments to __init__, write functions\n",
    "# to get_all_records and store results as a dataframe.\n",
    "# have all functions run during init so that the initialized\n",
    "# object calls the request and returns a full dataframe. \n",
    "\n",
    "import requests\n",
    "import pandas as pd\n",
    "\n",
    "class records:\n",
    "    \n",
    "    def __init__(self, q=None, interval=None):        \n",
    "        \n",
    "        self.q = q\n",
    "        self.interval = interval\n",
    "        self.params = {}\n",
    "        self.df = pd.DataFrame()\n",
    "    \n",
    "    def _get_all_records(self):     \n",
    "        \"iterate until end of records\"\n",
    "        start = 0\n",
    "        data = []\n",
    "    \n",
    "        gbif_interval = str(self.interval[0]) + \",\" + str(self.interval[1])\n",
    "         \n",
    "        self.params = {\n",
    "          \"q\": self.q , \n",
    "          \"year\" : gbif_interval , \n",
    "        \"basisOfRecord\": \"PRESERVED_SPECIMEN\",\n",
    "        \"hasCoordinate\": \"true\",\n",
    "        \"hasGeospatialIssue\": \"false\",\n",
    "        \"country\": \"US\",\n",
    "        \"offset\": \"0\",\n",
    "        \"limit\": \"300\"\n",
    "        }\n",
    "        \n",
    "        while 1: \n",
    "            res = requests.get(\n",
    "                url=\"http://api.gbif.org/v1/occurrence/search?\", \n",
    "                params=self.params,\n",
    "            )\n",
    "        # increment counter\n",
    "            self.params[\"offset\"] = str(int(self.params[\"offset\"]) + 300)\n",
    "        \n",
    "        # concatenate data \n",
    "            idata = res.json()\n",
    "            data += idata[\"results\"]\n",
    "        \n",
    "        # stop when end of record is reached\n",
    "            if idata[\"endOfRecords\"]:\n",
    "                break\n",
    "        \n",
    "        self.df = pd.DataFrame(data)\n",
    "        return self.df\n",
    "    \n",
    "    def all_records(self):\n",
    "        return self._get_all_records()\n",
    "\n",
    "          "
   ]
  },
  {
   "cell_type": "code",
   "execution_count": 28,
   "metadata": {},
   "outputs": [
    {
     "name": "stdout",
     "output_type": "stream",
     "text": [
      "<__main__.records object at 0x7fed501d2908>\n",
      "  accessRights associatedReferences associatedTaxa       basisOfRecord  \\\n",
      "0          NaN                  NaN            NaN  PRESERVED_SPECIMEN   \n",
      "1          NaN                  NaN            NaN  PRESERVED_SPECIMEN   \n",
      "2          NaN                  NaN            NaN  PRESERVED_SPECIMEN   \n",
      "3          NaN                  NaN            NaN  PRESERVED_SPECIMEN   \n",
      "4          NaN                  NaN            NaN  PRESERVED_SPECIMEN   \n",
      "\n",
      "  bibliographicCitation             catalogNumber    class  classKey  \\\n",
      "0                   NaN  Insect Collection 248415  Insecta       216   \n",
      "1                   NaN  Insect Collection 247326  Insecta       216   \n",
      "2                   NaN  Insect Collection 247833  Insecta       216   \n",
      "3                   NaN  Insect Collection 248829  Insecta       216   \n",
      "4                   NaN  Insect Collection 247332  Insecta       216   \n",
      "\n",
      "      collectionCode collectionID  ...  startDayOfYear  stateProvince  \\\n",
      "0  Insect Collection          NaN  ...             NaN       Illinois   \n",
      "1  Insect Collection          NaN  ...             NaN       Illinois   \n",
      "2  Insect Collection          NaN  ...             NaN     Washington   \n",
      "3  Insect Collection          NaN  ...             NaN       Illinois   \n",
      "4  Insect Collection          NaN  ...             NaN       Illinois   \n",
      "\n",
      "   taxonKey taxonRank taxonRemarks type  typeStatus verbatimEventDate  \\\n",
      "0   1340472   SPECIES          NaN  NaN         NaN               NaN   \n",
      "1   1340472   SPECIES          NaN  NaN         NaN               NaN   \n",
      "2   1340439   SPECIES          NaN  NaN         NaN               NaN   \n",
      "3   1340350   SPECIES          NaN  NaN         NaN               NaN   \n",
      "4   1340472   SPECIES          NaN  NaN         NaN               NaN   \n",
      "\n",
      "  vernacularName  year  \n",
      "0            NaN  1905  \n",
      "1            NaN  1905  \n",
      "2            NaN  1905  \n",
      "3            NaN  1905  \n",
      "4            NaN  1905  \n",
      "\n",
      "[5 rows x 102 columns]\n"
     ]
    },
    {
     "data": {
      "text/plain": [
       "(974, 102)"
      ]
     },
     "execution_count": 28,
     "metadata": {},
     "output_type": "execute_result"
    }
   ],
   "source": [
    "## create instance by entering query and a range of years as integers\n",
    "rec = records(q=\"Bombus\", interval=(1905, 1906))\n",
    "print(rec)\n",
    "\n",
    "df = rec.all_records()\n",
    "\n",
    "print(df.head())\n",
    "\n",
    "## access all of the returned records as a dataframe \n",
    "## (here asking for the shape to see how many records there are)\n",
    "\n",
    "df.shape\n"
   ]
  },
  {
   "cell_type": "markdown",
   "metadata": {},
   "source": [
    "### Task 2: \n",
    "Once you have tested your Record class object in this notebook and it is working, copy it to a new `.py` file in a text editor and name it records.py, and put this in a new folder called `records/`. Then add an `__init__.py` file and a `setup.py` file and structure this directory so that it can be imported as a Python package. If you need a review on how to do this look back at lecture 5, and the assignment from that lecture (https://github.com/programming-for-bio/5-Packaging/blob/master/Notebooks/nb-5.2-packaging.ipynb). This will be very similar to the 'helloworld' package that we wrote. When you are finished, install the package with pip and try importing it like below. Then push the `records` folder as a new repo to your GitHub account named records.  "
   ]
  },
  {
   "cell_type": "code",
   "execution_count": 29,
   "metadata": {},
   "outputs": [
    {
     "name": "stdout",
     "output_type": "stream",
     "text": [
      "<records.records.records object at 0x7fed51302ba8>\n",
      "  accessRights associatedReferences associatedTaxa       basisOfRecord  \\\n",
      "0          NaN                  NaN            NaN  PRESERVED_SPECIMEN   \n",
      "1          NaN                  NaN            NaN  PRESERVED_SPECIMEN   \n",
      "2          NaN                  NaN            NaN  PRESERVED_SPECIMEN   \n",
      "3          NaN                  NaN            NaN  PRESERVED_SPECIMEN   \n",
      "4          NaN                  NaN            NaN  PRESERVED_SPECIMEN   \n",
      "\n",
      "  behavior bibliographicCitation             catalogNumber    class  classKey  \\\n",
      "0      NaN                   NaN           Hymenoptera 562  Insecta     216.0   \n",
      "1      NaN                   NaN  Insect Collection 245809  Insecta     216.0   \n",
      "2      NaN                   NaN  Insect Collection 243363  Insecta     216.0   \n",
      "3      NaN                   NaN  Insect Collection 245821  Insecta     216.0   \n",
      "4      NaN                   NaN  Insect Collection 374540  Insecta     216.0   \n",
      "\n",
      "      collectionCode  ...  type typeStatus  verbatimCoordinateSystem  \\\n",
      "0  Insect Collection  ...   NaN        NaN                       NaN   \n",
      "1  Insect Collection  ...   NaN        NaN                       NaN   \n",
      "2  Insect Collection  ...   NaN        NaN                       NaN   \n",
      "3  Insect Collection  ...   NaN        NaN                       NaN   \n",
      "4  Insect Collection  ...   NaN        NaN                       NaN   \n",
      "\n",
      "   verbatimElevation verbatimEventDate verbatimLocality verbatimTaxonRank  \\\n",
      "0                NaN               NaN              NaN               NaN   \n",
      "1                NaN               NaN              NaN               NaN   \n",
      "2                NaN               NaN              NaN               NaN   \n",
      "3                NaN               NaN              NaN               NaN   \n",
      "4                NaN               NaN              NaN               NaN   \n",
      "\n",
      "   vernacularName waterBody  year  \n",
      "0             NaN       NaN  1996  \n",
      "1             NaN       NaN  1997  \n",
      "2             NaN       NaN  1994  \n",
      "3             NaN       NaN  1997  \n",
      "4             NaN       NaN  1995  \n",
      "\n",
      "[5 rows x 132 columns]\n"
     ]
    }
   ],
   "source": [
    "# import your library and access the Records class object from it\n",
    "import records\n",
    "rec = records.records(\"Bombus\", interval=(1990, 2000))\n",
    "print(rec)\n",
    "\n",
    "df = rec.all_records()\n",
    "print(df.head())\n",
    "\n",
    "\n"
   ]
  },
  {
   "cell_type": "markdown",
   "metadata": {},
   "source": [
    "### Task 3: \n",
    "I will post a working example on Friday so that you can *update or fix your code before the next class to ensure your code is working*. Then push your updated/fixed code to GitHub before the next class. You should hopefully be able to get it working, since you've done all of these tasks before. We are going to continue adding new functions to this library over the next two weeks, so if you get stuck on this assignment ask for help and try to keep up, because it will be very difficult if you get behind. "
   ]
  }
 ],
 "metadata": {
  "kernelspec": {
   "display_name": "Python 3",
   "language": "python",
   "name": "python3"
  },
  "language_info": {
   "codemirror_mode": {
    "name": "ipython",
    "version": 3
   },
   "file_extension": ".py",
   "mimetype": "text/x-python",
   "name": "python",
   "nbconvert_exporter": "python",
   "pygments_lexer": "ipython3",
   "version": "3.6.3"
  }
 },
 "nbformat": 4,
 "nbformat_minor": 2
}
