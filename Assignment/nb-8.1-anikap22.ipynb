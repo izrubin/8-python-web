{
 "cells": [
  {
   "cell_type": "markdown",
   "metadata": {},
   "source": [
    "# Notebook 8.1 RESTful GBIF\n",
    "\n",
    "This notebook will introduce you to methods for parsing data from the web by accessing websites that have RESTful APIs. In the next notebook we will continue to other methods for parsing data from the web as well. \n",
    "\n",
    "These notebook will involve two core aspects: (1) Working with RESTful APIs, which we discussed briefly in lecture; and (2) Parsing HTML text. The first is much easier since the data that we query from the web is returned in a form that is easy to interpret and *meant* to be parsed and analyzed, whereas the second way requires us to learn a little about how the internet works, which is also useful stuff to know. So let's get started. You'll need to install the two libraries below. "
   ]
  },
  {
   "cell_type": "code",
   "execution_count": 52,
   "metadata": {},
   "outputs": [],
   "source": [
    "# conda install beautifulsoup4\n",
    "# conda install requests"
   ]
  },
  {
   "cell_type": "code",
   "execution_count": 1,
   "metadata": {},
   "outputs": [],
   "source": [
    "import toyplot\n",
    "import requests\n",
    "import pandas as pd\n"
   ]
  },
  {
   "cell_type": "markdown",
   "metadata": {},
   "source": [
    "### The design of REST APIs. \n",
    "The idea behind REST APIs is that data on a server (like a webpage) can be accessed with a consistent type of argument in the form of a URL, to query data which will then be returned in a form that is easy to analyze (usually json or xml), as opposed to being returned in messy HTML that needs to be parsed. Many websites have REST APIs, but some are much easier to use than others. "
   ]
  },
  {
   "cell_type": "markdown",
   "metadata": {},
   "source": [
    "### Limits\n",
    "Many REST APIs have limits on the way that you can use them. For example, the REST APIs for Twitter, GitHub, and Reddit require that you login in order to access data, and some sites will throttle how many requests you can make per hour. Although usually sites with a REST API are intended to be searched, the tools we will learn here can be used to search almost any website. It is important to know that some sites will intentionally block you if you try too aggressively to scrape data from them. For example, google scholar and genbank both have limits on the number of queries you can make per hour. "
   ]
  },
  {
   "cell_type": "markdown",
   "metadata": {},
   "source": [
    "### Good REST APIs\n",
    "A good REST API will have good directions for its usage. Two very good examples are the [USDA Bison API](https://bison.usgs.gov/#api) and the [Global Biodiversity Information Facility (GBIF) API](https://www.gbif.org/developer/summary). We'll focus on the latter in this notebook. The GBIF database is an international effort to collect all observation data on plants, animals, and fungi into a single place where it can be searched. It is actually a conglomeration of many separate databases, with data from museums and similar institutions all over the world. These APIs are free to use but request that you cite them if the data is used in a publication eventually. "
   ]
  },
  {
   "cell_type": "markdown",
   "metadata": {},
   "source": [
    "### What does GBIF do?\n",
    "GBIF can be used to find specimen collection records, or other types of observation data, stored in museum type databases. The website offers a convenient way to request taxa by name, and to select specific research criteria. For example, if we wanted to find all specimens of bumblebees (genus *Bombus*) that were collected between 1910 and 1920 we could request this through the website. It will draw a nice map with their locations and you can download a table with coordinates of where they were collected. This is actually one of the best databases around, since it organizes the data quite easily for you to download, but nevertheless, we'll use it as our example to learn REST APIs. \n",
    "\n",
    "Even though GBIF has a very nice web interface, it is obviously often more efficient to be able to query this database programmatically, instead of having to type each name we wish to search, and click on several buttons. This can provide a much more powerful way of applying filters over many different types of searches. That is the idea behind REST APIs and the reason why GBIF provides one. "
   ]
  },
  {
   "cell_type": "markdown",
   "metadata": {},
   "source": [
    "### The base-url\n",
    "The base URL is the web address of the API. This is simply a string that we wil add arguments to in order to request particular types of data be returned to use from the database. For GBIF this is the following, which we'll store as a string for now. This base-url address is given to us right at the top of the [GBIF API documentation](https://www.gbif.org/developer/occurrence). You can see that it looks much like any other web address. "
   ]
  },
  {
   "cell_type": "code",
   "execution_count": 2,
   "metadata": {},
   "outputs": [],
   "source": [
    "baseurl = \"http://api.gbif.org/v1/occurrence/search?\""
   ]
  },
  {
   "cell_type": "markdown",
   "metadata": {},
   "source": [
    "### How to query GBIF\n",
    "As you can see in the URL below, an API query just has additional arguments added to the baseurl. The string below searches for records with the name *Bombus*, which is the genus for bumblebees. We've added just the 'query' option 'q' and the name. We'll see next how to make more complex queries. But first, copy the URL below (without the quotation marks around it) and paste it into a web browser. This will show you what the returned data looks like. It might look a bit different depending on which browser you are using (I recommend using firefox or chrome) but the underlying data is the same, and is called JSON data."
   ]
  },
  {
   "cell_type": "code",
   "execution_count": 3,
   "metadata": {},
   "outputs": [],
   "source": [
    "search_url = \"http://api.gbif.org/v1/occurrence/search?q=Bombus\""
   ]
  },
  {
   "cell_type": "markdown",
   "metadata": {},
   "source": [
    "### JSON format\n",
    "We will be using the `requests` library to get data from online, but before we do, let's talk a bit about how the data will be structured so we know what to expect. The data that you should see in your browser now is called JSON formatted data.  You'll notice that this format is almost identical to what a Python dictionary looks like. It is composed of key:value pairs. This will make it particularly easy to work with. "
   ]
  },
  {
   "cell_type": "markdown",
   "metadata": {},
   "source": [
    "### Requests\n",
    "\n",
    "[Documentation](http://docs.python-requests.org/en/master/user/quickstart/)\n",
    "\n",
    "The `requests` package work a lot like an automated web browser. We've used `requests` briefly in the past but now we'll start to use it more effectively. The main function we will call is `.get()`, which will send a GET command to the web address and return a Response Class object. We will then access attributes and functions of the Response instance to see if our request worked, and to parse the resulting text from it. Let's try this on our `search_url` string defined above. "
   ]
  },
  {
   "cell_type": "code",
   "execution_count": 39,
   "metadata": {},
   "outputs": [
    {
     "data": {
      "text/plain": [
       "<Response [200]>"
      ]
     },
     "execution_count": 39,
     "metadata": {},
     "output_type": "execute_result"
    }
   ],
   "source": [
    "# create a Response instance from a request\n",
    "response = requests.get(search_url)\n",
    "response"
   ]
  },
  {
   "cell_type": "code",
   "execution_count": 5,
   "metadata": {},
   "outputs": [
    {
     "data": {
      "text/plain": [
       "200"
      ]
     },
     "execution_count": 5,
     "metadata": {},
     "output_type": "execute_result"
    }
   ],
   "source": [
    "# check that your request worked (200 = worked; other codes No))\n",
    "response.status_code"
   ]
  },
  {
   "cell_type": "code",
   "execution_count": 6,
   "metadata": {},
   "outputs": [],
   "source": [
    "# this would return the error message if it didn't work (else None)\n",
    "response.raise_for_status()"
   ]
  },
  {
   "cell_type": "markdown",
   "metadata": {},
   "source": [
    "### Parse a Response\n",
    "Before when we've used `requests` we've parsed the results as plain text, since it was usually in a format that was easiest to work with as a string. In this case, we are going to access the data a bit differently, by instead  accessing it in JSON format. This is easily available from the object just like text is. The first is not very easily readable or parseable, whereas the second can be accessed and searched more easily. "
   ]
  },
  {
   "cell_type": "code",
   "execution_count": 7,
   "metadata": {},
   "outputs": [
    {
     "data": {
      "text/plain": [
       "'{\"offset\":0,\"limit\":20,\"endOfRecords\":false,\"count\":1048303,\"results\":[{\"key\":131330107,\"datasetKey\":\"86aba78e-f762-11e1-a439-00145eb45e9a\",\"publishingOrgKey\":\"8595cd50-87c0-11dc-bb35-b8a03c50a862\",\"publishingCountry\":\"BR\",\"protocol\":\"DIGIR\",\"lastCrawled\":\"2013-09-07T07:05:27.000+0000\",\"crawlId\":1,\"extensions\":{},\"basisOfRecord\":\"PRESERVED_SPECIMEN\",\"taxonKey\":1340307,\"kingdomKey\":1,\"phylumKey\":54,\"classKey\":216,\"orderKey\":1457,\"familyKey\":4334,\"genusKey\":1340278,\"speciesKey\":1340307,\"scientific'"
      ]
     },
     "execution_count": 7,
     "metadata": {},
     "output_type": "execute_result"
    }
   ],
   "source": [
    "# first 500 characters of the .text string\n",
    "response.text[:500]"
   ]
  },
  {
   "cell_type": "code",
   "execution_count": 8,
   "metadata": {},
   "outputs": [
    {
     "data": {
      "text/plain": [
       "['offset', 'limit', 'endOfRecords', 'count', 'results', 'facets']"
      ]
     },
     "execution_count": 8,
     "metadata": {},
     "output_type": "execute_result"
    }
   ],
   "source": [
    "# or, get results as a dictionary (JSON converted)\n",
    "rdict = response.json()\n",
    "\n",
    "# get some quick info on the dictionary items\n",
    "list(rdict.keys())"
   ]
  },
  {
   "cell_type": "markdown",
   "metadata": {},
   "source": [
    "### Parsing the results\n",
    "In GBIF our response can be parsed into a dictionary object using the JSON format, and this as six keys shown above. These are explained in the API docs, and correspond to information about what records are available for our query. However, it did not return *all* of the data for those records to us yet. That would be too easy. Instead, databases usually have limits on the amount of data from each request as a way of limiting the bandwidth they will need for sending the data, and to make it faster. For GBIF the default number, shown under the \"limit\" key, is 20. And the default starting position, shown under \"offset\" is 0. The total number of records is in \"count\". So for *Bombus*, as we show below, there are 1,048,303 records, but on records 1-20 were returned to us so far."
   ]
  },
  {
   "cell_type": "code",
   "execution_count": 9,
   "metadata": {},
   "outputs": [
    {
     "data": {
      "text/plain": [
       "1048303"
      ]
     },
     "execution_count": 9,
     "metadata": {},
     "output_type": "execute_result"
    }
   ],
   "source": [
    "## how many records are there for this query\n",
    "rdict[\"count\"]"
   ]
  },
  {
   "cell_type": "code",
   "execution_count": 10,
   "metadata": {},
   "outputs": [
    {
     "data": {
      "text/plain": [
       "20"
      ]
     },
     "execution_count": 10,
     "metadata": {},
     "output_type": "execute_result"
    }
   ],
   "source": [
    "## how many records were returned\n",
    "rdict[\"limit\"]"
   ]
  },
  {
   "cell_type": "code",
   "execution_count": 11,
   "metadata": {},
   "outputs": [
    {
     "data": {
      "text/plain": [
       "0"
      ]
     },
     "execution_count": 11,
     "metadata": {},
     "output_type": "execute_result"
    }
   ],
   "source": [
    "## starting from which record\n",
    "rdict[\"offset\"]"
   ]
  },
  {
   "cell_type": "markdown",
   "metadata": {},
   "source": [
    "### So where's the data?\n",
    "It's stored under the `results` variable, and is returned as a list of dictionaries, where each dictionary is a record with lots of information. Below I show the first record from our search. "
   ]
  },
  {
   "cell_type": "code",
   "execution_count": 12,
   "metadata": {},
   "outputs": [
    {
     "data": {
      "text/plain": [
       "{'basisOfRecord': 'PRESERVED_SPECIMEN',\n",
       " 'catalogNumber': '6416',\n",
       " 'class': 'Insecta',\n",
       " 'classKey': 216,\n",
       " 'collectionCode': 'CEPANN',\n",
       " 'continent': 'SOUTH_AMERICA',\n",
       " 'country': 'Brazil',\n",
       " 'countryCode': 'BR',\n",
       " 'crawlId': 1,\n",
       " 'datasetKey': '86aba78e-f762-11e1-a439-00145eb45e9a',\n",
       " 'decimalLatitude': 0.0,\n",
       " 'decimalLongitude': 0.0,\n",
       " 'extensions': {},\n",
       " 'facts': [],\n",
       " 'family': 'Apidae',\n",
       " 'familyKey': 4334,\n",
       " 'gbifID': '131330107',\n",
       " 'genericName': 'Bombus',\n",
       " 'genus': 'Bombus',\n",
       " 'genusKey': 1340278,\n",
       " 'geodeticDatum': 'WGS84',\n",
       " 'identifiers': [],\n",
       " 'institutionCode': 'USP',\n",
       " 'issues': ['ZERO_COORDINATE',\n",
       "  'GEODETIC_DATUM_ASSUMED_WGS84',\n",
       "  'COUNTRY_COORDINATE_MISMATCH'],\n",
       " 'key': 131330107,\n",
       " 'kingdom': 'Animalia',\n",
       " 'kingdomKey': 1,\n",
       " 'lastCrawled': '2013-09-07T07:05:27.000+0000',\n",
       " 'lastInterpreted': '2018-02-04T02:00:19.037+0000',\n",
       " 'license': 'http://creativecommons.org/licenses/by/4.0/legalcode',\n",
       " 'order': 'Hymenoptera',\n",
       " 'orderKey': 1457,\n",
       " 'phylum': 'Arthropoda',\n",
       " 'phylumKey': 54,\n",
       " 'protocol': 'DIGIR',\n",
       " 'publishingCountry': 'BR',\n",
       " 'publishingOrgKey': '8595cd50-87c0-11dc-bb35-b8a03c50a862',\n",
       " 'recordedBy': '-',\n",
       " 'relations': [],\n",
       " 'scientificName': 'Bombus morio (Swederus, 1787)',\n",
       " 'species': 'Bombus morio',\n",
       " 'speciesKey': 1340307,\n",
       " 'specificEpithet': 'morio',\n",
       " 'taxonKey': 1340307,\n",
       " 'taxonRank': 'SPECIES'}"
      ]
     },
     "execution_count": 12,
     "metadata": {},
     "output_type": "execute_result"
    }
   ],
   "source": [
    "# here is the first record, it's also a dictionary\n",
    "rdict[\"results\"][0]"
   ]
  },
  {
   "cell_type": "code",
   "execution_count": 13,
   "metadata": {},
   "outputs": [
    {
     "data": {
      "text/html": [
       "<div>\n",
       "<style scoped>\n",
       "    .dataframe tbody tr th:only-of-type {\n",
       "        vertical-align: middle;\n",
       "    }\n",
       "\n",
       "    .dataframe tbody tr th {\n",
       "        vertical-align: top;\n",
       "    }\n",
       "\n",
       "    .dataframe thead th {\n",
       "        text-align: right;\n",
       "    }\n",
       "</style>\n",
       "<table border=\"1\" class=\"dataframe\">\n",
       "  <thead>\n",
       "    <tr style=\"text-align: right;\">\n",
       "      <th></th>\n",
       "      <th>basisOfRecord</th>\n",
       "      <th>catalogNumber</th>\n",
       "      <th>class</th>\n",
       "      <th>classKey</th>\n",
       "      <th>collectionCode</th>\n",
       "      <th>continent</th>\n",
       "      <th>country</th>\n",
       "      <th>countryCode</th>\n",
       "      <th>county</th>\n",
       "      <th>crawlId</th>\n",
       "      <th>...</th>\n",
       "      <th>publishingOrgKey</th>\n",
       "      <th>recordedBy</th>\n",
       "      <th>relations</th>\n",
       "      <th>scientificName</th>\n",
       "      <th>species</th>\n",
       "      <th>speciesKey</th>\n",
       "      <th>specificEpithet</th>\n",
       "      <th>stateProvince</th>\n",
       "      <th>taxonKey</th>\n",
       "      <th>taxonRank</th>\n",
       "    </tr>\n",
       "  </thead>\n",
       "  <tbody>\n",
       "    <tr>\n",
       "      <th>0</th>\n",
       "      <td>PRESERVED_SPECIMEN</td>\n",
       "      <td>6416</td>\n",
       "      <td>Insecta</td>\n",
       "      <td>216</td>\n",
       "      <td>CEPANN</td>\n",
       "      <td>SOUTH_AMERICA</td>\n",
       "      <td>Brazil</td>\n",
       "      <td>BR</td>\n",
       "      <td>NaN</td>\n",
       "      <td>1</td>\n",
       "      <td>...</td>\n",
       "      <td>8595cd50-87c0-11dc-bb35-b8a03c50a862</td>\n",
       "      <td>-</td>\n",
       "      <td>[]</td>\n",
       "      <td>Bombus morio (Swederus, 1787)</td>\n",
       "      <td>Bombus morio</td>\n",
       "      <td>1340307.0</td>\n",
       "      <td>morio</td>\n",
       "      <td>NaN</td>\n",
       "      <td>1340307</td>\n",
       "      <td>SPECIES</td>\n",
       "    </tr>\n",
       "    <tr>\n",
       "      <th>1</th>\n",
       "      <td>PRESERVED_SPECIMEN</td>\n",
       "      <td>9002</td>\n",
       "      <td>Insecta</td>\n",
       "      <td>216</td>\n",
       "      <td>CEMeC</td>\n",
       "      <td>NaN</td>\n",
       "      <td>Brazil</td>\n",
       "      <td>BR</td>\n",
       "      <td>Milagres</td>\n",
       "      <td>1</td>\n",
       "      <td>...</td>\n",
       "      <td>8595cd50-87c0-11dc-bb35-b8a03c50a862</td>\n",
       "      <td>NaN</td>\n",
       "      <td>[]</td>\n",
       "      <td>Bombus morio (Swederus, 1787)</td>\n",
       "      <td>Bombus morio</td>\n",
       "      <td>1340307.0</td>\n",
       "      <td>morio</td>\n",
       "      <td>Bahia</td>\n",
       "      <td>1340307</td>\n",
       "      <td>SPECIES</td>\n",
       "    </tr>\n",
       "    <tr>\n",
       "      <th>2</th>\n",
       "      <td>PRESERVED_SPECIMEN</td>\n",
       "      <td>91583</td>\n",
       "      <td>Insecta</td>\n",
       "      <td>216</td>\n",
       "      <td>ZEN</td>\n",
       "      <td>NaN</td>\n",
       "      <td>NaN</td>\n",
       "      <td>None</td>\n",
       "      <td>NaN</td>\n",
       "      <td>17</td>\n",
       "      <td>...</td>\n",
       "      <td>4c415e40-1e21-11de-9e40-a0d6ecebb8bf</td>\n",
       "      <td>NaN</td>\n",
       "      <td>[]</td>\n",
       "      <td>Bombus Latreille, 1802</td>\n",
       "      <td>NaN</td>\n",
       "      <td>NaN</td>\n",
       "      <td>NaN</td>\n",
       "      <td>NaN</td>\n",
       "      <td>1340278</td>\n",
       "      <td>GENUS</td>\n",
       "    </tr>\n",
       "    <tr>\n",
       "      <th>3</th>\n",
       "      <td>PRESERVED_SPECIMEN</td>\n",
       "      <td>94807</td>\n",
       "      <td>Insecta</td>\n",
       "      <td>216</td>\n",
       "      <td>ZEN</td>\n",
       "      <td>NaN</td>\n",
       "      <td>NaN</td>\n",
       "      <td>None</td>\n",
       "      <td>NaN</td>\n",
       "      <td>17</td>\n",
       "      <td>...</td>\n",
       "      <td>4c415e40-1e21-11de-9e40-a0d6ecebb8bf</td>\n",
       "      <td>NaN</td>\n",
       "      <td>[]</td>\n",
       "      <td>Bombus Latreille, 1802</td>\n",
       "      <td>NaN</td>\n",
       "      <td>NaN</td>\n",
       "      <td>NaN</td>\n",
       "      <td>NaN</td>\n",
       "      <td>1340278</td>\n",
       "      <td>GENUS</td>\n",
       "    </tr>\n",
       "    <tr>\n",
       "      <th>4</th>\n",
       "      <td>UNKNOWN</td>\n",
       "      <td>43781</td>\n",
       "      <td>Insecta</td>\n",
       "      <td>216</td>\n",
       "      <td>2007_Mongol</td>\n",
       "      <td>NaN</td>\n",
       "      <td>NaN</td>\n",
       "      <td>None</td>\n",
       "      <td>NaN</td>\n",
       "      <td>12</td>\n",
       "      <td>...</td>\n",
       "      <td>be11c6a0-7cf5-11dc-92cb-b8a03c50a862</td>\n",
       "      <td>NaN</td>\n",
       "      <td>[]</td>\n",
       "      <td>Bombus margreiteri Skorikov</td>\n",
       "      <td>Bombus margreiteri</td>\n",
       "      <td>9055570.0</td>\n",
       "      <td>margreiteri</td>\n",
       "      <td>NaN</td>\n",
       "      <td>9055570</td>\n",
       "      <td>SPECIES</td>\n",
       "    </tr>\n",
       "  </tbody>\n",
       "</table>\n",
       "<p>5 rows × 56 columns</p>\n",
       "</div>"
      ],
      "text/plain": [
       "        basisOfRecord catalogNumber    class  classKey collectionCode  \\\n",
       "0  PRESERVED_SPECIMEN          6416  Insecta       216         CEPANN   \n",
       "1  PRESERVED_SPECIMEN          9002  Insecta       216          CEMeC   \n",
       "2  PRESERVED_SPECIMEN         91583  Insecta       216            ZEN   \n",
       "3  PRESERVED_SPECIMEN         94807  Insecta       216            ZEN   \n",
       "4             UNKNOWN         43781  Insecta       216    2007_Mongol   \n",
       "\n",
       "       continent country countryCode    county  crawlId    ...     \\\n",
       "0  SOUTH_AMERICA  Brazil          BR       NaN        1    ...      \n",
       "1            NaN  Brazil          BR  Milagres        1    ...      \n",
       "2            NaN     NaN        None       NaN       17    ...      \n",
       "3            NaN     NaN        None       NaN       17    ...      \n",
       "4            NaN     NaN        None       NaN       12    ...      \n",
       "\n",
       "                       publishingOrgKey  recordedBy  relations  \\\n",
       "0  8595cd50-87c0-11dc-bb35-b8a03c50a862           -         []   \n",
       "1  8595cd50-87c0-11dc-bb35-b8a03c50a862         NaN         []   \n",
       "2  4c415e40-1e21-11de-9e40-a0d6ecebb8bf         NaN         []   \n",
       "3  4c415e40-1e21-11de-9e40-a0d6ecebb8bf         NaN         []   \n",
       "4  be11c6a0-7cf5-11dc-92cb-b8a03c50a862         NaN         []   \n",
       "\n",
       "                  scientificName             species speciesKey  \\\n",
       "0  Bombus morio (Swederus, 1787)        Bombus morio  1340307.0   \n",
       "1  Bombus morio (Swederus, 1787)        Bombus morio  1340307.0   \n",
       "2         Bombus Latreille, 1802                 NaN        NaN   \n",
       "3         Bombus Latreille, 1802                 NaN        NaN   \n",
       "4    Bombus margreiteri Skorikov  Bombus margreiteri  9055570.0   \n",
       "\n",
       "   specificEpithet stateProvince taxonKey taxonRank  \n",
       "0            morio           NaN  1340307   SPECIES  \n",
       "1            morio         Bahia  1340307   SPECIES  \n",
       "2              NaN           NaN  1340278     GENUS  \n",
       "3              NaN           NaN  1340278     GENUS  \n",
       "4      margreiteri           NaN  9055570   SPECIES  \n",
       "\n",
       "[5 rows x 56 columns]"
      ]
     },
     "execution_count": 13,
     "metadata": {},
     "output_type": "execute_result"
    }
   ],
   "source": [
    "# or to see it prettier, convert records to a DataFrame\n",
    "pd.DataFrame(rdict[\"results\"]).head()"
   ]
  },
  {
   "cell_type": "markdown",
   "metadata": {},
   "source": [
    "### Building a request\n",
    "Here we add more arguments to further filter the results. To see which options are available, you can either look at the results from our existing calls so far, or you can read further into the API docs. Sometimes API docs will be incomplete though, so it can be useful to learn to try to infer which options are possible from looking at the results. A more complex search is accomplished by building a URL that has more key:value pairs each appended to the end of the URL, and separated by a \"&\" symbol. For large searches it begins to get difficult to write out by hand, and that is where `requests` comes in handy. Here we enter the additional arguments we want using a simple python dictionary into the entry 'params'. Below I show the URL for when we add the requirement that a record have coordinate data, and for when we add additional arguments to raise the limit for the number of records returned. The max records at a time (limit - offset) is 300. Above that you need to increment the offset to search higher values."
   ]
  },
  {
   "cell_type": "code",
   "execution_count": 14,
   "metadata": {},
   "outputs": [
    {
     "data": {
      "text/plain": [
       "'http://api.gbif.org/v1/occurrence/search?q=Bombus&hasCoordinate=true'"
      ]
     },
     "execution_count": 14,
     "metadata": {},
     "output_type": "execute_result"
    }
   ],
   "source": [
    "# add requirement that the record have coordinate data\n",
    "res = requests.get(\n",
    "    url=baseurl, \n",
    "    params={\n",
    "        \"q\": \"Bombus\", \n",
    "        \"hasCoordinate\": \"true\",\n",
    "    }\n",
    ")\n",
    "res.url"
   ]
  },
  {
   "cell_type": "code",
   "execution_count": 15,
   "metadata": {},
   "outputs": [
    {
     "data": {
      "text/plain": [
       "'http://api.gbif.org/v1/occurrence/search?q=Bombus&hasCoordinate=true&offset=0&limit=100'"
      ]
     },
     "execution_count": 15,
     "metadata": {},
     "output_type": "execute_result"
    }
   ],
   "source": [
    "# request records 0-100\n",
    "res = requests.get(\n",
    "    url=baseurl, \n",
    "    params={\n",
    "        \"q\": \"Bombus\", \n",
    "        \"hasCoordinate\": \"true\",\n",
    "        \"offset\": \"0\", \n",
    "        \"limit\": \"100\"\n",
    "    }\n",
    ")\n",
    "#offset is starting point\n",
    "#limit is how many to iterate over\n",
    "res.url"
   ]
  },
  {
   "cell_type": "markdown",
   "metadata": {},
   "source": [
    "### A complex search\n",
    "Here I request all Bombus records from 1900-1910 that are associated with a preserved speciment (as opposed to HUMAN_OBSERVATION or FOSSIL_SPECIMEN), has spatial data, and is in the US. The 'count' shows us that there are 4,977 records meeting these requirements. We requested the max of 300 records. "
   ]
  },
  {
   "cell_type": "code",
   "execution_count": 16,
   "metadata": {},
   "outputs": [
    {
     "data": {
      "text/plain": [
       "4977"
      ]
     },
     "execution_count": 16,
     "metadata": {},
     "output_type": "execute_result"
    }
   ],
   "source": [
    "res = requests.get(\n",
    "    url=baseurl, \n",
    "    params={\n",
    "        \"q\": \"Bombus\", \n",
    "        \"year\": \"1900,1910\", \n",
    "        \"basisOfRecord\": \"PRESERVED_SPECIMEN\",\n",
    "        \"hasCoordinate\": \"true\",\n",
    "        \"hasGeospatialIssue\": \"false\",\n",
    "        \"country\": \"US\",\n",
    "        \"offset\": \"0\",\n",
    "        \"limit\": \"300\"\n",
    "    },\n",
    ")\n",
    "r2dict = res.json()\n",
    "r2dict[\"count\"]"
   ]
  },
  {
   "cell_type": "code",
   "execution_count": 17,
   "metadata": {},
   "outputs": [
    {
     "data": {
      "text/plain": [
       "4977"
      ]
     },
     "execution_count": 17,
     "metadata": {},
     "output_type": "execute_result"
    }
   ],
   "source": [
    "res = requests.get(\n",
    "    url=baseurl, \n",
    "    params={\n",
    "        \"q\": \"Bombus\", \n",
    "        \"year\": \"1900,1910\", \n",
    "        \"basisOfRecord\": \"PRESERVED_SPECIMEN\",\n",
    "        \"hasCoordinate\": \"true\",\n",
    "        \"hasGeospatialIssue\": \"false\",\n",
    "        \"country\": \"US\",\n",
    "        \"offset\": \"300\",\n",
    "        \"limit\": \"300\"\n",
    "    },\n",
    ")\n",
    "r1dict = res.json()\n",
    "r1dict[\"count\"]"
   ]
  },
  {
   "cell_type": "markdown",
   "metadata": {},
   "source": [
    "### Combining many searches\n",
    "If we wanted to collect all records for a given search then we need to increment the \"offset\" argument until we reach the end of the records. Each is returned as a list of dictionaries, so we can just join all of those lists together and return them. "
   ]
  },
  {
   "cell_type": "code",
   "execution_count": 18,
   "metadata": {},
   "outputs": [],
   "source": [
    "def get_all_records(searchparams):\n",
    "    \"iterate until end of records\"\n",
    "    start = 0\n",
    "    data = []\n",
    "    \n",
    "    # run loop infinitely untill it gets break command (same as while True)\n",
    "    while 1:\n",
    "        # make request and store results\n",
    "        res = requests.get(\n",
    "            url=baseurl, \n",
    "            params=searchparams,\n",
    "        )\n",
    "        # increment counter\n",
    "        searchparams[\"offset\"] = str(int(searchparams[\"offset\"]) + 300)\n",
    "        \n",
    "        # concatenate data \n",
    "        idata = res.json()\n",
    "        data += idata[\"results\"]\n",
    "        \n",
    "        # stop when end of record is reached\n",
    "        if idata[\"endOfRecords\"]:\n",
    "            break\n",
    "        \n",
    "    return data"
   ]
  },
  {
   "cell_type": "code",
   "execution_count": 19,
   "metadata": {},
   "outputs": [],
   "source": [
    "# make params dictionary\n",
    "searchparams = {\n",
    "    \"q\": \"Bombus\", \n",
    "    \"year\": \"1900,1905\", \n",
    "    \"basisOfRecord\": \"PRESERVED_SPECIMEN\",\n",
    "    \"hasCoordinate\": \"true\",\n",
    "    \"hasGeospatialIssue\": \"false\",\n",
    "    \"country\": \"US\",\n",
    "    \"offset\": \"0\",\n",
    "    \"limit\": \"300\"\n",
    "}\n",
    "\n",
    "# call function to search over all offset values until end\n",
    "data = get_all_records(searchparams)"
   ]
  },
  {
   "cell_type": "markdown",
   "metadata": {},
   "source": [
    "### The full data"
   ]
  },
  {
   "cell_type": "code",
   "execution_count": 20,
   "metadata": {},
   "outputs": [],
   "source": [
    "# convert to a data frame\n",
    "df = pd.DataFrame(data)"
   ]
  },
  {
   "cell_type": "code",
   "execution_count": 21,
   "metadata": {},
   "outputs": [
    {
     "data": {
      "text/plain": [
       "['accessRights',\n",
       " 'associatedReferences',\n",
       " 'associatedTaxa',\n",
       " 'basisOfRecord',\n",
       " 'bibliographicCitation',\n",
       " 'catalogNumber',\n",
       " 'class',\n",
       " 'classKey',\n",
       " 'collectionCode',\n",
       " 'collectionID',\n",
       " 'continent',\n",
       " 'coordinatePrecision',\n",
       " 'coordinateUncertaintyInMeters',\n",
       " 'country',\n",
       " 'countryCode',\n",
       " 'county',\n",
       " 'crawlId',\n",
       " 'datasetID',\n",
       " 'datasetKey',\n",
       " 'datasetName',\n",
       " 'dateIdentified',\n",
       " 'day',\n",
       " 'decimalLatitude',\n",
       " 'decimalLongitude',\n",
       " 'dynamicProperties',\n",
       " 'elevation',\n",
       " 'elevationAccuracy',\n",
       " 'endDayOfYear',\n",
       " 'eventDate',\n",
       " 'eventRemarks',\n",
       " 'extensions',\n",
       " 'facts',\n",
       " 'family',\n",
       " 'familyKey',\n",
       " 'fieldNotes',\n",
       " 'gbifID',\n",
       " 'genericName',\n",
       " 'genus',\n",
       " 'genusKey',\n",
       " 'geodeticDatum',\n",
       " 'georeferenceProtocol',\n",
       " 'georeferenceRemarks',\n",
       " 'georeferenceSources',\n",
       " 'georeferencedBy',\n",
       " 'higherClassification',\n",
       " 'higherGeography',\n",
       " 'identifiedBy',\n",
       " 'identifier',\n",
       " 'identifiers',\n",
       " 'individualCount',\n",
       " 'infraspecificEpithet',\n",
       " 'institutionCode',\n",
       " 'institutionID',\n",
       " 'issues',\n",
       " 'key',\n",
       " 'kingdom',\n",
       " 'kingdomKey',\n",
       " 'language',\n",
       " 'lastCrawled',\n",
       " 'lastInterpreted',\n",
       " 'lastParsed',\n",
       " 'license',\n",
       " 'lifeStage',\n",
       " 'locality',\n",
       " 'media',\n",
       " 'modified',\n",
       " 'month',\n",
       " 'nomenclaturalCode',\n",
       " 'occurrenceID',\n",
       " 'occurrenceRemarks',\n",
       " 'order',\n",
       " 'orderKey',\n",
       " 'organismID',\n",
       " 'ownerInstitutionCode',\n",
       " 'phylum',\n",
       " 'phylumKey',\n",
       " 'preparations',\n",
       " 'previousIdentifications',\n",
       " 'protocol',\n",
       " 'publishingCountry',\n",
       " 'publishingOrgKey',\n",
       " 'recordedBy',\n",
       " 'references',\n",
       " 'relations',\n",
       " 'rightsHolder',\n",
       " 'samplingProtocol',\n",
       " 'scientificName',\n",
       " 'scientificNameID',\n",
       " 'sex',\n",
       " 'source',\n",
       " 'species',\n",
       " 'speciesKey',\n",
       " 'specificEpithet',\n",
       " 'startDayOfYear',\n",
       " 'stateProvince',\n",
       " 'taxonKey',\n",
       " 'taxonRank',\n",
       " 'taxonRemarks',\n",
       " 'type',\n",
       " 'typeStatus',\n",
       " 'verbatimEventDate',\n",
       " 'vernacularName',\n",
       " 'year']"
      ]
     },
     "execution_count": 21,
     "metadata": {},
     "output_type": "execute_result"
    }
   ],
   "source": [
    "# keys (columns) in the dataframe (there are many!)\n",
    "list(df.columns)"
   ]
  },
  {
   "cell_type": "code",
   "execution_count": 22,
   "metadata": {},
   "outputs": [
    {
     "data": {
      "text/html": [
       "<div>\n",
       "<style scoped>\n",
       "    .dataframe tbody tr th:only-of-type {\n",
       "        vertical-align: middle;\n",
       "    }\n",
       "\n",
       "    .dataframe tbody tr th {\n",
       "        vertical-align: top;\n",
       "    }\n",
       "\n",
       "    .dataframe thead th {\n",
       "        text-align: right;\n",
       "    }\n",
       "</style>\n",
       "<table border=\"1\" class=\"dataframe\">\n",
       "  <thead>\n",
       "    <tr style=\"text-align: right;\">\n",
       "      <th></th>\n",
       "      <th>species</th>\n",
       "      <th>year</th>\n",
       "      <th>decimalLatitude</th>\n",
       "      <th>decimalLongitude</th>\n",
       "    </tr>\n",
       "  </thead>\n",
       "  <tbody>\n",
       "    <tr>\n",
       "      <th>0</th>\n",
       "      <td>Bombus vagans</td>\n",
       "      <td>1905</td>\n",
       "      <td>42.09606</td>\n",
       "      <td>-90.16255</td>\n",
       "    </tr>\n",
       "    <tr>\n",
       "      <th>1</th>\n",
       "      <td>Bombus centralis</td>\n",
       "      <td>1902</td>\n",
       "      <td>47.94167</td>\n",
       "      <td>-119.00222</td>\n",
       "    </tr>\n",
       "    <tr>\n",
       "      <th>2</th>\n",
       "      <td>Bombus vagans</td>\n",
       "      <td>1905</td>\n",
       "      <td>42.09606</td>\n",
       "      <td>-90.16255</td>\n",
       "    </tr>\n",
       "    <tr>\n",
       "      <th>3</th>\n",
       "      <td>Bombus nevadensis</td>\n",
       "      <td>1905</td>\n",
       "      <td>46.73139</td>\n",
       "      <td>-117.17861</td>\n",
       "    </tr>\n",
       "    <tr>\n",
       "      <th>4</th>\n",
       "      <td>Bombus impatiens</td>\n",
       "      <td>1905</td>\n",
       "      <td>41.86750</td>\n",
       "      <td>-90.15940</td>\n",
       "    </tr>\n",
       "  </tbody>\n",
       "</table>\n",
       "</div>"
      ],
      "text/plain": [
       "             species  year  decimalLatitude  decimalLongitude\n",
       "0      Bombus vagans  1905         42.09606         -90.16255\n",
       "1   Bombus centralis  1902         47.94167        -119.00222\n",
       "2      Bombus vagans  1905         42.09606         -90.16255\n",
       "3  Bombus nevadensis  1905         46.73139        -117.17861\n",
       "4   Bombus impatiens  1905         41.86750         -90.15940"
      ]
     },
     "execution_count": 22,
     "metadata": {},
     "output_type": "execute_result"
    }
   ],
   "source": [
    "# view just the columns we're interested in for now.\n",
    "sdf = df[[\"species\", \"year\", \"decimalLatitude\", \"decimalLongitude\"]]\n",
    "sdf.head()"
   ]
  },
  {
   "cell_type": "code",
   "execution_count": 23,
   "metadata": {},
   "outputs": [
    {
     "data": {
      "text/plain": [
       "(2009, 4)"
      ]
     },
     "execution_count": 23,
     "metadata": {},
     "output_type": "execute_result"
    }
   ],
   "source": [
    "# how many records?\n",
    "sdf.shape"
   ]
  },
  {
   "cell_type": "code",
   "execution_count": 24,
   "metadata": {},
   "outputs": [
    {
     "data": {
      "text/plain": [
       "array(['Bombus vagans', 'Bombus centralis', 'Bombus nevadensis',\n",
       "       'Bombus impatiens', 'Bombus appositus', 'Bombus variabilis',\n",
       "       'Bombus griseocollis', 'Bombus huntii', 'Bombus rufocinctus',\n",
       "       'Bombus ternarius', 'Bombus bifarius', 'Bombus ashtoni',\n",
       "       'Bombus fraternus', 'Bombus pensylvanicus', 'Bombus affinis',\n",
       "       'Bombus borealis', 'Bombus morrisoni', 'Bombus citrinus',\n",
       "       'Bombus terricola', 'Bombus perplexus', 'Bombus fernaldae',\n",
       "       'Bombus melanopygus', 'Bombus sylvicola', 'Bombus fervidus',\n",
       "       'Bombus auricomus', 'Bombus vosnesenskii', 'Bombus sandersoni',\n",
       "       'Bombus mixtus', 'Bombus crotchii', 'Bombus insularis',\n",
       "       'Bombus bimaculatus', 'Bombus occidentalis', 'Bombus cockerelli',\n",
       "       nan, 'Bombus lapponicus', 'Bombus balteatus',\n",
       "       'Bombus californicus', 'Bombus suckleyi', 'Bombus patagiatus',\n",
       "       'Bombus flavifrons', 'Bombus sitkensis', 'Bombus neoboreus',\n",
       "       'Bombus rufosuffusus', 'Bombus separatus'], dtype=object)"
      ]
     },
     "execution_count": 24,
     "metadata": {},
     "output_type": "execute_result"
    }
   ],
   "source": [
    "# which unique species?\n",
    "sdf.species.unique()"
   ]
  },
  {
   "cell_type": "code",
   "execution_count": 25,
   "metadata": {},
   "outputs": [
    {
     "data": {
      "text/plain": [
       "43"
      ]
     },
     "execution_count": 25,
     "metadata": {},
     "output_type": "execute_result"
    }
   ],
   "source": [
    "# exclude nan and count species\n",
    "mask = sdf.species.notna()\n",
    "df.species[mask].unique().size"
   ]
  },
  {
   "cell_type": "code",
   "execution_count": 26,
   "metadata": {},
   "outputs": [
    {
     "data": {
      "text/html": [
       "<div class=\"toyplot\" id=\"t44abc71ba5ab4abca3b7ad0984aa519f\" style=\"text-align:center\"><svg class=\"toyplot-canvas-Canvas\" height=\"350.0px\" id=\"t83371d4d60b445808df04e0606807a3c\" preserveAspectRatio=\"xMidYMid meet\" style=\"background-color:transparent;fill:rgb(16.1%,15.3%,14.1%);fill-opacity:1.0;font-family:Helvetica;font-size:12px;opacity:1.0;stroke:rgb(16.1%,15.3%,14.1%);stroke-opacity:1.0;stroke-width:1.0\" viewBox=\"0 0 600 350.0\" width=\"600px\" xmlns=\"http://www.w3.org/2000/svg\" xmlns:toyplot=\"http://www.sandia.gov/toyplot\" xmlns:xlink=\"http://www.w3.org/1999/xlink\"><g class=\"toyplot-coordinates-Cartesian\" id=\"t5587f5274f4141349cfa862037509b41\"><clipPath id=\"t9acd32972fb64c1a8ab61a00c52456bf\"><rect height=\"270.0\" width=\"520.0\" x=\"40.0\" y=\"40.0\"></rect></clipPath><g clip-path=\"url(#t9acd32972fb64c1a8ab61a00c52456bf)\"><g class=\"toyplot-mark-BarMagnitudes\" id=\"ta64a14d251724d85b16857b7b12e9adc\" style=\"stroke:rgb(100%,100%,100%);stroke-opacity:1.0;stroke-width:1.0\"><g class=\"toyplot-Series\"><rect class=\"toyplot-Datum\" height=\"250.0\" style=\"fill:rgb(40%,76.1%,64.7%);fill-opacity:1.0;opacity:1.0;stroke:rgb(100%,100%,100%);stroke-opacity:1.0;stroke-width:1.0\" width=\"11.627906976744178\" x=\"50.0\" y=\"50.0\"><title>Bombus impatiens</title></rect><rect class=\"toyplot-Datum\" height=\"212.882096069869\" style=\"fill:rgb(40%,76.1%,64.7%);fill-opacity:1.0;opacity:1.0;stroke:rgb(100%,100%,100%);stroke-opacity:1.0;stroke-width:1.0\" width=\"11.627906976744192\" x=\"61.62790697674418\" y=\"87.117903930131\"><title>Bombus vagans</title></rect><rect class=\"toyplot-Datum\" height=\"177.9475982532751\" style=\"fill:rgb(40%,76.1%,64.7%);fill-opacity:1.0;opacity:1.0;stroke:rgb(100%,100%,100%);stroke-opacity:1.0;stroke-width:1.0\" width=\"11.627906976744185\" x=\"73.25581395348837\" y=\"122.0524017467249\"><title>Bombus occidentalis</title></rect><rect class=\"toyplot-Datum\" height=\"161.5720524017467\" style=\"fill:rgb(40%,76.1%,64.7%);fill-opacity:1.0;opacity:1.0;stroke:rgb(100%,100%,100%);stroke-opacity:1.0;stroke-width:1.0\" width=\"11.627906976744185\" x=\"84.88372093023256\" y=\"138.4279475982533\"><title>Bombus fervidus</title></rect><rect class=\"toyplot-Datum\" height=\"159.38864628820963\" style=\"fill:rgb(40%,76.1%,64.7%);fill-opacity:1.0;opacity:1.0;stroke:rgb(100%,100%,100%);stroke-opacity:1.0;stroke-width:1.0\" width=\"11.627906976744185\" x=\"96.51162790697674\" y=\"140.61135371179037\"><title>Bombus pensylvanicus</title></rect><rect class=\"toyplot-Datum\" height=\"109.17030567685592\" style=\"fill:rgb(40%,76.1%,64.7%);fill-opacity:1.0;opacity:1.0;stroke:rgb(100%,100%,100%);stroke-opacity:1.0;stroke-width:1.0\" width=\"11.627906976744185\" x=\"108.13953488372093\" y=\"190.82969432314408\"><title>Bombus griseocollis</title></rect><rect class=\"toyplot-Datum\" height=\"101.52838427947597\" style=\"fill:rgb(40%,76.1%,64.7%);fill-opacity:1.0;opacity:1.0;stroke:rgb(100%,100%,100%);stroke-opacity:1.0;stroke-width:1.0\" width=\"11.627906976744185\" x=\"119.76744186046511\" y=\"198.47161572052403\"><title>Bombus affinis</title></rect><rect class=\"toyplot-Datum\" height=\"100.43668122270742\" style=\"fill:rgb(40%,76.1%,64.7%);fill-opacity:1.0;opacity:1.0;stroke:rgb(100%,100%,100%);stroke-opacity:1.0;stroke-width:1.0\" width=\"11.627906976744185\" x=\"131.3953488372093\" y=\"199.56331877729258\"><title>Bombus terricola</title></rect><rect class=\"toyplot-Datum\" height=\"89.51965065502182\" style=\"fill:rgb(40%,76.1%,64.7%);fill-opacity:1.0;opacity:1.0;stroke:rgb(100%,100%,100%);stroke-opacity:1.0;stroke-width:1.0\" width=\"11.627906976744185\" x=\"143.02325581395348\" y=\"210.48034934497818\"><title>Bombus centralis</title></rect><rect class=\"toyplot-Datum\" height=\"79.6943231441048\" style=\"fill:rgb(40%,76.1%,64.7%);fill-opacity:1.0;opacity:1.0;stroke:rgb(100%,100%,100%);stroke-opacity:1.0;stroke-width:1.0\" width=\"11.627906976744185\" x=\"154.65116279069767\" y=\"220.3056768558952\"><title>Bombus morrisoni</title></rect><rect class=\"toyplot-Datum\" height=\"72.05240174672491\" style=\"fill:rgb(40%,76.1%,64.7%);fill-opacity:1.0;opacity:1.0;stroke:rgb(100%,100%,100%);stroke-opacity:1.0;stroke-width:1.0\" width=\"11.627906976744214\" x=\"166.27906976744185\" y=\"227.9475982532751\"><title>Bombus rufocinctus</title></rect><rect class=\"toyplot-Datum\" height=\"58.95196506550218\" style=\"fill:rgb(40%,76.1%,64.7%);fill-opacity:1.0;opacity:1.0;stroke:rgb(100%,100%,100%);stroke-opacity:1.0;stroke-width:1.0\" width=\"11.627906976744157\" x=\"177.90697674418607\" y=\"241.04803493449782\"><title>Bombus bifarius</title></rect><rect class=\"toyplot-Datum\" height=\"52.40174672489087\" style=\"fill:rgb(40%,76.1%,64.7%);fill-opacity:1.0;opacity:1.0;stroke:rgb(100%,100%,100%);stroke-opacity:1.0;stroke-width:1.0\" width=\"11.627906976744185\" x=\"189.53488372093022\" y=\"247.59825327510913\"><title>Bombus variabilis</title></rect><rect class=\"toyplot-Datum\" height=\"51.31004366812226\" style=\"fill:rgb(40%,76.1%,64.7%);fill-opacity:1.0;opacity:1.0;stroke:rgb(100%,100%,100%);stroke-opacity:1.0;stroke-width:1.0\" width=\"11.627906976744214\" x=\"201.1627906976744\" y=\"248.68995633187774\"><title>Bombus huntii</title></rect><rect class=\"toyplot-Datum\" height=\"49.12663755458516\" style=\"fill:rgb(40%,76.1%,64.7%);fill-opacity:1.0;opacity:1.0;stroke:rgb(100%,100%,100%);stroke-opacity:1.0;stroke-width:1.0\" width=\"11.627906976744185\" x=\"212.79069767441862\" y=\"250.87336244541484\"><title>Bombus insularis</title></rect><rect class=\"toyplot-Datum\" height=\"44.759825327510924\" style=\"fill:rgb(40%,76.1%,64.7%);fill-opacity:1.0;opacity:1.0;stroke:rgb(100%,100%,100%);stroke-opacity:1.0;stroke-width:1.0\" width=\"11.627906976744157\" x=\"224.4186046511628\" y=\"255.24017467248908\"><title>Bombus bimaculatus</title></rect><rect class=\"toyplot-Datum\" height=\"34.934497816593876\" style=\"fill:rgb(40%,76.1%,64.7%);fill-opacity:1.0;opacity:1.0;stroke:rgb(100%,100%,100%);stroke-opacity:1.0;stroke-width:1.0\" width=\"11.627906976744185\" x=\"236.04651162790697\" y=\"265.0655021834061\"><title>Bombus vosnesenskii</title></rect><rect class=\"toyplot-Datum\" height=\"32.75109170305677\" style=\"fill:rgb(40%,76.1%,64.7%);fill-opacity:1.0;opacity:1.0;stroke:rgb(100%,100%,100%);stroke-opacity:1.0;stroke-width:1.0\" width=\"11.627906976744185\" x=\"247.67441860465115\" y=\"267.2489082969432\"><title>Bombus appositus</title></rect><rect class=\"toyplot-Datum\" height=\"32.75109170305677\" style=\"fill:rgb(40%,76.1%,64.7%);fill-opacity:1.0;opacity:1.0;stroke:rgb(100%,100%,100%);stroke-opacity:1.0;stroke-width:1.0\" width=\"11.627906976744214\" x=\"259.30232558139534\" y=\"267.2489082969432\"><title>Bombus fraternus</title></rect><rect class=\"toyplot-Datum\" height=\"24.017467248908247\" style=\"fill:rgb(40%,76.1%,64.7%);fill-opacity:1.0;opacity:1.0;stroke:rgb(100%,100%,100%);stroke-opacity:1.0;stroke-width:1.0\" width=\"11.627906976744157\" x=\"270.93023255813955\" y=\"275.98253275109175\"><title>Bombus perplexus</title></rect><rect class=\"toyplot-Datum\" height=\"21.834061135371144\" style=\"fill:rgb(40%,76.1%,64.7%);fill-opacity:1.0;opacity:1.0;stroke:rgb(100%,100%,100%);stroke-opacity:1.0;stroke-width:1.0\" width=\"11.627906976744157\" x=\"282.5581395348837\" y=\"278.16593886462886\"><title>Bombus auricomus</title></rect><rect class=\"toyplot-Datum\" height=\"21.834061135371144\" style=\"fill:rgb(40%,76.1%,64.7%);fill-opacity:1.0;opacity:1.0;stroke:rgb(100%,100%,100%);stroke-opacity:1.0;stroke-width:1.0\" width=\"11.62790697674427\" x=\"294.18604651162786\" y=\"278.16593886462886\"><title>Bombus melanopygus</title></rect><rect class=\"toyplot-Datum\" height=\"20.742358078602592\" style=\"fill:rgb(40%,76.1%,64.7%);fill-opacity:1.0;opacity:1.0;stroke:rgb(100%,100%,100%);stroke-opacity:1.0;stroke-width:1.0\" width=\"11.6279069767441\" x=\"305.81395348837214\" y=\"279.2576419213974\"><title>Bombus nevadensis</title></rect><rect class=\"toyplot-Datum\" height=\"17.467248908296938\" style=\"fill:rgb(40%,76.1%,64.7%);fill-opacity:1.0;opacity:1.0;stroke:rgb(100%,100%,100%);stroke-opacity:1.0;stroke-width:1.0\" width=\"11.627906976744214\" x=\"317.44186046511624\" y=\"282.53275109170306\"><title>Bombus ternarius</title></rect><rect class=\"toyplot-Datum\" height=\"16.375545851528443\" style=\"fill:rgb(40%,76.1%,64.7%);fill-opacity:1.0;opacity:1.0;stroke:rgb(100%,100%,100%);stroke-opacity:1.0;stroke-width:1.0\" width=\"11.627906976744214\" x=\"329.06976744186045\" y=\"283.62445414847156\"><title>Bombus mixtus</title></rect><rect class=\"toyplot-Datum\" height=\"15.283842794759835\" style=\"fill:rgb(40%,76.1%,64.7%);fill-opacity:1.0;opacity:1.0;stroke:rgb(100%,100%,100%);stroke-opacity:1.0;stroke-width:1.0\" width=\"11.627906976744157\" x=\"340.69767441860466\" y=\"284.71615720524017\"><title>Bombus fernaldae</title></rect><rect class=\"toyplot-Datum\" height=\"13.100436681222732\" style=\"fill:rgb(40%,76.1%,64.7%);fill-opacity:1.0;opacity:1.0;stroke:rgb(100%,100%,100%);stroke-opacity:1.0;stroke-width:1.0\" width=\"11.627906976744157\" x=\"352.3255813953488\" y=\"286.89956331877727\"><title>Bombus flavifrons</title></rect><rect class=\"toyplot-Datum\" height=\"13.100436681222732\" style=\"fill:rgb(40%,76.1%,64.7%);fill-opacity:1.0;opacity:1.0;stroke:rgb(100%,100%,100%);stroke-opacity:1.0;stroke-width:1.0\" width=\"11.62790697674427\" x=\"363.953488372093\" y=\"286.89956331877727\"><title>Bombus californicus</title></rect><rect class=\"toyplot-Datum\" height=\"13.100436681222732\" style=\"fill:rgb(40%,76.1%,64.7%);fill-opacity:1.0;opacity:1.0;stroke:rgb(100%,100%,100%);stroke-opacity:1.0;stroke-width:1.0\" width=\"11.6279069767441\" x=\"375.58139534883725\" y=\"286.89956331877727\"><title>Bombus citrinus</title></rect><rect class=\"toyplot-Datum\" height=\"6.550218340611366\" style=\"fill:rgb(40%,76.1%,64.7%);fill-opacity:1.0;opacity:1.0;stroke:rgb(100%,100%,100%);stroke-opacity:1.0;stroke-width:1.0\" width=\"11.627906976744214\" x=\"387.20930232558135\" y=\"293.44978165938863\"><title>Bombus sandersoni</title></rect><rect class=\"toyplot-Datum\" height=\"6.550218340611366\" style=\"fill:rgb(40%,76.1%,64.7%);fill-opacity:1.0;opacity:1.0;stroke:rgb(100%,100%,100%);stroke-opacity:1.0;stroke-width:1.0\" width=\"11.627906976744214\" x=\"398.83720930232556\" y=\"293.44978165938863\"><title>Bombus sylvicola</title></rect><rect class=\"toyplot-Datum\" height=\"5.458515283842814\" style=\"fill:rgb(40%,76.1%,64.7%);fill-opacity:1.0;opacity:1.0;stroke:rgb(100%,100%,100%);stroke-opacity:1.0;stroke-width:1.0\" width=\"11.627906976744157\" x=\"410.4651162790698\" y=\"294.5414847161572\"><title>Bombus suckleyi</title></rect><rect class=\"toyplot-Datum\" height=\"5.458515283842814\" style=\"fill:rgb(40%,76.1%,64.7%);fill-opacity:1.0;opacity:1.0;stroke:rgb(100%,100%,100%);stroke-opacity:1.0;stroke-width:1.0\" width=\"11.62790697674427\" x=\"422.09302325581393\" y=\"294.5414847161572\"><title>Bombus borealis</title></rect><rect class=\"toyplot-Datum\" height=\"4.366812227074263\" style=\"fill:rgb(40%,76.1%,64.7%);fill-opacity:1.0;opacity:1.0;stroke:rgb(100%,100%,100%);stroke-opacity:1.0;stroke-width:1.0\" width=\"11.6279069767441\" x=\"433.7209302325582\" y=\"295.63318777292574\"><title>Bombus lapponicus</title></rect><rect class=\"toyplot-Datum\" height=\"4.366812227074263\" style=\"fill:rgb(40%,76.1%,64.7%);fill-opacity:1.0;opacity:1.0;stroke:rgb(100%,100%,100%);stroke-opacity:1.0;stroke-width:1.0\" width=\"11.627906976744214\" x=\"445.3488372093023\" y=\"295.63318777292574\"><title>Bombus sitkensis</title></rect><rect class=\"toyplot-Datum\" height=\"4.366812227074263\" style=\"fill:rgb(40%,76.1%,64.7%);fill-opacity:1.0;opacity:1.0;stroke:rgb(100%,100%,100%);stroke-opacity:1.0;stroke-width:1.0\" width=\"11.627906976744214\" x=\"456.9767441860465\" y=\"295.63318777292574\"><title>Bombus ashtoni</title></rect><rect class=\"toyplot-Datum\" height=\"4.366812227074263\" style=\"fill:rgb(40%,76.1%,64.7%);fill-opacity:1.0;opacity:1.0;stroke:rgb(100%,100%,100%);stroke-opacity:1.0;stroke-width:1.0\" width=\"11.627906976744157\" x=\"468.60465116279073\" y=\"295.63318777292574\"><title>Bombus crotchii</title></rect><rect class=\"toyplot-Datum\" height=\"3.2751091703057114\" style=\"fill:rgb(40%,76.1%,64.7%);fill-opacity:1.0;opacity:1.0;stroke:rgb(100%,100%,100%);stroke-opacity:1.0;stroke-width:1.0\" width=\"11.627906976744157\" x=\"480.2325581395349\" y=\"296.7248908296943\"><title>Bombus balteatus</title></rect><rect class=\"toyplot-Datum\" height=\"3.2751091703057114\" style=\"fill:rgb(40%,76.1%,64.7%);fill-opacity:1.0;opacity:1.0;stroke:rgb(100%,100%,100%);stroke-opacity:1.0;stroke-width:1.0\" width=\"11.627906976744214\" x=\"491.86046511627904\" y=\"296.7248908296943\"><title>Bombus cockerelli</title></rect><rect class=\"toyplot-Datum\" height=\"1.0917030567685515\" style=\"fill:rgb(40%,76.1%,64.7%);fill-opacity:1.0;opacity:1.0;stroke:rgb(100%,100%,100%);stroke-opacity:1.0;stroke-width:1.0\" width=\"11.627906976744157\" x=\"503.48837209302326\" y=\"298.90829694323145\"><title>Bombus separatus</title></rect><rect class=\"toyplot-Datum\" height=\"1.0917030567685515\" style=\"fill:rgb(40%,76.1%,64.7%);fill-opacity:1.0;opacity:1.0;stroke:rgb(100%,100%,100%);stroke-opacity:1.0;stroke-width:1.0\" width=\"11.62790697674427\" x=\"515.1162790697674\" y=\"298.90829694323145\"><title>Bombus rufosuffusus</title></rect><rect class=\"toyplot-Datum\" height=\"1.0917030567685515\" style=\"fill:rgb(40%,76.1%,64.7%);fill-opacity:1.0;opacity:1.0;stroke:rgb(100%,100%,100%);stroke-opacity:1.0;stroke-width:1.0\" width=\"11.627906976744043\" x=\"526.7441860465117\" y=\"298.90829694323145\"><title>Bombus patagiatus</title></rect><rect class=\"toyplot-Datum\" height=\"1.0917030567685515\" style=\"fill:rgb(40%,76.1%,64.7%);fill-opacity:1.0;opacity:1.0;stroke:rgb(100%,100%,100%);stroke-opacity:1.0;stroke-width:1.0\" width=\"11.62790697674427\" x=\"538.3720930232557\" y=\"298.90829694323145\"><title>Bombus neoboreus</title></rect></g></g></g><g class=\"toyplot-coordinates-Axis\" id=\"t6869c64601184286ae874d709cc2dfcc\" transform=\"translate(50.0,300.0)translate(0,10.0)\"><line style=\"\" x1=\"0\" x2=\"500.0\" y1=\"0\" y2=\"0\"></line><g><g transform=\"translate(5.813953488372093,6)\"><text style=\"fill:rgb(16.1%,15.3%,14.1%);fill-opacity:1.0;font-family:helvetica;font-size:10.0px;font-weight:normal;stroke:none;vertical-align:baseline;white-space:pre\" x=\"-2.78\" y=\"8.555\">0</text></g><g transform=\"translate(122.09302325581395,6)\"><text style=\"fill:rgb(16.1%,15.3%,14.1%);fill-opacity:1.0;font-family:helvetica;font-size:10.0px;font-weight:normal;stroke:none;vertical-align:baseline;white-space:pre\" x=\"-5.56\" y=\"8.555\">10</text></g><g transform=\"translate(238.37209302325581,6)\"><text style=\"fill:rgb(16.1%,15.3%,14.1%);fill-opacity:1.0;font-family:helvetica;font-size:10.0px;font-weight:normal;stroke:none;vertical-align:baseline;white-space:pre\" x=\"-5.56\" y=\"8.555\">20</text></g><g transform=\"translate(354.6511627906977,6)\"><text style=\"fill:rgb(16.1%,15.3%,14.1%);fill-opacity:1.0;font-family:helvetica;font-size:10.0px;font-weight:normal;stroke:none;vertical-align:baseline;white-space:pre\" x=\"-5.56\" y=\"8.555\">30</text></g><g transform=\"translate(470.93023255813955,6)\"><text style=\"fill:rgb(16.1%,15.3%,14.1%);fill-opacity:1.0;font-family:helvetica;font-size:10.0px;font-weight:normal;stroke:none;vertical-align:baseline;white-space:pre\" x=\"-5.56\" y=\"8.555\">40</text></g></g><g class=\"toyplot-coordinates-Axis-coordinates\" style=\"visibility:hidden\" transform=\"\"><line style=\"stroke:rgb(43.9%,50.2%,56.5%);stroke-opacity:1.0;stroke-width:1.0\" x1=\"0\" x2=\"0\" y1=\"-3.0\" y2=\"4.5\"></line><text style=\"alignment-baseline:alphabetic;fill:rgb(43.9%,50.2%,56.5%);fill-opacity:1.0;font-size:10px;font-weight:normal;stroke:none;text-anchor:middle\" x=\"0\" y=\"-6\"></text></g></g><g class=\"toyplot-coordinates-Axis\" id=\"t4fe7df8685924c0cb0b635553730c13d\" transform=\"translate(50.0,300.0)rotate(-90.0)translate(0,-10.0)\"><line style=\"\" x1=\"0\" x2=\"250.0\" y1=\"0\" y2=\"0\"></line><g><g transform=\"translate(0.0,-6)\"><text style=\"fill:rgb(16.1%,15.3%,14.1%);fill-opacity:1.0;font-family:helvetica;font-size:10.0px;font-weight:normal;stroke:none;vertical-align:baseline;white-space:pre\" x=\"-2.78\" y=\"-4.440892098500626e-16\">0</text></g><g transform=\"translate(109.1703056768559,-6)\"><text style=\"fill:rgb(16.1%,15.3%,14.1%);fill-opacity:1.0;font-family:helvetica;font-size:10.0px;font-weight:normal;stroke:none;vertical-align:baseline;white-space:pre\" x=\"-8.34\" y=\"-4.440892098500626e-16\">100</text></g><g transform=\"translate(218.3406113537118,-6)\"><text style=\"fill:rgb(16.1%,15.3%,14.1%);fill-opacity:1.0;font-family:helvetica;font-size:10.0px;font-weight:normal;stroke:none;vertical-align:baseline;white-space:pre\" x=\"-8.34\" y=\"-4.440892098500626e-16\">200</text></g></g><g class=\"toyplot-coordinates-Axis-coordinates\" style=\"visibility:hidden\" transform=\"\"><line style=\"stroke:rgb(43.9%,50.2%,56.5%);stroke-opacity:1.0;stroke-width:1.0\" x1=\"0\" x2=\"0\" y1=\"3.0\" y2=\"-4.5\"></line><text style=\"alignment-baseline:hanging;fill:rgb(43.9%,50.2%,56.5%);fill-opacity:1.0;font-size:10px;font-weight:normal;stroke:none;text-anchor:middle\" x=\"0\" y=\"6\"></text></g></g></g></svg><div class=\"toyplot-behavior\"><script>(function()\n",
       "{\n",
       "var modules={};\n",
       "modules[\"toyplot/tables\"] = (function()\n",
       "    {\n",
       "        var tables = [];\n",
       "\n",
       "        var module = {};\n",
       "\n",
       "        module.set = function(owner, key, names, columns)\n",
       "        {\n",
       "            tables.push({owner: owner, key: key, names: names, columns: columns});\n",
       "        }\n",
       "\n",
       "        module.get = function(owner, key)\n",
       "        {\n",
       "            for(var i = 0; i != tables.length; ++i)\n",
       "            {\n",
       "                var table = tables[i];\n",
       "                if(table.owner != owner)\n",
       "                    continue;\n",
       "                if(table.key != key)\n",
       "                    continue;\n",
       "                return {names: table.names, columns: table.columns};\n",
       "            }\n",
       "        }\n",
       "\n",
       "        module.get_csv = function(owner, key)\n",
       "        {\n",
       "            var table = module.get(owner, key);\n",
       "            if(table != undefined)\n",
       "            {\n",
       "                var csv = \"\";\n",
       "                csv += table.names.join(\",\") + \"\\n\";\n",
       "                for(var i = 0; i != table.columns[0].length; ++i)\n",
       "                {\n",
       "                  for(var j = 0; j != table.columns.length; ++j)\n",
       "                  {\n",
       "                    if(j)\n",
       "                      csv += \",\";\n",
       "                    csv += table.columns[j][i];\n",
       "                  }\n",
       "                  csv += \"\\n\";\n",
       "                }\n",
       "                return csv;\n",
       "            }\n",
       "        }\n",
       "\n",
       "        return module;\n",
       "    })();\n",
       "modules[\"toyplot/root/id\"] = \"t44abc71ba5ab4abca3b7ad0984aa519f\";\n",
       "modules[\"toyplot/root\"] = (function(root_id)\n",
       "    {\n",
       "        return document.querySelector(\"#\" + root_id);\n",
       "    })(modules[\"toyplot/root/id\"]);\n",
       "modules[\"toyplot/canvas/id\"] = \"t83371d4d60b445808df04e0606807a3c\";\n",
       "modules[\"toyplot/canvas\"] = (function(canvas_id)\n",
       "    {\n",
       "        return document.querySelector(\"#\" + canvas_id);\n",
       "    })(modules[\"toyplot/canvas/id\"]);\n",
       "modules[\"toyplot/menus/context\"] = (function(root, canvas)\n",
       "    {\n",
       "        var wrapper = document.createElement(\"div\");\n",
       "        wrapper.innerHTML = \"<ul class='toyplot-context-menu' style='background:#eee; border:1px solid #b8b8b8; border-radius:5px; box-shadow: 0px 0px 8px rgba(0%,0%,0%,0.25); margin:0; padding:3px 0; position:fixed; visibility:hidden;'></ul>\"\n",
       "        var menu = wrapper.firstChild;\n",
       "\n",
       "        root.appendChild(menu);\n",
       "\n",
       "        var items = [];\n",
       "\n",
       "        var ignore_mouseup = null;\n",
       "        function open_menu(e)\n",
       "        {\n",
       "            var show_menu = false;\n",
       "            for(var index=0; index != items.length; ++index)\n",
       "            {\n",
       "                var item = items[index];\n",
       "                if(item.show(e))\n",
       "                {\n",
       "                    item.item.style.display = \"block\";\n",
       "                    show_menu = true;\n",
       "                }\n",
       "                else\n",
       "                {\n",
       "                    item.item.style.display = \"none\";\n",
       "                }\n",
       "            }\n",
       "\n",
       "            if(show_menu)\n",
       "            {\n",
       "                ignore_mouseup = true;\n",
       "                menu.style.left = (e.clientX + 1) + \"px\";\n",
       "                menu.style.top = (e.clientY - 5) + \"px\";\n",
       "                menu.style.visibility = \"visible\";\n",
       "                e.stopPropagation();\n",
       "                e.preventDefault();\n",
       "            }\n",
       "        }\n",
       "\n",
       "        function close_menu()\n",
       "        {\n",
       "            menu.style.visibility = \"hidden\";\n",
       "        }\n",
       "\n",
       "        function contextmenu(e)\n",
       "        {\n",
       "            open_menu(e);\n",
       "        }\n",
       "\n",
       "        function mousemove(e)\n",
       "        {\n",
       "            ignore_mouseup = false;\n",
       "        }\n",
       "\n",
       "        function mouseup(e)\n",
       "        {\n",
       "            if(ignore_mouseup)\n",
       "            {\n",
       "                ignore_mouseup = false;\n",
       "                return;\n",
       "            }\n",
       "            close_menu();\n",
       "        }\n",
       "\n",
       "        function keydown(e)\n",
       "        {\n",
       "            if(e.key == \"Escape\" || e.key == \"Esc\" || e.keyCode == 27)\n",
       "            {\n",
       "                close_menu();\n",
       "            }\n",
       "        }\n",
       "\n",
       "        canvas.addEventListener(\"contextmenu\", contextmenu);\n",
       "        canvas.addEventListener(\"mousemove\", mousemove);\n",
       "        document.addEventListener(\"mouseup\", mouseup);\n",
       "        document.addEventListener(\"keydown\", keydown);\n",
       "\n",
       "        var module = {};\n",
       "        module.add_item = function(label, show, activate)\n",
       "        {\n",
       "            var wrapper = document.createElement(\"div\");\n",
       "            wrapper.innerHTML = \"<li class='toyplot-context-menu-item' style='background:#eee; color:#333; padding:2px 20px; list-style:none; margin:0; text-align:left;'>\" + label + \"</li>\"\n",
       "            var item = wrapper.firstChild;\n",
       "\n",
       "            items.push({item: item, show: show});\n",
       "\n",
       "            function mouseover()\n",
       "            {\n",
       "                this.style.background = \"steelblue\";\n",
       "                this.style.color = \"white\";\n",
       "            }\n",
       "\n",
       "            function mouseout()\n",
       "            {\n",
       "                this.style.background = \"#eee\";\n",
       "                this.style.color = \"#333\";\n",
       "            }\n",
       "\n",
       "            function choose_item(e)\n",
       "            {\n",
       "                close_menu();\n",
       "                activate();\n",
       "\n",
       "                e.stopPropagation();\n",
       "                e.preventDefault();\n",
       "            }\n",
       "\n",
       "            item.addEventListener(\"mouseover\", mouseover);\n",
       "            item.addEventListener(\"mouseout\", mouseout);\n",
       "            item.addEventListener(\"mouseup\", choose_item);\n",
       "            item.addEventListener(\"contextmenu\", choose_item);\n",
       "\n",
       "            menu.appendChild(item);\n",
       "        };\n",
       "        return module;\n",
       "    })(modules[\"toyplot/root\"],modules[\"toyplot/canvas\"]);\n",
       "modules[\"toyplot/io\"] = (function()\n",
       "    {\n",
       "        var module = {};\n",
       "        module.save_file = function(mime_type, charset, data, filename)\n",
       "        {\n",
       "            var uri = \"data:\" + mime_type + \";charset=\" + charset + \",\" + data;\n",
       "            uri = encodeURI(uri);\n",
       "\n",
       "            var link = document.createElement(\"a\");\n",
       "            if(typeof link.download != \"undefined\")\n",
       "            {\n",
       "              link.href = uri;\n",
       "              link.style = \"visibility:hidden\";\n",
       "              link.download = filename;\n",
       "\n",
       "              document.body.appendChild(link);\n",
       "              link.click();\n",
       "              document.body.removeChild(link);\n",
       "            }\n",
       "            else\n",
       "            {\n",
       "              window.open(uri);\n",
       "            }\n",
       "        };\n",
       "        return module;\n",
       "    })();\n",
       "modules[\"toyplot.coordinates.Axis\"] = (\n",
       "        function(canvas)\n",
       "        {\n",
       "            function sign(x)\n",
       "            {\n",
       "                return x < 0 ? -1 : x > 0 ? 1 : 0;\n",
       "            }\n",
       "\n",
       "            function mix(a, b, amount)\n",
       "            {\n",
       "                return ((1.0 - amount) * a) + (amount * b);\n",
       "            }\n",
       "\n",
       "            function log(x, base)\n",
       "            {\n",
       "                return Math.log(Math.abs(x)) / Math.log(base);\n",
       "            }\n",
       "\n",
       "            function in_range(a, x, b)\n",
       "            {\n",
       "                var left = Math.min(a, b);\n",
       "                var right = Math.max(a, b);\n",
       "                return left <= x && x <= right;\n",
       "            }\n",
       "\n",
       "            function inside(range, projection)\n",
       "            {\n",
       "                for(var i = 0; i != projection.length; ++i)\n",
       "                {\n",
       "                    var segment = projection[i];\n",
       "                    if(in_range(segment.range.min, range, segment.range.max))\n",
       "                        return true;\n",
       "                }\n",
       "                return false;\n",
       "            }\n",
       "\n",
       "            function to_domain(range, projection)\n",
       "            {\n",
       "                for(var i = 0; i != projection.length; ++i)\n",
       "                {\n",
       "                    var segment = projection[i];\n",
       "                    if(in_range(segment.range.bounds.min, range, segment.range.bounds.max))\n",
       "                    {\n",
       "                        if(segment.scale == \"linear\")\n",
       "                        {\n",
       "                            var amount = (range - segment.range.min) / (segment.range.max - segment.range.min);\n",
       "                            return mix(segment.domain.min, segment.domain.max, amount)\n",
       "                        }\n",
       "                        else if(segment.scale[0] == \"log\")\n",
       "                        {\n",
       "                            var amount = (range - segment.range.min) / (segment.range.max - segment.range.min);\n",
       "                            var base = segment.scale[1];\n",
       "                            return sign(segment.domain.min) * Math.pow(base, mix(log(segment.domain.min, base), log(segment.domain.max, base), amount));\n",
       "                        }\n",
       "                    }\n",
       "                }\n",
       "            }\n",
       "\n",
       "            var axes = {};\n",
       "\n",
       "            function display_coordinates(e)\n",
       "            {\n",
       "                var current = canvas.createSVGPoint();\n",
       "                current.x = e.clientX;\n",
       "                current.y = e.clientY;\n",
       "\n",
       "                for(var axis_id in axes)\n",
       "                {\n",
       "                    var axis = document.querySelector(\"#\" + axis_id);\n",
       "                    var coordinates = axis.querySelector(\".toyplot-coordinates-Axis-coordinates\");\n",
       "                    if(coordinates)\n",
       "                    {\n",
       "                        var projection = axes[axis_id];\n",
       "                        var local = current.matrixTransform(axis.getScreenCTM().inverse());\n",
       "                        if(inside(local.x, projection))\n",
       "                        {\n",
       "                            var domain = to_domain(local.x, projection);\n",
       "                            coordinates.style.visibility = \"visible\";\n",
       "                            coordinates.setAttribute(\"transform\", \"translate(\" + local.x + \")\");\n",
       "                            var text = coordinates.querySelector(\"text\");\n",
       "                            text.textContent = domain.toFixed(2);\n",
       "                        }\n",
       "                        else\n",
       "                        {\n",
       "                            coordinates.style.visibility= \"hidden\";\n",
       "                        }\n",
       "                    }\n",
       "                }\n",
       "            }\n",
       "\n",
       "            canvas.addEventListener(\"click\", display_coordinates);\n",
       "\n",
       "            var module = {};\n",
       "            module.show_coordinates = function(axis_id, projection)\n",
       "            {\n",
       "                axes[axis_id] = projection;\n",
       "            }\n",
       "\n",
       "            return module;\n",
       "        })(modules[\"toyplot/canvas\"]);\n",
       "(function(tables, context_menu, io, owner_id, key, label, names, columns, filename)\n",
       "        {\n",
       "            tables.set(owner_id, key, names, columns);\n",
       "\n",
       "            var owner = document.querySelector(\"#\" + owner_id);\n",
       "            function show_item(e)\n",
       "            {\n",
       "                return owner.contains(e.target);\n",
       "            }\n",
       "\n",
       "            function choose_item()\n",
       "            {\n",
       "                io.save_file(\"text/csv\", \"utf-8\", tables.get_csv(owner_id, key), filename + \".csv\");\n",
       "            }\n",
       "\n",
       "            context_menu.add_item(\"Save \" + label + \" as CSV\", show_item, choose_item);\n",
       "        })(modules[\"toyplot/tables\"],modules[\"toyplot/menus/context\"],modules[\"toyplot/io\"],\"ta64a14d251724d85b16857b7b12e9adc\",\"data\",\"bar data\",[\"left\", \"right\", \"baseline\", \"magnitude0\"],[[-0.5, 0.5, 1.5, 2.5, 3.5, 4.5, 5.5, 6.5, 7.5, 8.5, 9.5, 10.5, 11.5, 12.5, 13.5, 14.5, 15.5, 16.5, 17.5, 18.5, 19.5, 20.5, 21.5, 22.5, 23.5, 24.5, 25.5, 26.5, 27.5, 28.5, 29.5, 30.5, 31.5, 32.5, 33.5, 34.5, 35.5, 36.5, 37.5, 38.5, 39.5, 40.5, 41.5], [0.5, 1.5, 2.5, 3.5, 4.5, 5.5, 6.5, 7.5, 8.5, 9.5, 10.5, 11.5, 12.5, 13.5, 14.5, 15.5, 16.5, 17.5, 18.5, 19.5, 20.5, 21.5, 22.5, 23.5, 24.5, 25.5, 26.5, 27.5, 28.5, 29.5, 30.5, 31.5, 32.5, 33.5, 34.5, 35.5, 36.5, 37.5, 38.5, 39.5, 40.5, 41.5, 42.5], [0.0, 0.0, 0.0, 0.0, 0.0, 0.0, 0.0, 0.0, 0.0, 0.0, 0.0, 0.0, 0.0, 0.0, 0.0, 0.0, 0.0, 0.0, 0.0, 0.0, 0.0, 0.0, 0.0, 0.0, 0.0, 0.0, 0.0, 0.0, 0.0, 0.0, 0.0, 0.0, 0.0, 0.0, 0.0, 0.0, 0.0, 0.0, 0.0, 0.0, 0.0, 0.0, 0.0], [229.0, 195.0, 163.0, 148.0, 146.0, 100.0, 93.0, 92.0, 82.0, 73.0, 66.0, 54.0, 48.0, 47.0, 45.0, 41.0, 32.0, 30.0, 30.0, 22.0, 20.0, 20.0, 19.0, 16.0, 15.0, 14.0, 12.0, 12.0, 12.0, 6.0, 6.0, 5.0, 5.0, 4.0, 4.0, 4.0, 4.0, 3.0, 3.0, 1.0, 1.0, 1.0, 1.0]],\"toyplot\");\n",
       "(function(axis, axis_id, projection)\n",
       "        {\n",
       "            axis.show_coordinates(axis_id, projection);\n",
       "        })(modules[\"toyplot.coordinates.Axis\"],\"t6869c64601184286ae874d709cc2dfcc\",[{\"domain\": {\"bounds\": {\"max\": Infinity, \"min\": -Infinity}, \"max\": 42.5, \"min\": -0.5}, \"range\": {\"bounds\": {\"max\": Infinity, \"min\": -Infinity}, \"max\": 500.0, \"min\": 0.0}, \"scale\": \"linear\"}]);\n",
       "(function(axis, axis_id, projection)\n",
       "        {\n",
       "            axis.show_coordinates(axis_id, projection);\n",
       "        })(modules[\"toyplot.coordinates.Axis\"],\"t4fe7df8685924c0cb0b635553730c13d\",[{\"domain\": {\"bounds\": {\"max\": Infinity, \"min\": -Infinity}, \"max\": 229.0, \"min\": 0.0}, \"range\": {\"bounds\": {\"max\": Infinity, \"min\": -Infinity}, \"max\": 250.0, \"min\": 0.0}, \"scale\": \"linear\"}]);\n",
       "})();</script></div></div>"
      ]
     },
     "metadata": {},
     "output_type": "display_data"
    }
   ],
   "source": [
    "# plot the number of each species in order\n",
    "sp_counts = df.species[mask].value_counts()\n",
    "toyplot.bars(sp_counts, height=350, title=sp_counts.index);\n"
   ]
  },
  {
   "cell_type": "markdown",
   "metadata": {},
   "source": [
    "## Assignment: "
   ]
  },
  {
   "cell_type": "markdown",
   "metadata": {},
   "source": [
    "### Task 1: \n",
    "Write a Class object called `Records` that can be given a taxon name query and a range of years and will return a class instance with all results from GBIF for the queried range using the same params from our example above, except allowing the 'q' and 'year' arguments to vary. You can reuse the code above to create the core functions for your object. When finished, you should be able to use the object in the following way. This means that after writing your Class object, test it using the code below and make sure it gives proper results. "
   ]
  },
  {
   "cell_type": "code",
   "execution_count": 27,
   "metadata": {},
   "outputs": [],
   "source": [
    "# fill in the params dictionary, write functions to update it\n",
    "# with the entered arguments to __init__, write functions\n",
    "# to get_all_records and store results as a dataframe.\n",
    "# have all functions run during init so that the initialized\n",
    "# object calls the request and returns a full dataframe. \n",
    "\n",
    "import toyplot\n",
    "import requests\n",
    "import pandas as pd\n",
    "    \n",
    "class Record:\n",
    "    \n",
    "    def __init__(self, q=None, interval=None):\n",
    "        \n",
    "        self.q = q\n",
    "        self.interval = interval\n",
    "        self.params = {}\n",
    "        self.data = {}\n",
    "        self.df = {}\n",
    "        self._get_all_records()\n",
    "    \n",
    "    def _get_all_records(self):\n",
    "        \"iterate until end of records\"\n",
    "        start = 0\n",
    "        data = []\n",
    "        \n",
    "        # define base URL\n",
    "        baseurl = \"http://api.gbif.org/v1/occurrence/search?\"\n",
    "        \n",
    "        # eliminate brackets on interval\n",
    "        interval2 = str(self.interval[0])+\",\"+str(self.interval[1])\n",
    "        \n",
    "        searchparams = {\n",
    "            \"q\": str(self.q), \n",
    "            \"year\": interval2, \n",
    "            \"offset\": \"0\",\n",
    "            \"limit\": \"300\"\n",
    "        }\n",
    "\n",
    "        # run loop infinitely untill it gets break command (same as while True)\n",
    "        while 1:\n",
    "            # make request and store results\n",
    "            res = requests.get(\n",
    "                url=baseurl, \n",
    "                params=searchparams,\n",
    "            )\n",
    "            # increment counter\n",
    "            searchparams[\"offset\"] = str(int(searchparams[\"offset\"]) + 300)\n",
    "\n",
    "            # concatenate data \n",
    "            idata = res.json()\n",
    "            data += idata[\"results\"]\n",
    "\n",
    "            # stop when end of record is reached\n",
    "            if idata[\"endOfRecords\"]:\n",
    "                break\n",
    "                \n",
    "            self.data = data\n",
    "            self.df = pd.DataFrame(self.data)\n",
    "\n",
    "        return data"
   ]
  },
  {
   "cell_type": "code",
   "execution_count": 28,
   "metadata": {},
   "outputs": [
    {
     "data": {
      "text/plain": [
       "(21600, 139)"
      ]
     },
     "execution_count": 28,
     "metadata": {},
     "output_type": "execute_result"
    }
   ],
   "source": [
    "## create instance by entering query and a range of years as integers\n",
    "rec = Record(q=\"Bombus\", interval=(1950, 1955))\n",
    "\n",
    "## access all of the returned records as a dataframe \n",
    "## (here asking for the shape to see how many records there are)\n",
    "rec.df.shape\n"
   ]
  },
  {
   "cell_type": "code",
   "execution_count": 25,
   "metadata": {},
   "outputs": [
    {
     "data": {
      "text/html": [
       "<div>\n",
       "<style scoped>\n",
       "    .dataframe tbody tr th:only-of-type {\n",
       "        vertical-align: middle;\n",
       "    }\n",
       "\n",
       "    .dataframe tbody tr th {\n",
       "        vertical-align: top;\n",
       "    }\n",
       "\n",
       "    .dataframe thead th {\n",
       "        text-align: right;\n",
       "    }\n",
       "</style>\n",
       "<table border=\"1\" class=\"dataframe\">\n",
       "  <thead>\n",
       "    <tr style=\"text-align: right;\">\n",
       "      <th></th>\n",
       "      <th>acceptedNameUsage</th>\n",
       "      <th>accessRights</th>\n",
       "      <th>associatedOccurrences</th>\n",
       "      <th>associatedReferences</th>\n",
       "      <th>associatedTaxa</th>\n",
       "      <th>basisOfRecord</th>\n",
       "      <th>behavior</th>\n",
       "      <th>bibliographicCitation</th>\n",
       "      <th>catalogNumber</th>\n",
       "      <th>class</th>\n",
       "      <th>...</th>\n",
       "      <th>typifiedName</th>\n",
       "      <th>verbatimCoordinateSystem</th>\n",
       "      <th>verbatimElevation</th>\n",
       "      <th>verbatimEventDate</th>\n",
       "      <th>verbatimLocality</th>\n",
       "      <th>verbatimSRS</th>\n",
       "      <th>verbatimTaxonRank</th>\n",
       "      <th>vernacularName</th>\n",
       "      <th>waterBody</th>\n",
       "      <th>year</th>\n",
       "    </tr>\n",
       "  </thead>\n",
       "  <tbody>\n",
       "    <tr>\n",
       "      <th>0</th>\n",
       "      <td>NaN</td>\n",
       "      <td>NaN</td>\n",
       "      <td>NaN</td>\n",
       "      <td>NaN</td>\n",
       "      <td>NaN</td>\n",
       "      <td>PRESERVED_SPECIMEN</td>\n",
       "      <td>NaN</td>\n",
       "      <td>NaN</td>\n",
       "      <td>BOMBUS5</td>\n",
       "      <td>Insecta</td>\n",
       "      <td>...</td>\n",
       "      <td>NaN</td>\n",
       "      <td>NaN</td>\n",
       "      <td>NaN</td>\n",
       "      <td>NaN</td>\n",
       "      <td>NaN</td>\n",
       "      <td>NaN</td>\n",
       "      <td>NaN</td>\n",
       "      <td>NaN</td>\n",
       "      <td>NaN</td>\n",
       "      <td>1952</td>\n",
       "    </tr>\n",
       "    <tr>\n",
       "      <th>1</th>\n",
       "      <td>NaN</td>\n",
       "      <td>NaN</td>\n",
       "      <td>NaN</td>\n",
       "      <td>NaN</td>\n",
       "      <td>NaN</td>\n",
       "      <td>PRESERVED_SPECIMEN</td>\n",
       "      <td>NaN</td>\n",
       "      <td>NaN</td>\n",
       "      <td>Insect Collection 234943</td>\n",
       "      <td>Insecta</td>\n",
       "      <td>...</td>\n",
       "      <td>NaN</td>\n",
       "      <td>NaN</td>\n",
       "      <td>NaN</td>\n",
       "      <td>NaN</td>\n",
       "      <td>NaN</td>\n",
       "      <td>NaN</td>\n",
       "      <td>NaN</td>\n",
       "      <td>NaN</td>\n",
       "      <td>NaN</td>\n",
       "      <td>1951</td>\n",
       "    </tr>\n",
       "    <tr>\n",
       "      <th>2</th>\n",
       "      <td>NaN</td>\n",
       "      <td>NaN</td>\n",
       "      <td>NaN</td>\n",
       "      <td>NaN</td>\n",
       "      <td>NaN</td>\n",
       "      <td>PRESERVED_SPECIMEN</td>\n",
       "      <td>NaN</td>\n",
       "      <td>NaN</td>\n",
       "      <td>Insect Collection 255802</td>\n",
       "      <td>Insecta</td>\n",
       "      <td>...</td>\n",
       "      <td>NaN</td>\n",
       "      <td>NaN</td>\n",
       "      <td>NaN</td>\n",
       "      <td>NaN</td>\n",
       "      <td>NaN</td>\n",
       "      <td>NaN</td>\n",
       "      <td>NaN</td>\n",
       "      <td>NaN</td>\n",
       "      <td>NaN</td>\n",
       "      <td>1952</td>\n",
       "    </tr>\n",
       "    <tr>\n",
       "      <th>3</th>\n",
       "      <td>NaN</td>\n",
       "      <td>NaN</td>\n",
       "      <td>NaN</td>\n",
       "      <td>NaN</td>\n",
       "      <td>NaN</td>\n",
       "      <td>PRESERVED_SPECIMEN</td>\n",
       "      <td>NaN</td>\n",
       "      <td>NaN</td>\n",
       "      <td>Insect Collection 334996</td>\n",
       "      <td>Insecta</td>\n",
       "      <td>...</td>\n",
       "      <td>NaN</td>\n",
       "      <td>NaN</td>\n",
       "      <td>NaN</td>\n",
       "      <td>NaN</td>\n",
       "      <td>NaN</td>\n",
       "      <td>NaN</td>\n",
       "      <td>NaN</td>\n",
       "      <td>NaN</td>\n",
       "      <td>NaN</td>\n",
       "      <td>1950</td>\n",
       "    </tr>\n",
       "    <tr>\n",
       "      <th>4</th>\n",
       "      <td>NaN</td>\n",
       "      <td>NaN</td>\n",
       "      <td>NaN</td>\n",
       "      <td>NaN</td>\n",
       "      <td>NaN</td>\n",
       "      <td>PRESERVED_SPECIMEN</td>\n",
       "      <td>NaN</td>\n",
       "      <td>NaN</td>\n",
       "      <td>141753</td>\n",
       "      <td>Insecta</td>\n",
       "      <td>...</td>\n",
       "      <td>NaN</td>\n",
       "      <td>NaN</td>\n",
       "      <td>NaN</td>\n",
       "      <td>NaN</td>\n",
       "      <td>NaN</td>\n",
       "      <td>NaN</td>\n",
       "      <td>NaN</td>\n",
       "      <td>NaN</td>\n",
       "      <td>NaN</td>\n",
       "      <td>1953</td>\n",
       "    </tr>\n",
       "  </tbody>\n",
       "</table>\n",
       "<p>5 rows × 145 columns</p>\n",
       "</div>"
      ],
      "text/plain": [
       "  acceptedNameUsage accessRights associatedOccurrences associatedReferences  \\\n",
       "0               NaN          NaN                   NaN                  NaN   \n",
       "1               NaN          NaN                   NaN                  NaN   \n",
       "2               NaN          NaN                   NaN                  NaN   \n",
       "3               NaN          NaN                   NaN                  NaN   \n",
       "4               NaN          NaN                   NaN                  NaN   \n",
       "\n",
       "  associatedTaxa       basisOfRecord behavior bibliographicCitation  \\\n",
       "0            NaN  PRESERVED_SPECIMEN      NaN                   NaN   \n",
       "1            NaN  PRESERVED_SPECIMEN      NaN                   NaN   \n",
       "2            NaN  PRESERVED_SPECIMEN      NaN                   NaN   \n",
       "3            NaN  PRESERVED_SPECIMEN      NaN                   NaN   \n",
       "4            NaN  PRESERVED_SPECIMEN      NaN                   NaN   \n",
       "\n",
       "              catalogNumber    class  ...   typifiedName  \\\n",
       "0                   BOMBUS5  Insecta  ...            NaN   \n",
       "1  Insect Collection 234943  Insecta  ...            NaN   \n",
       "2  Insect Collection 255802  Insecta  ...            NaN   \n",
       "3  Insect Collection 334996  Insecta  ...            NaN   \n",
       "4                    141753  Insecta  ...            NaN   \n",
       "\n",
       "  verbatimCoordinateSystem verbatimElevation verbatimEventDate  \\\n",
       "0                      NaN               NaN               NaN   \n",
       "1                      NaN               NaN               NaN   \n",
       "2                      NaN               NaN               NaN   \n",
       "3                      NaN               NaN               NaN   \n",
       "4                      NaN               NaN               NaN   \n",
       "\n",
       "   verbatimLocality verbatimSRS verbatimTaxonRank vernacularName  waterBody  \\\n",
       "0               NaN         NaN               NaN            NaN        NaN   \n",
       "1               NaN         NaN               NaN            NaN        NaN   \n",
       "2               NaN         NaN               NaN            NaN        NaN   \n",
       "3               NaN         NaN               NaN            NaN        NaN   \n",
       "4               NaN         NaN               NaN            NaN        NaN   \n",
       "\n",
       "   year  \n",
       "0  1952  \n",
       "1  1951  \n",
       "2  1952  \n",
       "3  1950  \n",
       "4  1953  \n",
       "\n",
       "[5 rows x 145 columns]"
      ]
     },
     "execution_count": 25,
     "metadata": {},
     "output_type": "execute_result"
    }
   ],
   "source": [
    "len(rec.data)\n",
    "test = pd.DataFrame(rec.data)\n",
    "test.head()"
   ]
  },
  {
   "cell_type": "code",
   "execution_count": 26,
   "metadata": {},
   "outputs": [
    {
     "data": {
      "text/plain": [
       "{'basisOfRecord': 'PRESERVED_SPECIMEN',\n",
       " 'catalogNumber': 'BOMBUS5',\n",
       " 'class': 'Insecta',\n",
       " 'classKey': 216,\n",
       " 'collectionCode': 'BBSL',\n",
       " 'country': 'United States',\n",
       " 'countryCode': 'US',\n",
       " 'county': 'Highlands',\n",
       " 'crawlId': 56,\n",
       " 'datasetKey': '8c04889e-a0ad-4f39-8623-06aa9cf0131d',\n",
       " 'day': 14,\n",
       " 'decimalLatitude': 27.18055,\n",
       " 'decimalLongitude': -81.35,\n",
       " 'eventDate': '1952-01-14T00:00:00.000+0000',\n",
       " 'extensions': {},\n",
       " 'facts': [],\n",
       " 'family': 'Apidae',\n",
       " 'familyKey': 4334,\n",
       " 'gbifID': '767145175',\n",
       " 'genericName': 'Bombus',\n",
       " 'genus': 'Bombus',\n",
       " 'genusKey': 1340278,\n",
       " 'geodeticDatum': 'WGS84',\n",
       " 'identifier': '767145175',\n",
       " 'identifiers': [],\n",
       " 'institutionCode': 'USDA-ARS',\n",
       " 'issues': ['GEODETIC_DATUM_ASSUMED_WGS84'],\n",
       " 'key': 767145175,\n",
       " 'kingdom': 'Animalia',\n",
       " 'kingdomKey': 1,\n",
       " 'lastCrawled': '2018-02-28T17:29:04.489+0000',\n",
       " 'lastInterpreted': '2018-02-28T17:33:38.989+0000',\n",
       " 'lastParsed': '2018-02-28T17:30:04.689+0000',\n",
       " 'license': 'http://creativecommons.org/licenses/by/4.0/legalcode',\n",
       " 'locality': 'Archbold B. Sta.',\n",
       " 'month': 1,\n",
       " 'order': 'Hymenoptera',\n",
       " 'orderKey': 1457,\n",
       " 'phylum': 'Arthropoda',\n",
       " 'phylumKey': 54,\n",
       " 'protocol': 'DWC_ARCHIVE',\n",
       " 'publishingCountry': 'US',\n",
       " 'publishingOrgKey': '1e26a630-7203-11dc-a0d8-b8a03c50a862',\n",
       " 'relations': [],\n",
       " 'scientificName': 'Bombus impatiens Cresson, 1863',\n",
       " 'species': 'Bombus impatiens',\n",
       " 'speciesKey': 1340350,\n",
       " 'specificEpithet': 'impatiens',\n",
       " 'stateProvince': 'Florida',\n",
       " 'taxonKey': 1340350,\n",
       " 'taxonRank': 'SPECIES',\n",
       " 'year': 1952}"
      ]
     },
     "execution_count": 26,
     "metadata": {},
     "output_type": "execute_result"
    }
   ],
   "source": [
    "rec.data[0]"
   ]
  },
  {
   "cell_type": "markdown",
   "metadata": {},
   "source": [
    "### Task 2: \n",
    "Once you have tested your Record class object in this notebook and it is working, copy it to a new `.py` file in a text editor and name it records.py, and put this in a new folder called `records/`. Then add an `__init__.py` file and a `setup.py` file and structure this directory so that it can be imported as a Python package. If you need a review on how to do this look back at lecture 5, and the assignment from that lecture (https://github.com/programming-for-bio/5-Packaging/blob/master/Notebooks/nb-5.2-packaging.ipynb). This will be very similar to the 'helloworld' package that we wrote. When you are finished, install the package with pip and try importing it like below. Then push the `records` folder as a new repo to your GitHub account named records.  "
   ]
  },
  {
   "cell_type": "code",
   "execution_count": null,
   "metadata": {},
   "outputs": [],
   "source": [
    "# import your library and access the Records class object from it\n",
    "import records\n",
    "rec = records.Records(\"Bombus\", interval(1990, 2000))\n"
   ]
  },
  {
   "cell_type": "markdown",
   "metadata": {},
   "source": [
    "### Task 3: \n",
    "I will post a working example on Friday so that you can *update or fix your code before the next class to ensure your code is working*. Then push your updated/fixed code to GitHub before the next class. You should hopefully be able to get it working, since you've done all of these tasks before. We are going to continue adding new functions to this library over the next two weeks, so if you get stuck on this assignment ask for help and try to keep up, because it will be very difficult if you get behind. "
   ]
  }
 ],
 "metadata": {
  "kernelspec": {
   "display_name": "Python 3",
   "language": "python",
   "name": "python3"
  },
  "language_info": {
   "codemirror_mode": {
    "name": "ipython",
    "version": 3
   },
   "file_extension": ".py",
   "mimetype": "text/x-python",
   "name": "python",
   "nbconvert_exporter": "python",
   "pygments_lexer": "ipython3",
   "version": "3.6.3"
  }
 },
 "nbformat": 4,
 "nbformat_minor": 2
}
